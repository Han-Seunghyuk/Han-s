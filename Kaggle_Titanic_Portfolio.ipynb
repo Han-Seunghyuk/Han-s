{
 "cells": [
  {
   "cell_type": "markdown",
   "metadata": {},
   "source": [
    "# Kaggle Titanic 생존자 예측"
   ]
  },
  {
   "cell_type": "markdown",
   "metadata": {},
   "source": [
    "## 주어진 데이터를 이용해 어떤 사람의 생존율이 높은지 확인하고 상위권 점수에 도전하겠습니다."
   ]
  },
  {
   "cell_type": "markdown",
   "metadata": {},
   "source": [
    "### 라이브러리 세팅"
   ]
  },
  {
   "cell_type": "code",
   "execution_count": 1,
   "metadata": {},
   "outputs": [],
   "source": [
    "import pandas as pd  #pandas는 분석용 라이브러리입니다.\n",
    "import seaborn as sns  #seaborn은 시각화 라이브러리입니다.\n",
    "import matplotlib.pyplot as plt  #matplotlib.pyplot은 시각화 보조 라이브러리입니다. 현재 파이썬 파일에서 시각화 자료를 보여주도록 matplotlib inline도 추가하겠습니다.\n",
    "%matplotlib inline  "
   ]
  },
  {
   "cell_type": "markdown",
   "metadata": {},
   "source": [
    "### 데이터 로드"
   ]
  },
  {
   "cell_type": "markdown",
   "metadata": {},
   "source": [
    "#### -머신러닝 알고리즘에 학습시킬 데이터인 training data"
   ]
  },
  {
   "cell_type": "code",
   "execution_count": 2,
   "metadata": {},
   "outputs": [
    {
     "name": "stdout",
     "output_type": "stream",
     "text": [
      "(891, 12)\n"
     ]
    },
    {
     "data": {
      "text/html": [
       "<div>\n",
       "<style scoped>\n",
       "    .dataframe tbody tr th:only-of-type {\n",
       "        vertical-align: middle;\n",
       "    }\n",
       "\n",
       "    .dataframe tbody tr th {\n",
       "        vertical-align: top;\n",
       "    }\n",
       "\n",
       "    .dataframe thead th {\n",
       "        text-align: right;\n",
       "    }\n",
       "</style>\n",
       "<table border=\"1\" class=\"dataframe\">\n",
       "  <thead>\n",
       "    <tr style=\"text-align: right;\">\n",
       "      <th></th>\n",
       "      <th>PassengerId</th>\n",
       "      <th>Survived</th>\n",
       "      <th>Pclass</th>\n",
       "      <th>Name</th>\n",
       "      <th>Sex</th>\n",
       "      <th>Age</th>\n",
       "      <th>SibSp</th>\n",
       "      <th>Parch</th>\n",
       "      <th>Ticket</th>\n",
       "      <th>Fare</th>\n",
       "      <th>Cabin</th>\n",
       "      <th>Embarked</th>\n",
       "    </tr>\n",
       "  </thead>\n",
       "  <tbody>\n",
       "    <tr>\n",
       "      <td>0</td>\n",
       "      <td>1</td>\n",
       "      <td>0</td>\n",
       "      <td>3</td>\n",
       "      <td>Braund, Mr. Owen Harris</td>\n",
       "      <td>male</td>\n",
       "      <td>22.0</td>\n",
       "      <td>1</td>\n",
       "      <td>0</td>\n",
       "      <td>A/5 21171</td>\n",
       "      <td>7.2500</td>\n",
       "      <td>NaN</td>\n",
       "      <td>S</td>\n",
       "    </tr>\n",
       "    <tr>\n",
       "      <td>1</td>\n",
       "      <td>2</td>\n",
       "      <td>1</td>\n",
       "      <td>1</td>\n",
       "      <td>Cumings, Mrs. John Bradley (Florence Briggs Th...</td>\n",
       "      <td>female</td>\n",
       "      <td>38.0</td>\n",
       "      <td>1</td>\n",
       "      <td>0</td>\n",
       "      <td>PC 17599</td>\n",
       "      <td>71.2833</td>\n",
       "      <td>C85</td>\n",
       "      <td>C</td>\n",
       "    </tr>\n",
       "    <tr>\n",
       "      <td>2</td>\n",
       "      <td>3</td>\n",
       "      <td>1</td>\n",
       "      <td>3</td>\n",
       "      <td>Heikkinen, Miss. Laina</td>\n",
       "      <td>female</td>\n",
       "      <td>26.0</td>\n",
       "      <td>0</td>\n",
       "      <td>0</td>\n",
       "      <td>STON/O2. 3101282</td>\n",
       "      <td>7.9250</td>\n",
       "      <td>NaN</td>\n",
       "      <td>S</td>\n",
       "    </tr>\n",
       "    <tr>\n",
       "      <td>3</td>\n",
       "      <td>4</td>\n",
       "      <td>1</td>\n",
       "      <td>1</td>\n",
       "      <td>Futrelle, Mrs. Jacques Heath (Lily May Peel)</td>\n",
       "      <td>female</td>\n",
       "      <td>35.0</td>\n",
       "      <td>1</td>\n",
       "      <td>0</td>\n",
       "      <td>113803</td>\n",
       "      <td>53.1000</td>\n",
       "      <td>C123</td>\n",
       "      <td>S</td>\n",
       "    </tr>\n",
       "    <tr>\n",
       "      <td>4</td>\n",
       "      <td>5</td>\n",
       "      <td>0</td>\n",
       "      <td>3</td>\n",
       "      <td>Allen, Mr. William Henry</td>\n",
       "      <td>male</td>\n",
       "      <td>35.0</td>\n",
       "      <td>0</td>\n",
       "      <td>0</td>\n",
       "      <td>373450</td>\n",
       "      <td>8.0500</td>\n",
       "      <td>NaN</td>\n",
       "      <td>S</td>\n",
       "    </tr>\n",
       "  </tbody>\n",
       "</table>\n",
       "</div>"
      ],
      "text/plain": [
       "   PassengerId  Survived  Pclass  \\\n",
       "0            1         0       3   \n",
       "1            2         1       1   \n",
       "2            3         1       3   \n",
       "3            4         1       1   \n",
       "4            5         0       3   \n",
       "\n",
       "                                                Name     Sex   Age  SibSp  \\\n",
       "0                            Braund, Mr. Owen Harris    male  22.0      1   \n",
       "1  Cumings, Mrs. John Bradley (Florence Briggs Th...  female  38.0      1   \n",
       "2                             Heikkinen, Miss. Laina  female  26.0      0   \n",
       "3       Futrelle, Mrs. Jacques Heath (Lily May Peel)  female  35.0      1   \n",
       "4                           Allen, Mr. William Henry    male  35.0      0   \n",
       "\n",
       "   Parch            Ticket     Fare Cabin Embarked  \n",
       "0      0         A/5 21171   7.2500   NaN        S  \n",
       "1      0          PC 17599  71.2833   C85        C  \n",
       "2      0  STON/O2. 3101282   7.9250   NaN        S  \n",
       "3      0            113803  53.1000  C123        S  \n",
       "4      0            373450   8.0500   NaN        S  "
      ]
     },
     "execution_count": 2,
     "metadata": {},
     "output_type": "execute_result"
    }
   ],
   "source": [
    "train = pd.read_csv('train.csv')  #train이라는 변수에 csv파일을 읽는 코드인 pd.read_csv를 이용해 train.csv 파일을 불러옵니다.\n",
    "print(train.shape)  #train.shape를 이용해 행과 열의 갯수를 파악합니다. train 데이터는 891개의 행과 12개의 열로 이루어져 있습니다.\n",
    "train.head()  #head()의 기능을 이용해 train데이터에서 가장 위에 있는 5개의 데이터를 불러옵니다."
   ]
  },
  {
   "cell_type": "markdown",
   "metadata": {},
   "source": [
    "#### -머신러닝 알고리즘으로 예측할 데이터인 test data"
   ]
  },
  {
   "cell_type": "code",
   "execution_count": 3,
   "metadata": {},
   "outputs": [
    {
     "name": "stdout",
     "output_type": "stream",
     "text": [
      "(418, 11)\n"
     ]
    },
    {
     "data": {
      "text/html": [
       "<div>\n",
       "<style scoped>\n",
       "    .dataframe tbody tr th:only-of-type {\n",
       "        vertical-align: middle;\n",
       "    }\n",
       "\n",
       "    .dataframe tbody tr th {\n",
       "        vertical-align: top;\n",
       "    }\n",
       "\n",
       "    .dataframe thead th {\n",
       "        text-align: right;\n",
       "    }\n",
       "</style>\n",
       "<table border=\"1\" class=\"dataframe\">\n",
       "  <thead>\n",
       "    <tr style=\"text-align: right;\">\n",
       "      <th></th>\n",
       "      <th>PassengerId</th>\n",
       "      <th>Pclass</th>\n",
       "      <th>Name</th>\n",
       "      <th>Sex</th>\n",
       "      <th>Age</th>\n",
       "      <th>SibSp</th>\n",
       "      <th>Parch</th>\n",
       "      <th>Ticket</th>\n",
       "      <th>Fare</th>\n",
       "      <th>Cabin</th>\n",
       "      <th>Embarked</th>\n",
       "    </tr>\n",
       "  </thead>\n",
       "  <tbody>\n",
       "    <tr>\n",
       "      <td>0</td>\n",
       "      <td>892</td>\n",
       "      <td>3</td>\n",
       "      <td>Kelly, Mr. James</td>\n",
       "      <td>male</td>\n",
       "      <td>34.5</td>\n",
       "      <td>0</td>\n",
       "      <td>0</td>\n",
       "      <td>330911</td>\n",
       "      <td>7.8292</td>\n",
       "      <td>NaN</td>\n",
       "      <td>Q</td>\n",
       "    </tr>\n",
       "    <tr>\n",
       "      <td>1</td>\n",
       "      <td>893</td>\n",
       "      <td>3</td>\n",
       "      <td>Wilkes, Mrs. James (Ellen Needs)</td>\n",
       "      <td>female</td>\n",
       "      <td>47.0</td>\n",
       "      <td>1</td>\n",
       "      <td>0</td>\n",
       "      <td>363272</td>\n",
       "      <td>7.0000</td>\n",
       "      <td>NaN</td>\n",
       "      <td>S</td>\n",
       "    </tr>\n",
       "    <tr>\n",
       "      <td>2</td>\n",
       "      <td>894</td>\n",
       "      <td>2</td>\n",
       "      <td>Myles, Mr. Thomas Francis</td>\n",
       "      <td>male</td>\n",
       "      <td>62.0</td>\n",
       "      <td>0</td>\n",
       "      <td>0</td>\n",
       "      <td>240276</td>\n",
       "      <td>9.6875</td>\n",
       "      <td>NaN</td>\n",
       "      <td>Q</td>\n",
       "    </tr>\n",
       "    <tr>\n",
       "      <td>3</td>\n",
       "      <td>895</td>\n",
       "      <td>3</td>\n",
       "      <td>Wirz, Mr. Albert</td>\n",
       "      <td>male</td>\n",
       "      <td>27.0</td>\n",
       "      <td>0</td>\n",
       "      <td>0</td>\n",
       "      <td>315154</td>\n",
       "      <td>8.6625</td>\n",
       "      <td>NaN</td>\n",
       "      <td>S</td>\n",
       "    </tr>\n",
       "    <tr>\n",
       "      <td>4</td>\n",
       "      <td>896</td>\n",
       "      <td>3</td>\n",
       "      <td>Hirvonen, Mrs. Alexander (Helga E Lindqvist)</td>\n",
       "      <td>female</td>\n",
       "      <td>22.0</td>\n",
       "      <td>1</td>\n",
       "      <td>1</td>\n",
       "      <td>3101298</td>\n",
       "      <td>12.2875</td>\n",
       "      <td>NaN</td>\n",
       "      <td>S</td>\n",
       "    </tr>\n",
       "  </tbody>\n",
       "</table>\n",
       "</div>"
      ],
      "text/plain": [
       "   PassengerId  Pclass                                          Name     Sex  \\\n",
       "0          892       3                              Kelly, Mr. James    male   \n",
       "1          893       3              Wilkes, Mrs. James (Ellen Needs)  female   \n",
       "2          894       2                     Myles, Mr. Thomas Francis    male   \n",
       "3          895       3                              Wirz, Mr. Albert    male   \n",
       "4          896       3  Hirvonen, Mrs. Alexander (Helga E Lindqvist)  female   \n",
       "\n",
       "    Age  SibSp  Parch   Ticket     Fare Cabin Embarked  \n",
       "0  34.5      0      0   330911   7.8292   NaN        Q  \n",
       "1  47.0      1      0   363272   7.0000   NaN        S  \n",
       "2  62.0      0      0   240276   9.6875   NaN        Q  \n",
       "3  27.0      0      0   315154   8.6625   NaN        S  \n",
       "4  22.0      1      1  3101298  12.2875   NaN        S  "
      ]
     },
     "execution_count": 3,
     "metadata": {},
     "output_type": "execute_result"
    }
   ],
   "source": [
    "test = pd.read_csv('test.csv')  #test라는 변수에 csv파일을 읽는 코드인 pd.read_csv를 이용해 test.csv 파일을 불러옵니다.\n",
    "print(test.shape)  #test.shape를 이용해 행과 열의 갯수를 파악합니다. test 데이터는 418개의 행과 11개의 열로 이루어져 있습니다.\n",
    "test.head()  #head()의 기능을 이용해 test데이터에서 가장 위에 있는 5개의 데이터를 불러옵니다."
   ]
  },
  {
   "cell_type": "markdown",
   "metadata": {},
   "source": [
    "### 컬럼(열) 설명"
   ]
  },
  {
   "cell_type": "markdown",
   "metadata": {},
   "source": [
    "PassengerId = 승객번호 \\\n",
    "Survivied = 생존 여부(1이면 생존, 0이면 사망) \\\n",
    "Pclass = 티켓 등급(1은 1등급(First), 2는 2등급(Business), 3은 3등급(Economy)) \\\n",
    "Name = 승객 이름 \\\n",
    "Sex = 성별 \\\n",
    "Age = 나이 \\\n",
    "SisSp = 동승한 형제/자매 및 배우자 수 \\\n",
    "Parch = 동승한 부모 및 자녀 수 \\\n",
    "Ticket = 티켓 번호 \\\n",
    "Fare = 운임 요금 \\\n",
    "Cabin = 객실 번호 \\\n",
    "Embarked = 선착장(C는 셰르부르(Cherbourg)라는 프랑스 지역, Q는 퀸스타운(Queenstown)이라는 영국 지역, S는 사우스햄튼(Southampton)이라는 영국 지역)"
   ]
  },
  {
   "cell_type": "markdown",
   "metadata": {},
   "source": [
    "### 탐험적 데이터 분석"
   ]
  },
  {
   "cell_type": "markdown",
   "metadata": {},
   "source": [
    "#### Sex 성별 생존자 분석"
   ]
  },
  {
   "cell_type": "code",
   "execution_count": 4,
   "metadata": {},
   "outputs": [
    {
     "data": {
      "text/plain": [
       "<matplotlib.axes._subplots.AxesSubplot at 0x1bd6732cd08>"
      ]
     },
     "execution_count": 4,
     "metadata": {},
     "output_type": "execute_result"
    },
    {
     "data": {
      "image/png": "[encoded data removed]",
      "text/plain": [
       "<Figure size 432x288 with 1 Axes>"
      ]
     },
     "metadata": {
      "needs_background": "light"
     },
     "output_type": "display_data"
    }
   ],
   "source": [
    "sns.countplot(data = train, x = 'Sex') #seaborn의 countplot을 이용해 성별 탑승자 수를 확인해 보겠습니다.\n",
    "                                       #남성은 약 580명 여성은 약 300명이 탑승한 것을 알 수 있습니다."
   ]
  },
  {
   "cell_type": "code",
   "execution_count": 5,
   "metadata": {},
   "outputs": [
    {
     "data": {
      "text/plain": [
       "<matplotlib.axes._subplots.AxesSubplot at 0x1bd688a6488>"
      ]
     },
     "execution_count": 5,
     "metadata": {},
     "output_type": "execute_result"
    },
    {
     "data": {
      "image/png": "[encoded data removed]",
      "text/plain": [
       "<Figure size 432x288 with 1 Axes>"
      ]
     },
     "metadata": {
      "needs_background": "light"
     },
     "output_type": "display_data"
    }
   ],
   "source": [
    "sns.countplot(data = train, x = 'Sex', hue = 'Survived') #seaborn의 countplot을 이용해 성별 생존자 수를 확인해 보겠습니다.\n",
    "                                                         #남성은 약 100명이 생존, 여성은 약 200명이 생존한 것을 알 수 있습니다."
   ]
  },
  {
   "cell_type": "code",
   "execution_count": 6,
   "metadata": {},
   "outputs": [
    {
     "data": {
      "text/html": [
       "<div>\n",
       "<style scoped>\n",
       "    .dataframe tbody tr th:only-of-type {\n",
       "        vertical-align: middle;\n",
       "    }\n",
       "\n",
       "    .dataframe tbody tr th {\n",
       "        vertical-align: top;\n",
       "    }\n",
       "\n",
       "    .dataframe thead th {\n",
       "        text-align: right;\n",
       "    }\n",
       "</style>\n",
       "<table border=\"1\" class=\"dataframe\">\n",
       "  <thead>\n",
       "    <tr style=\"text-align: right;\">\n",
       "      <th></th>\n",
       "      <th>Survived</th>\n",
       "    </tr>\n",
       "    <tr>\n",
       "      <th>Sex</th>\n",
       "      <th></th>\n",
       "    </tr>\n",
       "  </thead>\n",
       "  <tbody>\n",
       "    <tr>\n",
       "      <td>female</td>\n",
       "      <td>0.742038</td>\n",
       "    </tr>\n",
       "    <tr>\n",
       "      <td>male</td>\n",
       "      <td>0.188908</td>\n",
       "    </tr>\n",
       "  </tbody>\n",
       "</table>\n",
       "</div>"
      ],
      "text/plain": [
       "        Survived\n",
       "Sex             \n",
       "female  0.742038\n",
       "male    0.188908"
      ]
     },
     "execution_count": 6,
     "metadata": {},
     "output_type": "execute_result"
    }
   ],
   "source": [
    "pd.pivot_table(train, index = 'Sex', values = 'Survived') #피봇테이블을 이용해 성별 생존율을 확인해 보겠습니다.\n",
    "                                                          #여성은 약 74%, 남성은 약 19%의 생존율인 것을 알 수 있습니다."
   ]
  },
  {
   "cell_type": "markdown",
   "metadata": {},
   "source": [
    "분석결과 남성에 비해 여성의 생존율이 높은 것을 알 수 있습니다."
   ]
  },
  {
   "cell_type": "markdown",
   "metadata": {},
   "source": [
    "#### Pclass 객실 등급별 생존자 분석"
   ]
  },
  {
   "cell_type": "code",
   "execution_count": 7,
   "metadata": {},
   "outputs": [
    {
     "data": {
      "text/plain": [
       "<matplotlib.axes._subplots.AxesSubplot at 0x1bd6892b8c8>"
      ]
     },
     "execution_count": 7,
     "metadata": {},
     "output_type": "execute_result"
    },
    {
     "data": {
      "image/png": "[encoded data removed]",
      "text/plain": [
       "<Figure size 432x288 with 1 Axes>"
      ]
     },
     "metadata": {
      "needs_background": "light"
     },
     "output_type": "display_data"
    }
   ],
   "source": [
    "sns.countplot(data = train, x = 'Pclass')  #seaborn의 countplot을 이용해 Pclass별 탑승자 수를 확인해 보겠습니다.\n",
    "                                           #3등급에 약 480명, 2등급에 약 180명, 1등급에 약 210명이 탑승한 것을 알 수 있습니다."
   ]
  },
  {
   "cell_type": "code",
   "execution_count": 9,
   "metadata": {},
   "outputs": [
    {
     "data": {
      "text/plain": [
       "<matplotlib.axes._subplots.AxesSubplot at 0x1bd6899d7c8>"
      ]
     },
     "execution_count": 9,
     "metadata": {},
     "output_type": "execute_result"
    },
    {
     "data": {
      "image/png": "[encoded data removed]",
      "text/plain": [
       "<Figure size 432x288 with 1 Axes>"
      ]
     },
     "metadata": {
      "needs_background": "light"
     },
     "output_type": "display_data"
    }
   ],
   "source": [
    "sns.countplot(data = train, x = 'Pclass', hue = 'Survived')  #seaborn의 countplot을 이용해 Pclass별 생존자 수를 확인해 보겠습니다.\n",
    "                                                             #1등급에서는 약 130명, 2등급에서는 약 80명, 3등급에서는 약 110명이 생존한 것을 알 수 있습니다."
   ]
  },
  {
   "cell_type": "code",
   "execution_count": 8,
   "metadata": {},
   "outputs": [
    {
     "data": {
      "text/html": [
       "<div>\n",
       "<style scoped>\n",
       "    .dataframe tbody tr th:only-of-type {\n",
       "        vertical-align: middle;\n",
       "    }\n",
       "\n",
       "    .dataframe tbody tr th {\n",
       "        vertical-align: top;\n",
       "    }\n",
       "\n",
       "    .dataframe thead th {\n",
       "        text-align: right;\n",
       "    }\n",
       "</style>\n",
       "<table border=\"1\" class=\"dataframe\">\n",
       "  <thead>\n",
       "    <tr style=\"text-align: right;\">\n",
       "      <th></th>\n",
       "      <th>Survived</th>\n",
       "    </tr>\n",
       "    <tr>\n",
       "      <th>Pclass</th>\n",
       "      <th></th>\n",
       "    </tr>\n",
       "  </thead>\n",
       "  <tbody>\n",
       "    <tr>\n",
       "      <td>1</td>\n",
       "      <td>0.629630</td>\n",
       "    </tr>\n",
       "    <tr>\n",
       "      <td>2</td>\n",
       "      <td>0.472826</td>\n",
       "    </tr>\n",
       "    <tr>\n",
       "      <td>3</td>\n",
       "      <td>0.242363</td>\n",
       "    </tr>\n",
       "  </tbody>\n",
       "</table>\n",
       "</div>"
      ],
      "text/plain": [
       "        Survived\n",
       "Pclass          \n",
       "1       0.629630\n",
       "2       0.472826\n",
       "3       0.242363"
      ]
     },
     "execution_count": 8,
     "metadata": {},
     "output_type": "execute_result"
    }
   ],
   "source": [
    "pd.pivot_table(train, index = 'Pclass', values = 'Survived')  #피봇테이블을 이용해 Pclass별 생존율을 확인해 보겠습니다.\n",
    "                                                              #1등급은 약 62%, 2등급은 약 47%, 3등급은 약 24%의 생존율인 것을 알 수 있습니다."
   ]
  },
  {
   "cell_type": "markdown",
   "metadata": {},
   "source": [
    "분석 결과 객실 등급이 높을수록 생존율이 높아지는 것을 알 수 있습니다."
   ]
  },
  {
   "cell_type": "markdown",
   "metadata": {},
   "source": [
    "#### Embarked 선착장별 생존자 분석"
   ]
  },
  {
   "cell_type": "code",
   "execution_count": 10,
   "metadata": {},
   "outputs": [
    {
     "data": {
      "text/plain": [
       "<matplotlib.axes._subplots.AxesSubplot at 0x1bd68a185c8>"
      ]
     },
     "execution_count": 10,
     "metadata": {},
     "output_type": "execute_result"
    },
    {
     "data": {
      "image/png": "[encoded data removed]",
      "text/plain": [
       "<Figure size 432x288 with 1 Axes>"
      ]
     },
     "metadata": {
      "needs_background": "light"
     },
     "output_type": "display_data"
    }
   ],
   "source": [
    "sns.countplot(data = train, x = 'Embarked')  #seaborn의 countplot을 이용해 Embarked별 탑승자 수를 확인해 보겠습니다.\n",
    "                                             #S에서는 약 630명, C에서는 약 150명, Q에서는 약 80명이 탑승한 것을 알 수 있습니다."
   ]
  },
  {
   "cell_type": "code",
   "execution_count": 11,
   "metadata": {},
   "outputs": [
    {
     "data": {
      "text/plain": [
       "<matplotlib.axes._subplots.AxesSubplot at 0x1bd68a7ef88>"
      ]
     },
     "execution_count": 11,
     "metadata": {},
     "output_type": "execute_result"
    },
    {
     "data": {
      "image/png": "[encoded data removed]",
      "text/plain": [
       "<Figure size 432x288 with 1 Axes>"
      ]
     },
     "metadata": {
      "needs_background": "light"
     },
     "output_type": "display_data"
    }
   ],
   "source": [
    "sns.countplot(data = train, x = 'Embarked', hue = 'Survived')  #seaborn의 countplot을 이용해 Embarked별 생존자 수를 확인해 보겠습니다.\n",
    "                                                               #S에서는 약 200명, C에서는 약 70명, Q에서는 약 30명이 생존한 것을 알 수 있습니다."
   ]
  },
  {
   "cell_type": "code",
   "execution_count": 12,
   "metadata": {},
   "outputs": [
    {
     "data": {
      "text/html": [
       "<div>\n",
       "<style scoped>\n",
       "    .dataframe tbody tr th:only-of-type {\n",
       "        vertical-align: middle;\n",
       "    }\n",
       "\n",
       "    .dataframe tbody tr th {\n",
       "        vertical-align: top;\n",
       "    }\n",
       "\n",
       "    .dataframe thead th {\n",
       "        text-align: right;\n",
       "    }\n",
       "</style>\n",
       "<table border=\"1\" class=\"dataframe\">\n",
       "  <thead>\n",
       "    <tr style=\"text-align: right;\">\n",
       "      <th></th>\n",
       "      <th>Survived</th>\n",
       "    </tr>\n",
       "    <tr>\n",
       "      <th>Embarked</th>\n",
       "      <th></th>\n",
       "    </tr>\n",
       "  </thead>\n",
       "  <tbody>\n",
       "    <tr>\n",
       "      <td>C</td>\n",
       "      <td>0.553571</td>\n",
       "    </tr>\n",
       "    <tr>\n",
       "      <td>Q</td>\n",
       "      <td>0.389610</td>\n",
       "    </tr>\n",
       "    <tr>\n",
       "      <td>S</td>\n",
       "      <td>0.336957</td>\n",
       "    </tr>\n",
       "  </tbody>\n",
       "</table>\n",
       "</div>"
      ],
      "text/plain": [
       "          Survived\n",
       "Embarked          \n",
       "C         0.553571\n",
       "Q         0.389610\n",
       "S         0.336957"
      ]
     },
     "execution_count": 12,
     "metadata": {},
     "output_type": "execute_result"
    }
   ],
   "source": [
    "pd.pivot_table(train, index = 'Embarked', values = 'Survived')  #피봇테이블을 이용해 Embarked별 생존율을 확인해 보겠습니다.\n",
    "                                                                #C에서는 약 55%, Q에서는 약 39%, S에서는 약 34%의 생존율을 확인할 수 있습니다."
   ]
  },
  {
   "cell_type": "markdown",
   "metadata": {},
   "source": [
    "분석 결과 C, Q, S 순으로 생존율이 높은 것을 알 수 있습니다."
   ]
  },
  {
   "cell_type": "markdown",
   "metadata": {},
   "source": [
    "#### SibSp와 Parch를 이용한 생존자 분석"
   ]
  },
  {
   "cell_type": "markdown",
   "metadata": {},
   "source": [
    "SibSp가 동승한 형제/자매 및 배우자 수를 의미하고 Parch가 동승한 부모 및 자녀 수를 의미하기 때문에 여기에 해당 승객을 합치면 총 가족수가 된다는 사실을 알 수 있습니다. 따라서 총 가족 수를 의미하는 변수를 만들어 분석해 보도록 하겠습니다."
   ]
  },
  {
   "cell_type": "code",
   "execution_count": 13,
   "metadata": {},
   "outputs": [],
   "source": [
    "train['Family_size'] = train['SibSp'] + train['Parch'] + 1 "
   ]
  },
  {
   "cell_type": "code",
   "execution_count": 14,
   "metadata": {},
   "outputs": [],
   "source": [
    "test['Family_size'] = test['SibSp'] + test['Parch'] + 1"
   ]
  },
  {
   "cell_type": "code",
   "execution_count": 15,
   "metadata": {},
   "outputs": [
    {
     "data": {
      "text/html": [
       "<div>\n",
       "<style scoped>\n",
       "    .dataframe tbody tr th:only-of-type {\n",
       "        vertical-align: middle;\n",
       "    }\n",
       "\n",
       "    .dataframe tbody tr th {\n",
       "        vertical-align: top;\n",
       "    }\n",
       "\n",
       "    .dataframe thead th {\n",
       "        text-align: right;\n",
       "    }\n",
       "</style>\n",
       "<table border=\"1\" class=\"dataframe\">\n",
       "  <thead>\n",
       "    <tr style=\"text-align: right;\">\n",
       "      <th></th>\n",
       "      <th>SibSp</th>\n",
       "      <th>Parch</th>\n",
       "      <th>Family_size</th>\n",
       "    </tr>\n",
       "  </thead>\n",
       "  <tbody>\n",
       "    <tr>\n",
       "      <td>0</td>\n",
       "      <td>1</td>\n",
       "      <td>0</td>\n",
       "      <td>2</td>\n",
       "    </tr>\n",
       "    <tr>\n",
       "      <td>1</td>\n",
       "      <td>1</td>\n",
       "      <td>0</td>\n",
       "      <td>2</td>\n",
       "    </tr>\n",
       "    <tr>\n",
       "      <td>2</td>\n",
       "      <td>0</td>\n",
       "      <td>0</td>\n",
       "      <td>1</td>\n",
       "    </tr>\n",
       "    <tr>\n",
       "      <td>3</td>\n",
       "      <td>1</td>\n",
       "      <td>0</td>\n",
       "      <td>2</td>\n",
       "    </tr>\n",
       "    <tr>\n",
       "      <td>4</td>\n",
       "      <td>0</td>\n",
       "      <td>0</td>\n",
       "      <td>1</td>\n",
       "    </tr>\n",
       "  </tbody>\n",
       "</table>\n",
       "</div>"
      ],
      "text/plain": [
       "   SibSp  Parch  Family_size\n",
       "0      1      0            2\n",
       "1      1      0            2\n",
       "2      0      0            1\n",
       "3      1      0            2\n",
       "4      0      0            1"
      ]
     },
     "execution_count": 15,
     "metadata": {},
     "output_type": "execute_result"
    }
   ],
   "source": [
    "train[['SibSp', 'Parch', 'Family_size']].head() #이렇게 변수가 제대로 생성된 것을 확인할 수 있습니다."
   ]
  },
  {
   "cell_type": "code",
   "execution_count": 16,
   "metadata": {},
   "outputs": [
    {
     "data": {
      "text/plain": [
       "<matplotlib.axes._subplots.AxesSubplot at 0x1bd68b44508>"
      ]
     },
     "execution_count": 16,
     "metadata": {},
     "output_type": "execute_result"
    },
    {
     "data": {
      "image/png": "[encoded data removed]",
      "text/plain": [
       "<Figure size 432x288 with 1 Axes>"
      ]
     },
     "metadata": {
      "needs_background": "light"
     },
     "output_type": "display_data"
    }
   ],
   "source": [
    "sns.countplot(data = train, x = 'Family_size')  #seaborn의 countplot을 이용해 Family_size별 탑승자 수를 확인해 보겠습니다.\n",
    "                                                #혼자 탄 승객이 가장 많고 4명이하의 가족 형태와 5명이상의 가족 형태도 있는 것을 알 수 있습니다."
   ]
  },
  {
   "cell_type": "code",
   "execution_count": 17,
   "metadata": {},
   "outputs": [
    {
     "data": {
      "text/plain": [
       "<matplotlib.axes._subplots.AxesSubplot at 0x1bd68bcaac8>"
      ]
     },
     "execution_count": 17,
     "metadata": {},
     "output_type": "execute_result"
    },
    {
     "data": {
      "image/png": "[encoded data removed]",
      "text/plain": [
       "<Figure size 432x288 with 1 Axes>"
      ]
     },
     "metadata": {
      "needs_background": "light"
     },
     "output_type": "display_data"
    }
   ],
   "source": [
    "sns.countplot(data = train, x = 'Family_size', hue = 'Survived')  #seaborn의 countplot을 이용해 Family_size별 생존자 수를 확인해 보겠습니다.\n",
    "                                                                  #생존율을 보면 2~4인 가족 형태의 생존율이 가장 높은 것을 알 수 있습니다."
   ]
  },
  {
   "cell_type": "markdown",
   "metadata": {},
   "source": [
    "조금 더 보기 좋게 독신, 핵가족, 대가족의 형태로 나누어 보겠습니다."
   ]
  },
  {
   "cell_type": "code",
   "execution_count": 18,
   "metadata": {},
   "outputs": [],
   "source": [
    "def family_type(i):        #가족 형태를 나누기 편하게 함수를 정의해 적용해 보겠습니다.\n",
    "    if i == 1:             #Family_size가 1이면 Single로 출력하라는 코드입니다.\n",
    "        return 'Single'\n",
    "    elif i > 1 and i < 5:  #Family_size가 2~4이면 Nuclear로 출력하라는 코드입니다.\n",
    "        return 'Nuclear'\n",
    "    else:                  #그 이외는 Big으로 출력하라는 코드입니다.\n",
    "        return 'Big'"
   ]
  },
  {
   "cell_type": "code",
   "execution_count": 19,
   "metadata": {},
   "outputs": [],
   "source": [
    "train['Family_type'] = train['Family_size'].apply(family_type)  #위에서 정의한 함수를 적용해 가족 형태 변수를 만듭니다."
   ]
  },
  {
   "cell_type": "code",
   "execution_count": 20,
   "metadata": {},
   "outputs": [],
   "source": [
    "test['Family_type'] = test['Family_size'].apply(family_type)   #test 데이터에도 똑같이 적용을 해줍니다."
   ]
  },
  {
   "cell_type": "code",
   "execution_count": 21,
   "metadata": {},
   "outputs": [
    {
     "data": {
      "text/html": [
       "<div>\n",
       "<style scoped>\n",
       "    .dataframe tbody tr th:only-of-type {\n",
       "        vertical-align: middle;\n",
       "    }\n",
       "\n",
       "    .dataframe tbody tr th {\n",
       "        vertical-align: top;\n",
       "    }\n",
       "\n",
       "    .dataframe thead th {\n",
       "        text-align: right;\n",
       "    }\n",
       "</style>\n",
       "<table border=\"1\" class=\"dataframe\">\n",
       "  <thead>\n",
       "    <tr style=\"text-align: right;\">\n",
       "      <th></th>\n",
       "      <th>Family_size</th>\n",
       "      <th>Family_type</th>\n",
       "    </tr>\n",
       "  </thead>\n",
       "  <tbody>\n",
       "    <tr>\n",
       "      <td>0</td>\n",
       "      <td>2</td>\n",
       "      <td>Nuclear</td>\n",
       "    </tr>\n",
       "    <tr>\n",
       "      <td>1</td>\n",
       "      <td>2</td>\n",
       "      <td>Nuclear</td>\n",
       "    </tr>\n",
       "    <tr>\n",
       "      <td>2</td>\n",
       "      <td>1</td>\n",
       "      <td>Single</td>\n",
       "    </tr>\n",
       "    <tr>\n",
       "      <td>3</td>\n",
       "      <td>2</td>\n",
       "      <td>Nuclear</td>\n",
       "    </tr>\n",
       "    <tr>\n",
       "      <td>4</td>\n",
       "      <td>1</td>\n",
       "      <td>Single</td>\n",
       "    </tr>\n",
       "  </tbody>\n",
       "</table>\n",
       "</div>"
      ],
      "text/plain": [
       "   Family_size Family_type\n",
       "0            2     Nuclear\n",
       "1            2     Nuclear\n",
       "2            1      Single\n",
       "3            2     Nuclear\n",
       "4            1      Single"
      ]
     },
     "execution_count": 21,
     "metadata": {},
     "output_type": "execute_result"
    }
   ],
   "source": [
    "train[['Family_size', 'Family_type']].head() #함수 적용이 제대로 된 것을 확인할 수 있습니다."
   ]
  },
  {
   "cell_type": "markdown",
   "metadata": {},
   "source": [
    "그 다음 가족 형태별 생존율을 확인해 보겠습니다."
   ]
  },
  {
   "cell_type": "code",
   "execution_count": 22,
   "metadata": {},
   "outputs": [
    {
     "data": {
      "text/html": [
       "<div>\n",
       "<style scoped>\n",
       "    .dataframe tbody tr th:only-of-type {\n",
       "        vertical-align: middle;\n",
       "    }\n",
       "\n",
       "    .dataframe tbody tr th {\n",
       "        vertical-align: top;\n",
       "    }\n",
       "\n",
       "    .dataframe thead th {\n",
       "        text-align: right;\n",
       "    }\n",
       "</style>\n",
       "<table border=\"1\" class=\"dataframe\">\n",
       "  <thead>\n",
       "    <tr style=\"text-align: right;\">\n",
       "      <th></th>\n",
       "      <th>Survived</th>\n",
       "    </tr>\n",
       "    <tr>\n",
       "      <th>Family_type</th>\n",
       "      <th></th>\n",
       "    </tr>\n",
       "  </thead>\n",
       "  <tbody>\n",
       "    <tr>\n",
       "      <td>Big</td>\n",
       "      <td>0.161290</td>\n",
       "    </tr>\n",
       "    <tr>\n",
       "      <td>Nuclear</td>\n",
       "      <td>0.578767</td>\n",
       "    </tr>\n",
       "    <tr>\n",
       "      <td>Single</td>\n",
       "      <td>0.303538</td>\n",
       "    </tr>\n",
       "  </tbody>\n",
       "</table>\n",
       "</div>"
      ],
      "text/plain": [
       "             Survived\n",
       "Family_type          \n",
       "Big          0.161290\n",
       "Nuclear      0.578767\n",
       "Single       0.303538"
      ]
     },
     "execution_count": 22,
     "metadata": {},
     "output_type": "execute_result"
    }
   ],
   "source": [
    "pd.pivot_table(train, index = 'Family_type', values = 'Survived')  #독신은 약 30%, 핵가족은 약 58%, 대가족은 약 16%의 생존율인 것을 알 수 있습니다."
   ]
  },
  {
   "cell_type": "markdown",
   "metadata": {},
   "source": [
    "분석 결과 총 가족 수가 2~4명인 핵가족의 생존율이 가장 높은 것을 알 수 있습니다."
   ]
  },
  {
   "cell_type": "markdown",
   "metadata": {},
   "source": [
    "#### Name 이름을 이용한 생존자 분석"
   ]
  },
  {
   "cell_type": "markdown",
   "metadata": {},
   "source": [
    "단순히 이름만 가지고 생존자 분석을 하는 데에는 문제가 있지만, 이름을 자세히 살펴보면 소스가 될만한 것이 있습니다. 이름을 살펴보겠습니다."
   ]
  },
  {
   "cell_type": "code",
   "execution_count": 23,
   "metadata": {},
   "outputs": [
    {
     "data": {
      "text/plain": [
       "0                              Braund, Mr. Owen Harris\n",
       "1    Cumings, Mrs. John Bradley (Florence Briggs Th...\n",
       "2                               Heikkinen, Miss. Laina\n",
       "3         Futrelle, Mrs. Jacques Heath (Lily May Peel)\n",
       "4                             Allen, Mr. William Henry\n",
       "Name: Name, dtype: object"
      ]
     },
     "execution_count": 23,
     "metadata": {},
     "output_type": "execute_result"
    }
   ],
   "source": [
    "train['Name'].head()"
   ]
  },
  {
   "cell_type": "markdown",
   "metadata": {},
   "source": [
    "이름 중간에는 성별과 혼인 여부를 알 수 있는 호칭이 있어 소스로 사용할 수 있을 것 같습니다. 그럼 호칭만 따로 추출한 변수를 만들어 보겠습니다."
   ]
  },
  {
   "cell_type": "code",
   "execution_count": 24,
   "metadata": {},
   "outputs": [],
   "source": [
    "def title(i):                               #이름에서 호칭만 추출할 함수를 정의해 주겠습니다.\n",
    "    return i.split(', ')[1].split('.')[0]  #split을 이용해 Name에서 ,와 .을 기준으로 나눠주겠습니다."
   ]
  },
  {
   "cell_type": "code",
   "execution_count": 25,
   "metadata": {},
   "outputs": [],
   "source": [
    "train['Title'] = train['Name'].apply(title) #위에서 정의한 함수를 적용해 줍니다."
   ]
  },
  {
   "cell_type": "code",
   "execution_count": 26,
   "metadata": {},
   "outputs": [],
   "source": [
    "test['Title'] = test['Name'].apply(title)  #test 데이터에도 같이 적용해 줍니다."
   ]
  },
  {
   "cell_type": "code",
   "execution_count": 27,
   "metadata": {},
   "outputs": [
    {
     "data": {
      "text/html": [
       "<div>\n",
       "<style scoped>\n",
       "    .dataframe tbody tr th:only-of-type {\n",
       "        vertical-align: middle;\n",
       "    }\n",
       "\n",
       "    .dataframe tbody tr th {\n",
       "        vertical-align: top;\n",
       "    }\n",
       "\n",
       "    .dataframe thead th {\n",
       "        text-align: right;\n",
       "    }\n",
       "</style>\n",
       "<table border=\"1\" class=\"dataframe\">\n",
       "  <thead>\n",
       "    <tr style=\"text-align: right;\">\n",
       "      <th></th>\n",
       "      <th>Name</th>\n",
       "      <th>Title</th>\n",
       "    </tr>\n",
       "  </thead>\n",
       "  <tbody>\n",
       "    <tr>\n",
       "      <td>0</td>\n",
       "      <td>Braund, Mr. Owen Harris</td>\n",
       "      <td>Mr</td>\n",
       "    </tr>\n",
       "    <tr>\n",
       "      <td>1</td>\n",
       "      <td>Cumings, Mrs. John Bradley (Florence Briggs Th...</td>\n",
       "      <td>Mrs</td>\n",
       "    </tr>\n",
       "    <tr>\n",
       "      <td>2</td>\n",
       "      <td>Heikkinen, Miss. Laina</td>\n",
       "      <td>Miss</td>\n",
       "    </tr>\n",
       "    <tr>\n",
       "      <td>3</td>\n",
       "      <td>Futrelle, Mrs. Jacques Heath (Lily May Peel)</td>\n",
       "      <td>Mrs</td>\n",
       "    </tr>\n",
       "    <tr>\n",
       "      <td>4</td>\n",
       "      <td>Allen, Mr. William Henry</td>\n",
       "      <td>Mr</td>\n",
       "    </tr>\n",
       "  </tbody>\n",
       "</table>\n",
       "</div>"
      ],
      "text/plain": [
       "                                                Name Title\n",
       "0                            Braund, Mr. Owen Harris    Mr\n",
       "1  Cumings, Mrs. John Bradley (Florence Briggs Th...   Mrs\n",
       "2                             Heikkinen, Miss. Laina  Miss\n",
       "3       Futrelle, Mrs. Jacques Heath (Lily May Peel)   Mrs\n",
       "4                           Allen, Mr. William Henry    Mr"
      ]
     },
     "execution_count": 27,
     "metadata": {},
     "output_type": "execute_result"
    }
   ],
   "source": [
    "train[['Name', 'Title']].head()  #함수가 제대로 적용된 것을 확인할 수 있습니다."
   ]
  },
  {
   "cell_type": "code",
   "execution_count": 28,
   "metadata": {},
   "outputs": [
    {
     "data": {
      "text/plain": [
       "<matplotlib.axes._subplots.AxesSubplot at 0x1bd68ca4ac8>"
      ]
     },
     "execution_count": 28,
     "metadata": {},
     "output_type": "execute_result"
    },
    {
     "data": {
      "image/png": "[encoded data removed]",
      "text/plain": [
       "<Figure size 1440x288 with 1 Axes>"
      ]
     },
     "metadata": {
      "needs_background": "light"
     },
     "output_type": "display_data"
    }
   ],
   "source": [
    "plt.figure(figsize = (20, 4))  #matplotlib.pyplot을 이용해 시각화 그래프의 크기를 조절해 주겠습니다.\n",
    "sns.countplot(data = train, x = 'Title') #seaborn의 countplot을 이용해 Title별 탑승자 수를 확인해 보겠습니다.\n",
    "                                         #기혼 남성인 Mr가 약 510명, 미혼 남성인 Master가 약 40명\n",
    "                                         #기혼 여성인 Mrs가 약 120명, 미혼 여성인 Miss가 약 170명이 탑승한 것을 알 수 있습니다."
   ]
  },
  {
   "cell_type": "code",
   "execution_count": 29,
   "metadata": {},
   "outputs": [
    {
     "data": {
      "text/plain": [
       "<matplotlib.axes._subplots.AxesSubplot at 0x1bd68ee2788>"
      ]
     },
     "execution_count": 29,
     "metadata": {},
     "output_type": "execute_result"
    },
    {
     "data": {
      "image/png": "[encoded data removed]",
      "text/plain": [
       "<Figure size 1440x288 with 1 Axes>"
      ]
     },
     "metadata": {
      "needs_background": "light"
     },
     "output_type": "display_data"
    }
   ],
   "source": [
    "plt.figure(figsize = (20, 4))  #matplotlib.pyplot을 이용해 시각화 그래프의 크기를 조절해 주겠습니다.\n",
    "sns.countplot(data = train, x = 'Title', hue = 'Survived')  #seaborn의 countplot을 이용해 Title별 생존자 수를 확인해 보겠습니다.\n",
    "                                                            #여성의 생존자 수가 많고 남성의 생존자 수가 적은 것을 알 수 있습니다."
   ]
  },
  {
   "cell_type": "markdown",
   "metadata": {},
   "source": [
    "Mr, Mrs, Miss, Master를 제외한 호칭은 데이터 수가 너무 적기 때문에 분석시 혼란을 야기할 수 있으므로 4가지 호칭으로만 확인해 보겠습니다."
   ]
  },
  {
   "cell_type": "code",
   "execution_count": 30,
   "metadata": {},
   "outputs": [
    {
     "data": {
      "text/html": [
       "<div>\n",
       "<style scoped>\n",
       "    .dataframe tbody tr th:only-of-type {\n",
       "        vertical-align: middle;\n",
       "    }\n",
       "\n",
       "    .dataframe tbody tr th {\n",
       "        vertical-align: top;\n",
       "    }\n",
       "\n",
       "    .dataframe thead th {\n",
       "        text-align: right;\n",
       "    }\n",
       "</style>\n",
       "<table border=\"1\" class=\"dataframe\">\n",
       "  <thead>\n",
       "    <tr style=\"text-align: right;\">\n",
       "      <th></th>\n",
       "      <th>Survived</th>\n",
       "    </tr>\n",
       "    <tr>\n",
       "      <th>Title</th>\n",
       "      <th></th>\n",
       "    </tr>\n",
       "  </thead>\n",
       "  <tbody>\n",
       "    <tr>\n",
       "      <td>Mr</td>\n",
       "      <td>0.156673</td>\n",
       "    </tr>\n",
       "    <tr>\n",
       "      <td>Mrs</td>\n",
       "      <td>0.792000</td>\n",
       "    </tr>\n",
       "    <tr>\n",
       "      <td>Miss</td>\n",
       "      <td>0.697802</td>\n",
       "    </tr>\n",
       "    <tr>\n",
       "      <td>Master</td>\n",
       "      <td>0.575000</td>\n",
       "    </tr>\n",
       "  </tbody>\n",
       "</table>\n",
       "</div>"
      ],
      "text/plain": [
       "        Survived\n",
       "Title           \n",
       "Mr      0.156673\n",
       "Mrs     0.792000\n",
       "Miss    0.697802\n",
       "Master  0.575000"
      ]
     },
     "execution_count": 30,
     "metadata": {},
     "output_type": "execute_result"
    }
   ],
   "source": [
    "Title_Survived = pd.pivot_table(train, index = 'Title', values = 'Survived')  #피봇테이블을 이용해 Title별 생존율을 확인해 보겠습니다.\n",
    "Title_Survived.loc[['Mr', 'Mrs', 'Miss', 'Master']]                           #Mr는 약 16%, Mrs는 약 79%, Miss는 약 70%, Master는 약 58%의 생존율인 것을 알 수 있습니다."
   ]
  },
  {
   "cell_type": "markdown",
   "metadata": {},
   "source": [
    "분석 결과 역시 남성보다 여성의 생존율이 높은 것을 알 수 있었습니다. 그러나 미혼 남성인 Master의 생존율이 생각보다 높은 점을 미루어 보았을 때 분석시 충분히 가치가 있을 것으로 생각됩니다."
   ]
  },
  {
   "cell_type": "markdown",
   "metadata": {},
   "source": [
    "#### Age와 Fare 동시에  활용해 생존자 분석"
   ]
  },
  {
   "cell_type": "markdown",
   "metadata": {},
   "source": [
    "이번에는 Age와 Fare를 동시에 시각화해 생존자 비교를 해보겠습니다."
   ]
  },
  {
   "cell_type": "code",
   "execution_count": 31,
   "metadata": {},
   "outputs": [
    {
     "data": {
      "text/plain": [
       "<seaborn.axisgrid.FacetGrid at 0x1bd68dc1208>"
      ]
     },
     "execution_count": 31,
     "metadata": {},
     "output_type": "execute_result"
    },
    {
     "data": {
      "image/png": "[encoded data removed]",
      "text/plain": [
       "<Figure size 360x360 with 1 Axes>"
      ]
     },
     "metadata": {
      "needs_background": "light"
     },
     "output_type": "display_data"
    }
   ],
   "source": [
    "sns.lmplot(data = train, x = 'Age', y = 'Fare', fit_reg = False) #seaborn의 lmplot을 이용해 탑승자 분포정도를 확인하겠습니다.\n",
    "                                                                  #탑승자 중 10세 이하, 20~40대의 비율이 많은 것을 알 수 있습니다.\n",
    "                                                                  #요금은 100 미만이 많이 분포하고 있음을 알 수 있습니다.\n",
    "                                                                  #요금이 500 이상인 경우는 극히 드물기 때문에 이상치라고 판단하겠습니다."
   ]
  },
  {
   "cell_type": "code",
   "execution_count": 32,
   "metadata": {},
   "outputs": [
    {
     "data": {
      "text/plain": [
       "<seaborn.axisgrid.FacetGrid at 0x1bd68de5d48>"
      ]
     },
     "execution_count": 32,
     "metadata": {},
     "output_type": "execute_result"
    },
    {
     "data": {
      "image/png": "[encoded data removed]",
      "text/plain": [
       "<Figure size 411.875x360 with 1 Axes>"
      ]
     },
     "metadata": {
      "needs_background": "light"
     },
     "output_type": "display_data"
    }
   ],
   "source": [
    "sns.lmplot(data = train, x = 'Age', y = 'Fare', hue = 'Survived',fit_reg = False) #seaborn의 lmplot을 이용해 생존자 분포정도를 확인하겠습니다."
   ]
  },
  {
   "cell_type": "markdown",
   "metadata": {},
   "source": [
    "그래프를 통해 확인할 수 있는 것은 운임 요금이 100 이상이면 생존율이 더 높다는 것입니다. 좀 더 세밀하게 확인하기 위해 범위를 좁혀 이상치를 제거한 그래프를 확인해 보겠습니다."
   ]
  },
  {
   "cell_type": "code",
   "execution_count": 33,
   "metadata": {},
   "outputs": [
    {
     "data": {
      "text/plain": [
       "<seaborn.axisgrid.FacetGrid at 0x1bd6907b948>"
      ]
     },
     "execution_count": 33,
     "metadata": {},
     "output_type": "execute_result"
    },
    {
     "data": {
      "image/png": "[encoded data removed]",
      "text/plain": [
       "<Figure size 411.875x360 with 1 Axes>"
      ]
     },
     "metadata": {
      "needs_background": "light"
     },
     "output_type": "display_data"
    }
   ],
   "source": [
    "low_fare = train[train['Fare'] < 100]  #운임 요금이 100 미만인 데이터를 만들어 그래프를 만들어 보겠습니다.\n",
    "sns.lmplot(data = low_fare, x = 'Age', y = 'Fare', hue = 'Survived',fit_reg = False)"
   ]
  },
  {
   "cell_type": "markdown",
   "metadata": {},
   "source": [
    "현재 그래프에서는 나이가 어리거나 운임 요금이 비쌀수록 생존율이 높은 것을 확인할 수 있습니다."
   ]
  },
  {
   "cell_type": "markdown",
   "metadata": {},
   "source": [
    "#### PassengerId, Ticket, Cabin의 활용성"
   ]
  },
  {
   "cell_type": "code",
   "execution_count": 34,
   "metadata": {},
   "outputs": [],
   "source": [
    "pd.options.display.max_rows = 1000  #최대로 보여주는 행 수를 1000으로 설정하는 코드입니다."
   ]
  },
  {
   "cell_type": "code",
   "execution_count": 35,
   "metadata": {},
   "outputs": [
    {
     "data": {
      "text/plain": [
       "0        1\n",
       "1        2\n",
       "2        3\n",
       "3        4\n",
       "4        5\n",
       "5        6\n",
       "6        7\n",
       "7        8\n",
       "8        9\n",
       "9       10\n",
       "10      11\n",
       "11      12\n",
       "12      13\n",
       "13      14\n",
       "14      15\n",
       "15      16\n",
       "16      17\n",
       "17      18\n",
       "18      19\n",
       "19      20\n",
       "20      21\n",
       "21      22\n",
       "22      23\n",
       "23      24\n",
       "24      25\n",
       "25      26\n",
       "26      27\n",
       "27      28\n",
       "28      29\n",
       "29      30\n",
       "30      31\n",
       "31      32\n",
       "32      33\n",
       "33      34\n",
       "34      35\n",
       "35      36\n",
       "36      37\n",
       "37      38\n",
       "38      39\n",
       "39      40\n",
       "40      41\n",
       "41      42\n",
       "42      43\n",
       "43      44\n",
       "44      45\n",
       "45      46\n",
       "46      47\n",
       "47      48\n",
       "48      49\n",
       "49      50\n",
       "50      51\n",
       "51      52\n",
       "52      53\n",
       "53      54\n",
       "54      55\n",
       "55      56\n",
       "56      57\n",
       "57      58\n",
       "58      59\n",
       "59      60\n",
       "60      61\n",
       "61      62\n",
       "62      63\n",
       "63      64\n",
       "64      65\n",
       "65      66\n",
       "66      67\n",
       "67      68\n",
       "68      69\n",
       "69      70\n",
       "70      71\n",
       "71      72\n",
       "72      73\n",
       "73      74\n",
       "74      75\n",
       "75      76\n",
       "76      77\n",
       "77      78\n",
       "78      79\n",
       "79      80\n",
       "80      81\n",
       "81      82\n",
       "82      83\n",
       "83      84\n",
       "84      85\n",
       "85      86\n",
       "86      87\n",
       "87      88\n",
       "88      89\n",
       "89      90\n",
       "90      91\n",
       "91      92\n",
       "92      93\n",
       "93      94\n",
       "94      95\n",
       "95      96\n",
       "96      97\n",
       "97      98\n",
       "98      99\n",
       "99     100\n",
       "100    101\n",
       "101    102\n",
       "102    103\n",
       "103    104\n",
       "104    105\n",
       "105    106\n",
       "106    107\n",
       "107    108\n",
       "108    109\n",
       "109    110\n",
       "110    111\n",
       "111    112\n",
       "112    113\n",
       "113    114\n",
       "114    115\n",
       "115    116\n",
       "116    117\n",
       "117    118\n",
       "118    119\n",
       "119    120\n",
       "120    121\n",
       "121    122\n",
       "122    123\n",
       "123    124\n",
       "124    125\n",
       "125    126\n",
       "126    127\n",
       "127    128\n",
       "128    129\n",
       "129    130\n",
       "130    131\n",
       "131    132\n",
       "132    133\n",
       "133    134\n",
       "134    135\n",
       "135    136\n",
       "136    137\n",
       "137    138\n",
       "138    139\n",
       "139    140\n",
       "140    141\n",
       "141    142\n",
       "142    143\n",
       "143    144\n",
       "144    145\n",
       "145    146\n",
       "146    147\n",
       "147    148\n",
       "148    149\n",
       "149    150\n",
       "150    151\n",
       "151    152\n",
       "152    153\n",
       "153    154\n",
       "154    155\n",
       "155    156\n",
       "156    157\n",
       "157    158\n",
       "158    159\n",
       "159    160\n",
       "160    161\n",
       "161    162\n",
       "162    163\n",
       "163    164\n",
       "164    165\n",
       "165    166\n",
       "166    167\n",
       "167    168\n",
       "168    169\n",
       "169    170\n",
       "170    171\n",
       "171    172\n",
       "172    173\n",
       "173    174\n",
       "174    175\n",
       "175    176\n",
       "176    177\n",
       "177    178\n",
       "178    179\n",
       "179    180\n",
       "180    181\n",
       "181    182\n",
       "182    183\n",
       "183    184\n",
       "184    185\n",
       "185    186\n",
       "186    187\n",
       "187    188\n",
       "188    189\n",
       "189    190\n",
       "190    191\n",
       "191    192\n",
       "192    193\n",
       "193    194\n",
       "194    195\n",
       "195    196\n",
       "196    197\n",
       "197    198\n",
       "198    199\n",
       "199    200\n",
       "200    201\n",
       "201    202\n",
       "202    203\n",
       "203    204\n",
       "204    205\n",
       "205    206\n",
       "206    207\n",
       "207    208\n",
       "208    209\n",
       "209    210\n",
       "210    211\n",
       "211    212\n",
       "212    213\n",
       "213    214\n",
       "214    215\n",
       "215    216\n",
       "216    217\n",
       "217    218\n",
       "218    219\n",
       "219    220\n",
       "220    221\n",
       "221    222\n",
       "222    223\n",
       "223    224\n",
       "224    225\n",
       "225    226\n",
       "226    227\n",
       "227    228\n",
       "228    229\n",
       "229    230\n",
       "230    231\n",
       "231    232\n",
       "232    233\n",
       "233    234\n",
       "234    235\n",
       "235    236\n",
       "236    237\n",
       "237    238\n",
       "238    239\n",
       "239    240\n",
       "240    241\n",
       "241    242\n",
       "242    243\n",
       "243    244\n",
       "244    245\n",
       "245    246\n",
       "246    247\n",
       "247    248\n",
       "248    249\n",
       "249    250\n",
       "250    251\n",
       "251    252\n",
       "252    253\n",
       "253    254\n",
       "254    255\n",
       "255    256\n",
       "256    257\n",
       "257    258\n",
       "258    259\n",
       "259    260\n",
       "260    261\n",
       "261    262\n",
       "262    263\n",
       "263    264\n",
       "264    265\n",
       "265    266\n",
       "266    267\n",
       "267    268\n",
       "268    269\n",
       "269    270\n",
       "270    271\n",
       "271    272\n",
       "272    273\n",
       "273    274\n",
       "274    275\n",
       "275    276\n",
       "276    277\n",
       "277    278\n",
       "278    279\n",
       "279    280\n",
       "280    281\n",
       "281    282\n",
       "282    283\n",
       "283    284\n",
       "284    285\n",
       "285    286\n",
       "286    287\n",
       "287    288\n",
       "288    289\n",
       "289    290\n",
       "290    291\n",
       "291    292\n",
       "292    293\n",
       "293    294\n",
       "294    295\n",
       "295    296\n",
       "296    297\n",
       "297    298\n",
       "298    299\n",
       "299    300\n",
       "300    301\n",
       "301    302\n",
       "302    303\n",
       "303    304\n",
       "304    305\n",
       "305    306\n",
       "306    307\n",
       "307    308\n",
       "308    309\n",
       "309    310\n",
       "310    311\n",
       "311    312\n",
       "312    313\n",
       "313    314\n",
       "314    315\n",
       "315    316\n",
       "316    317\n",
       "317    318\n",
       "318    319\n",
       "319    320\n",
       "320    321\n",
       "321    322\n",
       "322    323\n",
       "323    324\n",
       "324    325\n",
       "325    326\n",
       "326    327\n",
       "327    328\n",
       "328    329\n",
       "329    330\n",
       "330    331\n",
       "331    332\n",
       "332    333\n",
       "333    334\n",
       "334    335\n",
       "335    336\n",
       "336    337\n",
       "337    338\n",
       "338    339\n",
       "339    340\n",
       "340    341\n",
       "341    342\n",
       "342    343\n",
       "343    344\n",
       "344    345\n",
       "345    346\n",
       "346    347\n",
       "347    348\n",
       "348    349\n",
       "349    350\n",
       "350    351\n",
       "351    352\n",
       "352    353\n",
       "353    354\n",
       "354    355\n",
       "355    356\n",
       "356    357\n",
       "357    358\n",
       "358    359\n",
       "359    360\n",
       "360    361\n",
       "361    362\n",
       "362    363\n",
       "363    364\n",
       "364    365\n",
       "365    366\n",
       "366    367\n",
       "367    368\n",
       "368    369\n",
       "369    370\n",
       "370    371\n",
       "371    372\n",
       "372    373\n",
       "373    374\n",
       "374    375\n",
       "375    376\n",
       "376    377\n",
       "377    378\n",
       "378    379\n",
       "379    380\n",
       "380    381\n",
       "381    382\n",
       "382    383\n",
       "383    384\n",
       "384    385\n",
       "385    386\n",
       "386    387\n",
       "387    388\n",
       "388    389\n",
       "389    390\n",
       "390    391\n",
       "391    392\n",
       "392    393\n",
       "393    394\n",
       "394    395\n",
       "395    396\n",
       "396    397\n",
       "397    398\n",
       "398    399\n",
       "399    400\n",
       "400    401\n",
       "401    402\n",
       "402    403\n",
       "403    404\n",
       "404    405\n",
       "405    406\n",
       "406    407\n",
       "407    408\n",
       "408    409\n",
       "409    410\n",
       "410    411\n",
       "411    412\n",
       "412    413\n",
       "413    414\n",
       "414    415\n",
       "415    416\n",
       "416    417\n",
       "417    418\n",
       "418    419\n",
       "419    420\n",
       "420    421\n",
       "421    422\n",
       "422    423\n",
       "423    424\n",
       "424    425\n",
       "425    426\n",
       "426    427\n",
       "427    428\n",
       "428    429\n",
       "429    430\n",
       "430    431\n",
       "431    432\n",
       "432    433\n",
       "433    434\n",
       "434    435\n",
       "435    436\n",
       "436    437\n",
       "437    438\n",
       "438    439\n",
       "439    440\n",
       "440    441\n",
       "441    442\n",
       "442    443\n",
       "443    444\n",
       "444    445\n",
       "445    446\n",
       "446    447\n",
       "447    448\n",
       "448    449\n",
       "449    450\n",
       "450    451\n",
       "451    452\n",
       "452    453\n",
       "453    454\n",
       "454    455\n",
       "455    456\n",
       "456    457\n",
       "457    458\n",
       "458    459\n",
       "459    460\n",
       "460    461\n",
       "461    462\n",
       "462    463\n",
       "463    464\n",
       "464    465\n",
       "465    466\n",
       "466    467\n",
       "467    468\n",
       "468    469\n",
       "469    470\n",
       "470    471\n",
       "471    472\n",
       "472    473\n",
       "473    474\n",
       "474    475\n",
       "475    476\n",
       "476    477\n",
       "477    478\n",
       "478    479\n",
       "479    480\n",
       "480    481\n",
       "481    482\n",
       "482    483\n",
       "483    484\n",
       "484    485\n",
       "485    486\n",
       "486    487\n",
       "487    488\n",
       "488    489\n",
       "489    490\n",
       "490    491\n",
       "491    492\n",
       "492    493\n",
       "493    494\n",
       "494    495\n",
       "495    496\n",
       "496    497\n",
       "497    498\n",
       "498    499\n",
       "499    500\n",
       "500    501\n",
       "501    502\n",
       "502    503\n",
       "503    504\n",
       "504    505\n",
       "505    506\n",
       "506    507\n",
       "507    508\n",
       "508    509\n",
       "509    510\n",
       "510    511\n",
       "511    512\n",
       "512    513\n",
       "513    514\n",
       "514    515\n",
       "515    516\n",
       "516    517\n",
       "517    518\n",
       "518    519\n",
       "519    520\n",
       "520    521\n",
       "521    522\n",
       "522    523\n",
       "523    524\n",
       "524    525\n",
       "525    526\n",
       "526    527\n",
       "527    528\n",
       "528    529\n",
       "529    530\n",
       "530    531\n",
       "531    532\n",
       "532    533\n",
       "533    534\n",
       "534    535\n",
       "535    536\n",
       "536    537\n",
       "537    538\n",
       "538    539\n",
       "539    540\n",
       "540    541\n",
       "541    542\n",
       "542    543\n",
       "543    544\n",
       "544    545\n",
       "545    546\n",
       "546    547\n",
       "547    548\n",
       "548    549\n",
       "549    550\n",
       "550    551\n",
       "551    552\n",
       "552    553\n",
       "553    554\n",
       "554    555\n",
       "555    556\n",
       "556    557\n",
       "557    558\n",
       "558    559\n",
       "559    560\n",
       "560    561\n",
       "561    562\n",
       "562    563\n",
       "563    564\n",
       "564    565\n",
       "565    566\n",
       "566    567\n",
       "567    568\n",
       "568    569\n",
       "569    570\n",
       "570    571\n",
       "571    572\n",
       "572    573\n",
       "573    574\n",
       "574    575\n",
       "575    576\n",
       "576    577\n",
       "577    578\n",
       "578    579\n",
       "579    580\n",
       "580    581\n",
       "581    582\n",
       "582    583\n",
       "583    584\n",
       "584    585\n",
       "585    586\n",
       "586    587\n",
       "587    588\n",
       "588    589\n",
       "589    590\n",
       "590    591\n",
       "591    592\n",
       "592    593\n",
       "593    594\n",
       "594    595\n",
       "595    596\n",
       "596    597\n",
       "597    598\n",
       "598    599\n",
       "599    600\n",
       "600    601\n",
       "601    602\n",
       "602    603\n",
       "603    604\n",
       "604    605\n",
       "605    606\n",
       "606    607\n",
       "607    608\n",
       "608    609\n",
       "609    610\n",
       "610    611\n",
       "611    612\n",
       "612    613\n",
       "613    614\n",
       "614    615\n",
       "615    616\n",
       "616    617\n",
       "617    618\n",
       "618    619\n",
       "619    620\n",
       "620    621\n",
       "621    622\n",
       "622    623\n",
       "623    624\n",
       "624    625\n",
       "625    626\n",
       "626    627\n",
       "627    628\n",
       "628    629\n",
       "629    630\n",
       "630    631\n",
       "631    632\n",
       "632    633\n",
       "633    634\n",
       "634    635\n",
       "635    636\n",
       "636    637\n",
       "637    638\n",
       "638    639\n",
       "639    640\n",
       "640    641\n",
       "641    642\n",
       "642    643\n",
       "643    644\n",
       "644    645\n",
       "645    646\n",
       "646    647\n",
       "647    648\n",
       "648    649\n",
       "649    650\n",
       "650    651\n",
       "651    652\n",
       "652    653\n",
       "653    654\n",
       "654    655\n",
       "655    656\n",
       "656    657\n",
       "657    658\n",
       "658    659\n",
       "659    660\n",
       "660    661\n",
       "661    662\n",
       "662    663\n",
       "663    664\n",
       "664    665\n",
       "665    666\n",
       "666    667\n",
       "667    668\n",
       "668    669\n",
       "669    670\n",
       "670    671\n",
       "671    672\n",
       "672    673\n",
       "673    674\n",
       "674    675\n",
       "675    676\n",
       "676    677\n",
       "677    678\n",
       "678    679\n",
       "679    680\n",
       "680    681\n",
       "681    682\n",
       "682    683\n",
       "683    684\n",
       "684    685\n",
       "685    686\n",
       "686    687\n",
       "687    688\n",
       "688    689\n",
       "689    690\n",
       "690    691\n",
       "691    692\n",
       "692    693\n",
       "693    694\n",
       "694    695\n",
       "695    696\n",
       "696    697\n",
       "697    698\n",
       "698    699\n",
       "699    700\n",
       "700    701\n",
       "701    702\n",
       "702    703\n",
       "703    704\n",
       "704    705\n",
       "705    706\n",
       "706    707\n",
       "707    708\n",
       "708    709\n",
       "709    710\n",
       "710    711\n",
       "711    712\n",
       "712    713\n",
       "713    714\n",
       "714    715\n",
       "715    716\n",
       "716    717\n",
       "717    718\n",
       "718    719\n",
       "719    720\n",
       "720    721\n",
       "721    722\n",
       "722    723\n",
       "723    724\n",
       "724    725\n",
       "725    726\n",
       "726    727\n",
       "727    728\n",
       "728    729\n",
       "729    730\n",
       "730    731\n",
       "731    732\n",
       "732    733\n",
       "733    734\n",
       "734    735\n",
       "735    736\n",
       "736    737\n",
       "737    738\n",
       "738    739\n",
       "739    740\n",
       "740    741\n",
       "741    742\n",
       "742    743\n",
       "743    744\n",
       "744    745\n",
       "745    746\n",
       "746    747\n",
       "747    748\n",
       "748    749\n",
       "749    750\n",
       "750    751\n",
       "751    752\n",
       "752    753\n",
       "753    754\n",
       "754    755\n",
       "755    756\n",
       "756    757\n",
       "757    758\n",
       "758    759\n",
       "759    760\n",
       "760    761\n",
       "761    762\n",
       "762    763\n",
       "763    764\n",
       "764    765\n",
       "765    766\n",
       "766    767\n",
       "767    768\n",
       "768    769\n",
       "769    770\n",
       "770    771\n",
       "771    772\n",
       "772    773\n",
       "773    774\n",
       "774    775\n",
       "775    776\n",
       "776    777\n",
       "777    778\n",
       "778    779\n",
       "779    780\n",
       "780    781\n",
       "781    782\n",
       "782    783\n",
       "783    784\n",
       "784    785\n",
       "785    786\n",
       "786    787\n",
       "787    788\n",
       "788    789\n",
       "789    790\n",
       "790    791\n",
       "791    792\n",
       "792    793\n",
       "793    794\n",
       "794    795\n",
       "795    796\n",
       "796    797\n",
       "797    798\n",
       "798    799\n",
       "799    800\n",
       "800    801\n",
       "801    802\n",
       "802    803\n",
       "803    804\n",
       "804    805\n",
       "805    806\n",
       "806    807\n",
       "807    808\n",
       "808    809\n",
       "809    810\n",
       "810    811\n",
       "811    812\n",
       "812    813\n",
       "813    814\n",
       "814    815\n",
       "815    816\n",
       "816    817\n",
       "817    818\n",
       "818    819\n",
       "819    820\n",
       "820    821\n",
       "821    822\n",
       "822    823\n",
       "823    824\n",
       "824    825\n",
       "825    826\n",
       "826    827\n",
       "827    828\n",
       "828    829\n",
       "829    830\n",
       "830    831\n",
       "831    832\n",
       "832    833\n",
       "833    834\n",
       "834    835\n",
       "835    836\n",
       "836    837\n",
       "837    838\n",
       "838    839\n",
       "839    840\n",
       "840    841\n",
       "841    842\n",
       "842    843\n",
       "843    844\n",
       "844    845\n",
       "845    846\n",
       "846    847\n",
       "847    848\n",
       "848    849\n",
       "849    850\n",
       "850    851\n",
       "851    852\n",
       "852    853\n",
       "853    854\n",
       "854    855\n",
       "855    856\n",
       "856    857\n",
       "857    858\n",
       "858    859\n",
       "859    860\n",
       "860    861\n",
       "861    862\n",
       "862    863\n",
       "863    864\n",
       "864    865\n",
       "865    866\n",
       "866    867\n",
       "867    868\n",
       "868    869\n",
       "869    870\n",
       "870    871\n",
       "871    872\n",
       "872    873\n",
       "873    874\n",
       "874    875\n",
       "875    876\n",
       "876    877\n",
       "877    878\n",
       "878    879\n",
       "879    880\n",
       "880    881\n",
       "881    882\n",
       "882    883\n",
       "883    884\n",
       "884    885\n",
       "885    886\n",
       "886    887\n",
       "887    888\n",
       "888    889\n",
       "889    890\n",
       "890    891\n",
       "Name: PassengerId, dtype: int64"
      ]
     },
     "execution_count": 35,
     "metadata": {},
     "output_type": "execute_result"
    }
   ],
   "source": [
    "train['PassengerId'] #PassengerId를 보면 단순히 숫자가 차례로 증가는 것을 알 수 있습니다. 따라서 분석시 크게 도움이 되지 않을 것입니다."
   ]
  },
  {
   "cell_type": "markdown",
   "metadata": {},
   "source": [
    "Ticket과 Cabin은 Pclass로 충분히 설명이 될 것 같으므로 굳이 사용하지 않아도 될 것 같습니다."
   ]
  },
  {
   "cell_type": "markdown",
   "metadata": {},
   "source": [
    "여기까지 분석한 결과 여성 및 미혼 남성, 등급이 높은 객실, C 선착장, 나이가 젊거나 운임 요금이 비쌀수록 생존율이 높다는 결론을 낼 수 있을 것 같습니다."
   ]
  },
  {
   "cell_type": "markdown",
   "metadata": {},
   "source": [
    "### 데이터 전처리"
   ]
  },
  {
   "cell_type": "markdown",
   "metadata": {},
   "source": [
    "이제 머신러닝 알고리즘에 적용할 수 있도록 데이터 전처리 과정에 들어가도록 하겠습니다.\n",
    "머신러닝 알고리즘에 데이터를 적용하기 위해서는 결측값이 없어야 하고 실수형 혹은 정수형 데이터 형태여야 하기 때문에 결측값을 채워주고 문자형 데이터를 숫자형으로 변환하도록 하겠습니다. 그리고 예측이 도움이 될만한 컬럼을 정리하도록 하겠습니다."
   ]
  },
  {
   "cell_type": "markdown",
   "metadata": {},
   "source": [
    "#### 문자형 데이터 탐색"
   ]
  },
  {
   "cell_type": "code",
   "execution_count": 36,
   "metadata": {},
   "outputs": [
    {
     "data": {
      "text/html": [
       "<div>\n",
       "<style scoped>\n",
       "    .dataframe tbody tr th:only-of-type {\n",
       "        vertical-align: middle;\n",
       "    }\n",
       "\n",
       "    .dataframe tbody tr th {\n",
       "        vertical-align: top;\n",
       "    }\n",
       "\n",
       "    .dataframe thead th {\n",
       "        text-align: right;\n",
       "    }\n",
       "</style>\n",
       "<table border=\"1\" class=\"dataframe\">\n",
       "  <thead>\n",
       "    <tr style=\"text-align: right;\">\n",
       "      <th></th>\n",
       "      <th>Name</th>\n",
       "      <th>Sex</th>\n",
       "      <th>Ticket</th>\n",
       "      <th>Cabin</th>\n",
       "      <th>Embarked</th>\n",
       "      <th>Family_type</th>\n",
       "      <th>Title</th>\n",
       "    </tr>\n",
       "  </thead>\n",
       "  <tbody>\n",
       "    <tr>\n",
       "      <td>0</td>\n",
       "      <td>Braund, Mr. Owen Harris</td>\n",
       "      <td>male</td>\n",
       "      <td>A/5 21171</td>\n",
       "      <td>NaN</td>\n",
       "      <td>S</td>\n",
       "      <td>Nuclear</td>\n",
       "      <td>Mr</td>\n",
       "    </tr>\n",
       "    <tr>\n",
       "      <td>1</td>\n",
       "      <td>Cumings, Mrs. John Bradley (Florence Briggs Th...</td>\n",
       "      <td>female</td>\n",
       "      <td>PC 17599</td>\n",
       "      <td>C85</td>\n",
       "      <td>C</td>\n",
       "      <td>Nuclear</td>\n",
       "      <td>Mrs</td>\n",
       "    </tr>\n",
       "    <tr>\n",
       "      <td>2</td>\n",
       "      <td>Heikkinen, Miss. Laina</td>\n",
       "      <td>female</td>\n",
       "      <td>STON/O2. 3101282</td>\n",
       "      <td>NaN</td>\n",
       "      <td>S</td>\n",
       "      <td>Single</td>\n",
       "      <td>Miss</td>\n",
       "    </tr>\n",
       "    <tr>\n",
       "      <td>3</td>\n",
       "      <td>Futrelle, Mrs. Jacques Heath (Lily May Peel)</td>\n",
       "      <td>female</td>\n",
       "      <td>113803</td>\n",
       "      <td>C123</td>\n",
       "      <td>S</td>\n",
       "      <td>Nuclear</td>\n",
       "      <td>Mrs</td>\n",
       "    </tr>\n",
       "    <tr>\n",
       "      <td>4</td>\n",
       "      <td>Allen, Mr. William Henry</td>\n",
       "      <td>male</td>\n",
       "      <td>373450</td>\n",
       "      <td>NaN</td>\n",
       "      <td>S</td>\n",
       "      <td>Single</td>\n",
       "      <td>Mr</td>\n",
       "    </tr>\n",
       "  </tbody>\n",
       "</table>\n",
       "</div>"
      ],
      "text/plain": [
       "                                                Name     Sex  \\\n",
       "0                            Braund, Mr. Owen Harris    male   \n",
       "1  Cumings, Mrs. John Bradley (Florence Briggs Th...  female   \n",
       "2                             Heikkinen, Miss. Laina  female   \n",
       "3       Futrelle, Mrs. Jacques Heath (Lily May Peel)  female   \n",
       "4                           Allen, Mr. William Henry    male   \n",
       "\n",
       "             Ticket Cabin Embarked Family_type Title  \n",
       "0         A/5 21171   NaN        S     Nuclear    Mr  \n",
       "1          PC 17599   C85        C     Nuclear   Mrs  \n",
       "2  STON/O2. 3101282   NaN        S      Single  Miss  \n",
       "3            113803  C123        S     Nuclear   Mrs  \n",
       "4            373450   NaN        S      Single    Mr  "
      ]
     },
     "execution_count": 36,
     "metadata": {},
     "output_type": "execute_result"
    }
   ],
   "source": [
    "train.select_dtypes(include = 'object').head()  #select_dtypes을 이용해 object형(문자형) 데이터만 보도록 하겠습니다.\n",
    "                                                #Name, Sex, Ticket, Cabin, Embarked, Family_type, Title이 object형인 것을 알 수 있습니다."
   ]
  },
  {
   "cell_type": "markdown",
   "metadata": {},
   "source": [
    "하지만 Name에서 유의미한 데이터인 Title(호칭)을 만들었기 때문에 Name은 더 이상 필요가 없을 것 같습니다.\n",
    "마찬가지로 Ticket과 Cabin도 Pclass를 통해 설명이 될 것 같기 때문에 머신러닝 적용에서 빼도 될 것 같습니다.\n",
    "결과적으로 Sex, Embarked, Family_type, Title만 변환을 해주도록 하겠습니다."
   ]
  },
  {
   "cell_type": "markdown",
   "metadata": {},
   "source": [
    "##### Sex 성별 컬럼 변환"
   ]
  },
  {
   "cell_type": "code",
   "execution_count": 37,
   "metadata": {},
   "outputs": [
    {
     "data": {
      "text/plain": [
       "array(['male', 'female'], dtype=object)"
      ]
     },
     "execution_count": 37,
     "metadata": {},
     "output_type": "execute_result"
    }
   ],
   "source": [
    "train['Sex'].unique()  #성별은 남성, 여성으로만 나누어져 있기 때문에 남성을 0, 여성을 1로 변환하겠습니다."
   ]
  },
  {
   "cell_type": "code",
   "execution_count": 38,
   "metadata": {},
   "outputs": [
    {
     "data": {
      "text/plain": [
       "0    0\n",
       "1    1\n",
       "2    1\n",
       "3    1\n",
       "4    0\n",
       "Name: Sex, dtype: int64"
      ]
     },
     "execution_count": 38,
     "metadata": {},
     "output_type": "execute_result"
    }
   ],
   "source": [
    "train['Sex'] = train['Sex'].replace('male', 0).replace('female', 1)  #replace를 이용해 간단하게 변경을 해주었습니다.\n",
    "train['Sex'].head()  #변환된 값을 보면 0, 1로 잘 변환된 것을 알 수 있습니다."
   ]
  },
  {
   "cell_type": "code",
   "execution_count": 39,
   "metadata": {},
   "outputs": [
    {
     "data": {
      "text/plain": [
       "0    0\n",
       "1    1\n",
       "2    0\n",
       "3    0\n",
       "4    1\n",
       "Name: Sex, dtype: int64"
      ]
     },
     "execution_count": 39,
     "metadata": {},
     "output_type": "execute_result"
    }
   ],
   "source": [
    "test['Sex'] = test['Sex'].replace('male', 0).replace('female', 1)  #test에도 적용해주겠습니다.\n",
    "test['Sex'].head()"
   ]
  },
  {
   "cell_type": "markdown",
   "metadata": {},
   "source": [
    "##### Embarked 선착장 컬럼 변환"
   ]
  },
  {
   "cell_type": "markdown",
   "metadata": {},
   "source": [
    "-Embarked도 변환을 할 것이지만, C, S, Q 값을 가령 0, 1, 2로 설정하면 머신러닝 적용시 연산을 할 가능성이 있어 성별과 마찬가지로 0(False), 1(True)의 방식으로만 변환하는 One-hot 인코딩을 하도록 하겠습니다."
   ]
  },
  {
   "cell_type": "code",
   "execution_count": 40,
   "metadata": {},
   "outputs": [],
   "source": [
    "train['Embarked_C'] = (train['Embarked'] == 'C')  #Embarked가 C이면 참인 값을 출력하고 아니면 거짓인 값을 출력하도록 합니다.\n",
    "train['Embarked_S'] = (train['Embarked'] == 'S')  #Embarked가 S이면 참인 값을 출력하고 아니면 거짓인 값을 출력하도록 합니다.\n",
    "train['Embarked_Q'] = (train['Embarked'] == 'Q')  #Embarked가 Q이면 참인 값을 출력하고 아니면 거짓인 값을 출력하도록 합니다."
   ]
  },
  {
   "cell_type": "code",
   "execution_count": 41,
   "metadata": {},
   "outputs": [
    {
     "data": {
      "text/html": [
       "<div>\n",
       "<style scoped>\n",
       "    .dataframe tbody tr th:only-of-type {\n",
       "        vertical-align: middle;\n",
       "    }\n",
       "\n",
       "    .dataframe tbody tr th {\n",
       "        vertical-align: top;\n",
       "    }\n",
       "\n",
       "    .dataframe thead th {\n",
       "        text-align: right;\n",
       "    }\n",
       "</style>\n",
       "<table border=\"1\" class=\"dataframe\">\n",
       "  <thead>\n",
       "    <tr style=\"text-align: right;\">\n",
       "      <th></th>\n",
       "      <th>Embarked</th>\n",
       "      <th>Embarked_C</th>\n",
       "      <th>Embarked_S</th>\n",
       "      <th>Embarked_Q</th>\n",
       "    </tr>\n",
       "  </thead>\n",
       "  <tbody>\n",
       "    <tr>\n",
       "      <td>0</td>\n",
       "      <td>S</td>\n",
       "      <td>False</td>\n",
       "      <td>True</td>\n",
       "      <td>False</td>\n",
       "    </tr>\n",
       "    <tr>\n",
       "      <td>1</td>\n",
       "      <td>C</td>\n",
       "      <td>True</td>\n",
       "      <td>False</td>\n",
       "      <td>False</td>\n",
       "    </tr>\n",
       "    <tr>\n",
       "      <td>2</td>\n",
       "      <td>S</td>\n",
       "      <td>False</td>\n",
       "      <td>True</td>\n",
       "      <td>False</td>\n",
       "    </tr>\n",
       "    <tr>\n",
       "      <td>3</td>\n",
       "      <td>S</td>\n",
       "      <td>False</td>\n",
       "      <td>True</td>\n",
       "      <td>False</td>\n",
       "    </tr>\n",
       "    <tr>\n",
       "      <td>4</td>\n",
       "      <td>S</td>\n",
       "      <td>False</td>\n",
       "      <td>True</td>\n",
       "      <td>False</td>\n",
       "    </tr>\n",
       "  </tbody>\n",
       "</table>\n",
       "</div>"
      ],
      "text/plain": [
       "  Embarked  Embarked_C  Embarked_S  Embarked_Q\n",
       "0        S       False        True       False\n",
       "1        C        True       False       False\n",
       "2        S       False        True       False\n",
       "3        S       False        True       False\n",
       "4        S       False        True       False"
      ]
     },
     "execution_count": 41,
     "metadata": {},
     "output_type": "execute_result"
    }
   ],
   "source": [
    "train[['Embarked', 'Embarked_C', 'Embarked_S', 'Embarked_Q']].head()  #변환된 값을 확인해 보면 잘 적용이 된 것을 알 수 있습니다."
   ]
  },
  {
   "cell_type": "code",
   "execution_count": 42,
   "metadata": {},
   "outputs": [],
   "source": [
    "test['Embarked_C'] = (test['Embarked'] == 'C')  #test 데이터에도 똑같이 적용하도록 하겠습니다.\n",
    "test['Embarked_S'] = (test['Embarked'] == 'S')\n",
    "test['Embarked_Q'] = (test['Embarked'] == 'Q')"
   ]
  },
  {
   "cell_type": "code",
   "execution_count": 43,
   "metadata": {},
   "outputs": [
    {
     "data": {
      "text/html": [
       "<div>\n",
       "<style scoped>\n",
       "    .dataframe tbody tr th:only-of-type {\n",
       "        vertical-align: middle;\n",
       "    }\n",
       "\n",
       "    .dataframe tbody tr th {\n",
       "        vertical-align: top;\n",
       "    }\n",
       "\n",
       "    .dataframe thead th {\n",
       "        text-align: right;\n",
       "    }\n",
       "</style>\n",
       "<table border=\"1\" class=\"dataframe\">\n",
       "  <thead>\n",
       "    <tr style=\"text-align: right;\">\n",
       "      <th></th>\n",
       "      <th>Embarked</th>\n",
       "      <th>Embarked_C</th>\n",
       "      <th>Embarked_S</th>\n",
       "      <th>Embarked_Q</th>\n",
       "    </tr>\n",
       "  </thead>\n",
       "  <tbody>\n",
       "    <tr>\n",
       "      <td>0</td>\n",
       "      <td>Q</td>\n",
       "      <td>False</td>\n",
       "      <td>False</td>\n",
       "      <td>True</td>\n",
       "    </tr>\n",
       "    <tr>\n",
       "      <td>1</td>\n",
       "      <td>S</td>\n",
       "      <td>False</td>\n",
       "      <td>True</td>\n",
       "      <td>False</td>\n",
       "    </tr>\n",
       "    <tr>\n",
       "      <td>2</td>\n",
       "      <td>Q</td>\n",
       "      <td>False</td>\n",
       "      <td>False</td>\n",
       "      <td>True</td>\n",
       "    </tr>\n",
       "    <tr>\n",
       "      <td>3</td>\n",
       "      <td>S</td>\n",
       "      <td>False</td>\n",
       "      <td>True</td>\n",
       "      <td>False</td>\n",
       "    </tr>\n",
       "    <tr>\n",
       "      <td>4</td>\n",
       "      <td>S</td>\n",
       "      <td>False</td>\n",
       "      <td>True</td>\n",
       "      <td>False</td>\n",
       "    </tr>\n",
       "  </tbody>\n",
       "</table>\n",
       "</div>"
      ],
      "text/plain": [
       "  Embarked  Embarked_C  Embarked_S  Embarked_Q\n",
       "0        Q       False       False        True\n",
       "1        S       False        True       False\n",
       "2        Q       False       False        True\n",
       "3        S       False        True       False\n",
       "4        S       False        True       False"
      ]
     },
     "execution_count": 43,
     "metadata": {},
     "output_type": "execute_result"
    }
   ],
   "source": [
    "test[['Embarked', 'Embarked_C', 'Embarked_S', 'Embarked_Q']].head()  #변환된 값을 확인해 보면 잘 적용이 된 것을 알 수 있습니다."
   ]
  },
  {
   "cell_type": "markdown",
   "metadata": {},
   "source": [
    "##### Family_type 컬럼 변환"
   ]
  },
  {
   "cell_type": "markdown",
   "metadata": {},
   "source": [
    "-Embarked 컬럼과 마찬가지로 Family_type의 Single, Nuclear, Big 값도 One-hot 인코딩을 해주겠습니다. 이번에는 lambda함수를 이용해 보겠습니다."
   ]
  },
  {
   "cell_type": "code",
   "execution_count": 44,
   "metadata": {},
   "outputs": [],
   "source": [
    "train['Single'] = train['Family_type'].apply(lambda x : True if x == 'Single' else False)  #lambda를 이용해 Family_type이 Single이면 참 아니면 거짓을 출력하도록 하겠습니다.\n",
    "train['Nuclear'] = train['Family_type'].apply(lambda x : True if x == 'Nuclear' else False)  #lambda를 이용해 Family_type이 Nuclear이면 참 아니면 거짓을 출력하도록 하겠습니다.\n",
    "train['Big'] = train['Family_type'].apply(lambda x : True if x == 'Big' else False)  #lambda를 이용해 Family_type이 Big이면 참 아니면 거짓을 출력하도록 하겠습니다."
   ]
  },
  {
   "cell_type": "code",
   "execution_count": 45,
   "metadata": {},
   "outputs": [
    {
     "data": {
      "text/html": [
       "<div>\n",
       "<style scoped>\n",
       "    .dataframe tbody tr th:only-of-type {\n",
       "        vertical-align: middle;\n",
       "    }\n",
       "\n",
       "    .dataframe tbody tr th {\n",
       "        vertical-align: top;\n",
       "    }\n",
       "\n",
       "    .dataframe thead th {\n",
       "        text-align: right;\n",
       "    }\n",
       "</style>\n",
       "<table border=\"1\" class=\"dataframe\">\n",
       "  <thead>\n",
       "    <tr style=\"text-align: right;\">\n",
       "      <th></th>\n",
       "      <th>Family_type</th>\n",
       "      <th>Single</th>\n",
       "      <th>Nuclear</th>\n",
       "      <th>Big</th>\n",
       "    </tr>\n",
       "  </thead>\n",
       "  <tbody>\n",
       "    <tr>\n",
       "      <td>0</td>\n",
       "      <td>Nuclear</td>\n",
       "      <td>False</td>\n",
       "      <td>True</td>\n",
       "      <td>False</td>\n",
       "    </tr>\n",
       "    <tr>\n",
       "      <td>1</td>\n",
       "      <td>Nuclear</td>\n",
       "      <td>False</td>\n",
       "      <td>True</td>\n",
       "      <td>False</td>\n",
       "    </tr>\n",
       "    <tr>\n",
       "      <td>2</td>\n",
       "      <td>Single</td>\n",
       "      <td>True</td>\n",
       "      <td>False</td>\n",
       "      <td>False</td>\n",
       "    </tr>\n",
       "    <tr>\n",
       "      <td>3</td>\n",
       "      <td>Nuclear</td>\n",
       "      <td>False</td>\n",
       "      <td>True</td>\n",
       "      <td>False</td>\n",
       "    </tr>\n",
       "    <tr>\n",
       "      <td>4</td>\n",
       "      <td>Single</td>\n",
       "      <td>True</td>\n",
       "      <td>False</td>\n",
       "      <td>False</td>\n",
       "    </tr>\n",
       "  </tbody>\n",
       "</table>\n",
       "</div>"
      ],
      "text/plain": [
       "  Family_type  Single  Nuclear    Big\n",
       "0     Nuclear   False     True  False\n",
       "1     Nuclear   False     True  False\n",
       "2      Single    True    False  False\n",
       "3     Nuclear   False     True  False\n",
       "4      Single    True    False  False"
      ]
     },
     "execution_count": 45,
     "metadata": {},
     "output_type": "execute_result"
    }
   ],
   "source": [
    "train[['Family_type', 'Single', 'Nuclear', 'Big']].head()  #변환된 값을 확인해 보면 잘 적용이 된 것을 알 수 있습니다."
   ]
  },
  {
   "cell_type": "code",
   "execution_count": 47,
   "metadata": {},
   "outputs": [],
   "source": [
    "test['Single'] = test['Family_type'].apply(lambda x : True if x == 'Single' else False)  #test 데이터에도 똑같이 적용하도록 하겠습니다.\n",
    "test['Nuclear'] = test['Family_type'].apply(lambda x : True if x == 'Nuclear' else False)\n",
    "test['Big'] = test['Family_type'].apply(lambda x : True if x == 'Big' else False)"
   ]
  },
  {
   "cell_type": "code",
   "execution_count": 48,
   "metadata": {},
   "outputs": [
    {
     "data": {
      "text/html": [
       "<div>\n",
       "<style scoped>\n",
       "    .dataframe tbody tr th:only-of-type {\n",
       "        vertical-align: middle;\n",
       "    }\n",
       "\n",
       "    .dataframe tbody tr th {\n",
       "        vertical-align: top;\n",
       "    }\n",
       "\n",
       "    .dataframe thead th {\n",
       "        text-align: right;\n",
       "    }\n",
       "</style>\n",
       "<table border=\"1\" class=\"dataframe\">\n",
       "  <thead>\n",
       "    <tr style=\"text-align: right;\">\n",
       "      <th></th>\n",
       "      <th>Family_type</th>\n",
       "      <th>Single</th>\n",
       "      <th>Nuclear</th>\n",
       "      <th>Big</th>\n",
       "    </tr>\n",
       "  </thead>\n",
       "  <tbody>\n",
       "    <tr>\n",
       "      <td>0</td>\n",
       "      <td>Single</td>\n",
       "      <td>True</td>\n",
       "      <td>False</td>\n",
       "      <td>False</td>\n",
       "    </tr>\n",
       "    <tr>\n",
       "      <td>1</td>\n",
       "      <td>Nuclear</td>\n",
       "      <td>False</td>\n",
       "      <td>True</td>\n",
       "      <td>False</td>\n",
       "    </tr>\n",
       "    <tr>\n",
       "      <td>2</td>\n",
       "      <td>Single</td>\n",
       "      <td>True</td>\n",
       "      <td>False</td>\n",
       "      <td>False</td>\n",
       "    </tr>\n",
       "    <tr>\n",
       "      <td>3</td>\n",
       "      <td>Single</td>\n",
       "      <td>True</td>\n",
       "      <td>False</td>\n",
       "      <td>False</td>\n",
       "    </tr>\n",
       "    <tr>\n",
       "      <td>4</td>\n",
       "      <td>Nuclear</td>\n",
       "      <td>False</td>\n",
       "      <td>True</td>\n",
       "      <td>False</td>\n",
       "    </tr>\n",
       "  </tbody>\n",
       "</table>\n",
       "</div>"
      ],
      "text/plain": [
       "  Family_type  Single  Nuclear    Big\n",
       "0      Single    True    False  False\n",
       "1     Nuclear   False     True  False\n",
       "2      Single    True    False  False\n",
       "3      Single    True    False  False\n",
       "4     Nuclear   False     True  False"
      ]
     },
     "execution_count": 48,
     "metadata": {},
     "output_type": "execute_result"
    }
   ],
   "source": [
    "test[['Family_type', 'Single', 'Nuclear', 'Big']].head()  #변환된 값을 확인해 보면 잘 적용이 된 것을 알 수 있습니다."
   ]
  },
  {
   "cell_type": "markdown",
   "metadata": {},
   "source": [
    "##### Title 컬럼 변환"
   ]
  },
  {
   "cell_type": "code",
   "execution_count": 49,
   "metadata": {},
   "outputs": [
    {
     "data": {
      "text/plain": [
       "array(['Mr', 'Mrs', 'Miss', 'Master', 'Don', 'Rev', 'Dr', 'Mme', 'Ms',\n",
       "       'Major', 'Lady', 'Sir', 'Mlle', 'Col', 'Capt', 'the Countess',\n",
       "       'Jonkheer'], dtype=object)"
      ]
     },
     "execution_count": 49,
     "metadata": {},
     "output_type": "execute_result"
    }
   ],
   "source": [
    "train['Title'].unique()  #unique를 이용해 해당 컬럼이 어떤 값들을 가지고 있는지 파악하도록 하겠습니다."
   ]
  },
  {
   "cell_type": "markdown",
   "metadata": {},
   "source": [
    "-Title 컬럼을 보면 생각보다 많은 값을 가지고 있는 것을 알 수 있습니다. 이를 다 One-hot 인코딩을 하게 되면 정확도가 오히려 낮아질 가능성도 있기 때문에 이 중 남성임에도 불구하고 생존율이 높았던 Master를 중심으로 One-hot 인코딩을 하도록 하겠습니다."
   ]
  },
  {
   "cell_type": "code",
   "execution_count": 50,
   "metadata": {},
   "outputs": [],
   "source": [
    "train['Master'] = (train['Title'] == 'Master')  #Title이 Master이면 참이고 아니면 거짓을 출력하도록 하겠습니다."
   ]
  },
  {
   "cell_type": "code",
   "execution_count": 51,
   "metadata": {},
   "outputs": [
    {
     "data": {
      "text/html": [
       "<div>\n",
       "<style scoped>\n",
       "    .dataframe tbody tr th:only-of-type {\n",
       "        vertical-align: middle;\n",
       "    }\n",
       "\n",
       "    .dataframe tbody tr th {\n",
       "        vertical-align: top;\n",
       "    }\n",
       "\n",
       "    .dataframe thead th {\n",
       "        text-align: right;\n",
       "    }\n",
       "</style>\n",
       "<table border=\"1\" class=\"dataframe\">\n",
       "  <thead>\n",
       "    <tr style=\"text-align: right;\">\n",
       "      <th></th>\n",
       "      <th>Title</th>\n",
       "      <th>Master</th>\n",
       "    </tr>\n",
       "  </thead>\n",
       "  <tbody>\n",
       "    <tr>\n",
       "      <td>7</td>\n",
       "      <td>Master</td>\n",
       "      <td>True</td>\n",
       "    </tr>\n",
       "    <tr>\n",
       "      <td>16</td>\n",
       "      <td>Master</td>\n",
       "      <td>True</td>\n",
       "    </tr>\n",
       "    <tr>\n",
       "      <td>50</td>\n",
       "      <td>Master</td>\n",
       "      <td>True</td>\n",
       "    </tr>\n",
       "    <tr>\n",
       "      <td>59</td>\n",
       "      <td>Master</td>\n",
       "      <td>True</td>\n",
       "    </tr>\n",
       "    <tr>\n",
       "      <td>63</td>\n",
       "      <td>Master</td>\n",
       "      <td>True</td>\n",
       "    </tr>\n",
       "  </tbody>\n",
       "</table>\n",
       "</div>"
      ],
      "text/plain": [
       "     Title  Master\n",
       "7   Master    True\n",
       "16  Master    True\n",
       "50  Master    True\n",
       "59  Master    True\n",
       "63  Master    True"
      ]
     },
     "execution_count": 51,
     "metadata": {},
     "output_type": "execute_result"
    }
   ],
   "source": [
    "train.loc[train['Title'] == 'Master', ['Title','Master']].head()  #변환된 값을 확인해 보면 잘 적용이 된 것을 알 수 있습니다."
   ]
  },
  {
   "cell_type": "code",
   "execution_count": 52,
   "metadata": {},
   "outputs": [],
   "source": [
    "test['Master'] = (test['Title'] == 'Master')  #test 데이터에도 똑같이 적용하도록 하겠습니다."
   ]
  },
  {
   "cell_type": "code",
   "execution_count": 53,
   "metadata": {},
   "outputs": [
    {
     "data": {
      "text/html": [
       "<div>\n",
       "<style scoped>\n",
       "    .dataframe tbody tr th:only-of-type {\n",
       "        vertical-align: middle;\n",
       "    }\n",
       "\n",
       "    .dataframe tbody tr th {\n",
       "        vertical-align: top;\n",
       "    }\n",
       "\n",
       "    .dataframe thead th {\n",
       "        text-align: right;\n",
       "    }\n",
       "</style>\n",
       "<table border=\"1\" class=\"dataframe\">\n",
       "  <thead>\n",
       "    <tr style=\"text-align: right;\">\n",
       "      <th></th>\n",
       "      <th>Title</th>\n",
       "      <th>Master</th>\n",
       "    </tr>\n",
       "  </thead>\n",
       "  <tbody>\n",
       "    <tr>\n",
       "      <td>21</td>\n",
       "      <td>Master</td>\n",
       "      <td>True</td>\n",
       "    </tr>\n",
       "    <tr>\n",
       "      <td>55</td>\n",
       "      <td>Master</td>\n",
       "      <td>True</td>\n",
       "    </tr>\n",
       "    <tr>\n",
       "      <td>64</td>\n",
       "      <td>Master</td>\n",
       "      <td>True</td>\n",
       "    </tr>\n",
       "    <tr>\n",
       "      <td>80</td>\n",
       "      <td>Master</td>\n",
       "      <td>True</td>\n",
       "    </tr>\n",
       "    <tr>\n",
       "      <td>89</td>\n",
       "      <td>Master</td>\n",
       "      <td>True</td>\n",
       "    </tr>\n",
       "  </tbody>\n",
       "</table>\n",
       "</div>"
      ],
      "text/plain": [
       "     Title  Master\n",
       "21  Master    True\n",
       "55  Master    True\n",
       "64  Master    True\n",
       "80  Master    True\n",
       "89  Master    True"
      ]
     },
     "execution_count": 53,
     "metadata": {},
     "output_type": "execute_result"
    }
   ],
   "source": [
    "test.loc[test['Title'] == 'Master', ['Title','Master']].head()  #변환된 값을 확인해 보면 잘 적용이 된 것을 알 수 있습니다."
   ]
  },
  {
   "cell_type": "markdown",
   "metadata": {},
   "source": [
    "##### Age 컬럼의 활용"
   ]
  },
  {
   "cell_type": "markdown",
   "metadata": {},
   "source": [
    "-앞선 탐험적 데이터 분석에서 나이가 어릴수록 생존자가 더 많았던 것을 알 수 있었습니다. 따라서 특정 나이를 기준으로 나누면 예측의 정확도가 높아지지 않을까 생각해 어린 층과 그 외의 층을 구분해 One-hot 인코딩을 적용해 보도록 하겠습니다."
   ]
  },
  {
   "cell_type": "code",
   "execution_count": 54,
   "metadata": {},
   "outputs": [],
   "source": [
    "train['Young'] = (train['Age'] < 16)  #16세 미만을 어린 층으로 잡아 Young이라는 변수에 넣어주도록 하겠습니다."
   ]
  },
  {
   "cell_type": "code",
   "execution_count": 55,
   "metadata": {},
   "outputs": [
    {
     "data": {
      "text/html": [
       "<div>\n",
       "<style scoped>\n",
       "    .dataframe tbody tr th:only-of-type {\n",
       "        vertical-align: middle;\n",
       "    }\n",
       "\n",
       "    .dataframe tbody tr th {\n",
       "        vertical-align: top;\n",
       "    }\n",
       "\n",
       "    .dataframe thead th {\n",
       "        text-align: right;\n",
       "    }\n",
       "</style>\n",
       "<table border=\"1\" class=\"dataframe\">\n",
       "  <thead>\n",
       "    <tr style=\"text-align: right;\">\n",
       "      <th></th>\n",
       "      <th>Survived</th>\n",
       "    </tr>\n",
       "    <tr>\n",
       "      <th>Young</th>\n",
       "      <th></th>\n",
       "    </tr>\n",
       "  </thead>\n",
       "  <tbody>\n",
       "    <tr>\n",
       "      <td>False</td>\n",
       "      <td>0.362624</td>\n",
       "    </tr>\n",
       "    <tr>\n",
       "      <td>True</td>\n",
       "      <td>0.590361</td>\n",
       "    </tr>\n",
       "  </tbody>\n",
       "</table>\n",
       "</div>"
      ],
      "text/plain": [
       "       Survived\n",
       "Young          \n",
       "False  0.362624\n",
       "True   0.590361"
      ]
     },
     "execution_count": 55,
     "metadata": {},
     "output_type": "execute_result"
    }
   ],
   "source": [
    "pd.pivot_table(train, index = 'Young', values = 'Survived')  #피봇테이블에서 보면 어린 층이 59%의 생존율인 것을 알 수 있습니다."
   ]
  },
  {
   "cell_type": "code",
   "execution_count": 56,
   "metadata": {},
   "outputs": [],
   "source": [
    "test['Young'] = (test['Age'] < 16)  #test 데이터에도 똑같이 적용하도록 하겠습니다."
   ]
  },
  {
   "cell_type": "markdown",
   "metadata": {},
   "source": [
    "##### 결측값 확인과 처리"
   ]
  },
  {
   "cell_type": "code",
   "execution_count": 57,
   "metadata": {},
   "outputs": [
    {
     "data": {
      "text/plain": [
       "PassengerId      0\n",
       "Survived         0\n",
       "Pclass           0\n",
       "Name             0\n",
       "Sex              0\n",
       "Age            177\n",
       "SibSp            0\n",
       "Parch            0\n",
       "Ticket           0\n",
       "Fare             0\n",
       "Cabin          687\n",
       "Embarked         2\n",
       "Family_size      0\n",
       "Family_type      0\n",
       "Title            0\n",
       "Embarked_C       0\n",
       "Embarked_S       0\n",
       "Embarked_Q       0\n",
       "Single           0\n",
       "Nuclear          0\n",
       "Big              0\n",
       "Master           0\n",
       "Young            0\n",
       "dtype: int64"
      ]
     },
     "execution_count": 57,
     "metadata": {},
     "output_type": "execute_result"
    }
   ],
   "source": [
    "train.isnull().sum()  #isnull로 결측값 여부를 확인하고 sum까지 활용해 각 컬럼 당 총 결측값 수를 확인하도록 하겠습니다."
   ]
  },
  {
   "cell_type": "markdown",
   "metadata": {},
   "source": [
    "train 데이터에서는 Age, Cabin, Embarked에서 결측값이 확인되었으나 머신러닝에 적용할 컬럼은 아니라는 판단에 넘어가도록 하겠습니다."
   ]
  },
  {
   "cell_type": "code",
   "execution_count": 58,
   "metadata": {},
   "outputs": [
    {
     "data": {
      "text/plain": [
       "PassengerId      0\n",
       "Pclass           0\n",
       "Name             0\n",
       "Sex              0\n",
       "Age             86\n",
       "SibSp            0\n",
       "Parch            0\n",
       "Ticket           0\n",
       "Fare             1\n",
       "Cabin          327\n",
       "Embarked         0\n",
       "Family_size      0\n",
       "Family_type      0\n",
       "Title            0\n",
       "Embarked_C       0\n",
       "Embarked_S       0\n",
       "Embarked_Q       0\n",
       "Single           0\n",
       "Nuclear          0\n",
       "Big              0\n",
       "Master           0\n",
       "Young            0\n",
       "dtype: int64"
      ]
     },
     "execution_count": 58,
     "metadata": {},
     "output_type": "execute_result"
    }
   ],
   "source": [
    "test.isnull().sum()"
   ]
  },
  {
   "cell_type": "markdown",
   "metadata": {},
   "source": [
    "test 데이터에서는 Age, Cabin, Fare에서 결측값이 확인되었습니다. Age와 Cabin은 넘어가도 될 것같으나 Fare의 값은 머신러닝에 적용할 예정이므로 결측값을 처리하도록 하겠습니다."
   ]
  },
  {
   "cell_type": "code",
   "execution_count": 59,
   "metadata": {},
   "outputs": [],
   "source": [
    "test['Fare'] = test['Fare'].fillna(0)  #fillna를 이용해 결츨값을 평균, 중앙값 등 다양한 방법으로 처리할 수 있으나 한 개의 결측값이므로 0으로 처리하도록 하겠습니다."
   ]
  },
  {
   "cell_type": "markdown",
   "metadata": {},
   "source": [
    "### 훈련용 데이터 및 테스트용 데이터 설정"
   ]
  },
  {
   "cell_type": "code",
   "execution_count": 60,
   "metadata": {},
   "outputs": [
    {
     "data": {
      "text/plain": [
       "Survived       1.000000\n",
       "Sex            0.543351\n",
       "Nuclear        0.279855\n",
       "Fare           0.257307\n",
       "Embarked_C     0.168240\n",
       "Young          0.136107\n",
       "Master         0.085221\n",
       "Parch          0.081629\n",
       "Family_size    0.016639\n",
       "Embarked_Q     0.003650\n",
       "PassengerId   -0.005007\n",
       "SibSp         -0.035322\n",
       "Age           -0.077221\n",
       "Big           -0.125147\n",
       "Embarked_S    -0.155660\n",
       "Single        -0.203367\n",
       "Pclass        -0.338481\n",
       "Name: Survived, dtype: float64"
      ]
     },
     "execution_count": 60,
     "metadata": {},
     "output_type": "execute_result"
    }
   ],
   "source": [
    "train.corr().sort_values(by = 'Survived', ascending = False)['Survived']  #train 데이터에서 타겟 변수인 Survived와 상관관계가 높은 컬럼 및 새롭게 만든 컬럼을 뽑아 feature로 묶도록 하겠습니다."
   ]
  },
  {
   "cell_type": "markdown",
   "metadata": {},
   "source": [
    "상관관계가 10% 이상인 컬럼과 새롭게 만든 컬럼인 [Sex, Pclass, Single, Nuclear, Big, Fare, Embarked_C, Embarked_S, Embarked_Q, Young, Master]를 적용하도록 하겠습니다."
   ]
  },
  {
   "cell_type": "code",
   "execution_count": 61,
   "metadata": {},
   "outputs": [
    {
     "data": {
      "text/plain": [
       "['Sex',\n",
       " 'Pclass',\n",
       " 'Single',\n",
       " 'Nuclear',\n",
       " 'Big',\n",
       " 'Fare',\n",
       " 'Embarked_C',\n",
       " 'Embarked_S',\n",
       " 'Embarked_Q',\n",
       " 'Young',\n",
       " 'Master']"
      ]
     },
     "execution_count": 61,
     "metadata": {},
     "output_type": "execute_result"
    }
   ],
   "source": [
    "features = ['Sex', 'Pclass', 'Single', 'Nuclear', 'Big', 'Fare', 'Embarked_C', 'Embarked_S', 'Embarked_Q', 'Young', 'Master']\n",
    "features"
   ]
  },
  {
   "cell_type": "code",
   "execution_count": 62,
   "metadata": {},
   "outputs": [
    {
     "name": "stdout",
     "output_type": "stream",
     "text": [
      "(891, 11)\n"
     ]
    },
    {
     "data": {
      "text/html": [
       "<div>\n",
       "<style scoped>\n",
       "    .dataframe tbody tr th:only-of-type {\n",
       "        vertical-align: middle;\n",
       "    }\n",
       "\n",
       "    .dataframe tbody tr th {\n",
       "        vertical-align: top;\n",
       "    }\n",
       "\n",
       "    .dataframe thead th {\n",
       "        text-align: right;\n",
       "    }\n",
       "</style>\n",
       "<table border=\"1\" class=\"dataframe\">\n",
       "  <thead>\n",
       "    <tr style=\"text-align: right;\">\n",
       "      <th></th>\n",
       "      <th>Sex</th>\n",
       "      <th>Pclass</th>\n",
       "      <th>Single</th>\n",
       "      <th>Nuclear</th>\n",
       "      <th>Big</th>\n",
       "      <th>Fare</th>\n",
       "      <th>Embarked_C</th>\n",
       "      <th>Embarked_S</th>\n",
       "      <th>Embarked_Q</th>\n",
       "      <th>Young</th>\n",
       "      <th>Master</th>\n",
       "    </tr>\n",
       "  </thead>\n",
       "  <tbody>\n",
       "    <tr>\n",
       "      <td>0</td>\n",
       "      <td>0</td>\n",
       "      <td>3</td>\n",
       "      <td>False</td>\n",
       "      <td>True</td>\n",
       "      <td>False</td>\n",
       "      <td>7.2500</td>\n",
       "      <td>False</td>\n",
       "      <td>True</td>\n",
       "      <td>False</td>\n",
       "      <td>False</td>\n",
       "      <td>False</td>\n",
       "    </tr>\n",
       "    <tr>\n",
       "      <td>1</td>\n",
       "      <td>1</td>\n",
       "      <td>1</td>\n",
       "      <td>False</td>\n",
       "      <td>True</td>\n",
       "      <td>False</td>\n",
       "      <td>71.2833</td>\n",
       "      <td>True</td>\n",
       "      <td>False</td>\n",
       "      <td>False</td>\n",
       "      <td>False</td>\n",
       "      <td>False</td>\n",
       "    </tr>\n",
       "    <tr>\n",
       "      <td>2</td>\n",
       "      <td>1</td>\n",
       "      <td>3</td>\n",
       "      <td>True</td>\n",
       "      <td>False</td>\n",
       "      <td>False</td>\n",
       "      <td>7.9250</td>\n",
       "      <td>False</td>\n",
       "      <td>True</td>\n",
       "      <td>False</td>\n",
       "      <td>False</td>\n",
       "      <td>False</td>\n",
       "    </tr>\n",
       "    <tr>\n",
       "      <td>3</td>\n",
       "      <td>1</td>\n",
       "      <td>1</td>\n",
       "      <td>False</td>\n",
       "      <td>True</td>\n",
       "      <td>False</td>\n",
       "      <td>53.1000</td>\n",
       "      <td>False</td>\n",
       "      <td>True</td>\n",
       "      <td>False</td>\n",
       "      <td>False</td>\n",
       "      <td>False</td>\n",
       "    </tr>\n",
       "    <tr>\n",
       "      <td>4</td>\n",
       "      <td>0</td>\n",
       "      <td>3</td>\n",
       "      <td>True</td>\n",
       "      <td>False</td>\n",
       "      <td>False</td>\n",
       "      <td>8.0500</td>\n",
       "      <td>False</td>\n",
       "      <td>True</td>\n",
       "      <td>False</td>\n",
       "      <td>False</td>\n",
       "      <td>False</td>\n",
       "    </tr>\n",
       "  </tbody>\n",
       "</table>\n",
       "</div>"
      ],
      "text/plain": [
       "   Sex  Pclass  Single  Nuclear    Big     Fare  Embarked_C  Embarked_S  \\\n",
       "0    0       3   False     True  False   7.2500       False        True   \n",
       "1    1       1   False     True  False  71.2833        True       False   \n",
       "2    1       3    True    False  False   7.9250       False        True   \n",
       "3    1       1   False     True  False  53.1000       False        True   \n",
       "4    0       3    True    False  False   8.0500       False        True   \n",
       "\n",
       "   Embarked_Q  Young  Master  \n",
       "0       False  False   False  \n",
       "1       False  False   False  \n",
       "2       False  False   False  \n",
       "3       False  False   False  \n",
       "4       False  False   False  "
      ]
     },
     "execution_count": 62,
     "metadata": {},
     "output_type": "execute_result"
    }
   ],
   "source": [
    "x_train = train[features]  #features를 이용해 머신러닝에 적용할 데이터 프레임을 따로 x_train으로 지정하도록 하겠습니다.\n",
    "print(x_train.shape)  #x_train이 891개의 행과 11개의 열로 이루어져 있는 것을 알 수 있습니다.\n",
    "x_train.head()  #head 기능을 이용해 잘 적용이 되었는지 상위 5개의 값을 출력해 보겠습니다."
   ]
  },
  {
   "cell_type": "code",
   "execution_count": 63,
   "metadata": {},
   "outputs": [
    {
     "name": "stdout",
     "output_type": "stream",
     "text": [
      "(418, 11)\n"
     ]
    },
    {
     "data": {
      "text/html": [
       "<div>\n",
       "<style scoped>\n",
       "    .dataframe tbody tr th:only-of-type {\n",
       "        vertical-align: middle;\n",
       "    }\n",
       "\n",
       "    .dataframe tbody tr th {\n",
       "        vertical-align: top;\n",
       "    }\n",
       "\n",
       "    .dataframe thead th {\n",
       "        text-align: right;\n",
       "    }\n",
       "</style>\n",
       "<table border=\"1\" class=\"dataframe\">\n",
       "  <thead>\n",
       "    <tr style=\"text-align: right;\">\n",
       "      <th></th>\n",
       "      <th>Sex</th>\n",
       "      <th>Pclass</th>\n",
       "      <th>Single</th>\n",
       "      <th>Nuclear</th>\n",
       "      <th>Big</th>\n",
       "      <th>Fare</th>\n",
       "      <th>Embarked_C</th>\n",
       "      <th>Embarked_S</th>\n",
       "      <th>Embarked_Q</th>\n",
       "      <th>Young</th>\n",
       "      <th>Master</th>\n",
       "    </tr>\n",
       "  </thead>\n",
       "  <tbody>\n",
       "    <tr>\n",
       "      <td>0</td>\n",
       "      <td>0</td>\n",
       "      <td>3</td>\n",
       "      <td>True</td>\n",
       "      <td>False</td>\n",
       "      <td>False</td>\n",
       "      <td>7.8292</td>\n",
       "      <td>False</td>\n",
       "      <td>False</td>\n",
       "      <td>True</td>\n",
       "      <td>False</td>\n",
       "      <td>False</td>\n",
       "    </tr>\n",
       "    <tr>\n",
       "      <td>1</td>\n",
       "      <td>1</td>\n",
       "      <td>3</td>\n",
       "      <td>False</td>\n",
       "      <td>True</td>\n",
       "      <td>False</td>\n",
       "      <td>7.0000</td>\n",
       "      <td>False</td>\n",
       "      <td>True</td>\n",
       "      <td>False</td>\n",
       "      <td>False</td>\n",
       "      <td>False</td>\n",
       "    </tr>\n",
       "    <tr>\n",
       "      <td>2</td>\n",
       "      <td>0</td>\n",
       "      <td>2</td>\n",
       "      <td>True</td>\n",
       "      <td>False</td>\n",
       "      <td>False</td>\n",
       "      <td>9.6875</td>\n",
       "      <td>False</td>\n",
       "      <td>False</td>\n",
       "      <td>True</td>\n",
       "      <td>False</td>\n",
       "      <td>False</td>\n",
       "    </tr>\n",
       "    <tr>\n",
       "      <td>3</td>\n",
       "      <td>0</td>\n",
       "      <td>3</td>\n",
       "      <td>True</td>\n",
       "      <td>False</td>\n",
       "      <td>False</td>\n",
       "      <td>8.6625</td>\n",
       "      <td>False</td>\n",
       "      <td>True</td>\n",
       "      <td>False</td>\n",
       "      <td>False</td>\n",
       "      <td>False</td>\n",
       "    </tr>\n",
       "    <tr>\n",
       "      <td>4</td>\n",
       "      <td>1</td>\n",
       "      <td>3</td>\n",
       "      <td>False</td>\n",
       "      <td>True</td>\n",
       "      <td>False</td>\n",
       "      <td>12.2875</td>\n",
       "      <td>False</td>\n",
       "      <td>True</td>\n",
       "      <td>False</td>\n",
       "      <td>False</td>\n",
       "      <td>False</td>\n",
       "    </tr>\n",
       "  </tbody>\n",
       "</table>\n",
       "</div>"
      ],
      "text/plain": [
       "   Sex  Pclass  Single  Nuclear    Big     Fare  Embarked_C  Embarked_S  \\\n",
       "0    0       3    True    False  False   7.8292       False       False   \n",
       "1    1       3   False     True  False   7.0000       False        True   \n",
       "2    0       2    True    False  False   9.6875       False       False   \n",
       "3    0       3    True    False  False   8.6625       False        True   \n",
       "4    1       3   False     True  False  12.2875       False        True   \n",
       "\n",
       "   Embarked_Q  Young  Master  \n",
       "0        True  False   False  \n",
       "1       False  False   False  \n",
       "2        True  False   False  \n",
       "3       False  False   False  \n",
       "4       False  False   False  "
      ]
     },
     "execution_count": 63,
     "metadata": {},
     "output_type": "execute_result"
    }
   ],
   "source": [
    "x_test = test[features]  #test 데이터에도 적용해 주도록 하겠습니다.\n",
    "print(x_test.shape)\n",
    "x_test.head()"
   ]
  },
  {
   "cell_type": "markdown",
   "metadata": {},
   "source": [
    "### 타겟 변수 설정"
   ]
  },
  {
   "cell_type": "code",
   "execution_count": 64,
   "metadata": {},
   "outputs": [
    {
     "name": "stdout",
     "output_type": "stream",
     "text": [
      "(891,)\n"
     ]
    },
    {
     "data": {
      "text/plain": [
       "0    0\n",
       "1    1\n",
       "2    1\n",
       "3    1\n",
       "4    0\n",
       "Name: Survived, dtype: int64"
      ]
     },
     "execution_count": 64,
     "metadata": {},
     "output_type": "execute_result"
    }
   ],
   "source": [
    "y_train = train['Survived']  #타겟 변수인 Survived를 train 데이터에서 가져와 y_train으로 지정하도록 하겠습니다.\n",
    "print(y_train.shape)\n",
    "y_train.head()"
   ]
  },
  {
   "cell_type": "markdown",
   "metadata": {},
   "source": [
    "### 머신러닝 알고리즘 모델 적용"
   ]
  },
  {
   "cell_type": "markdown",
   "metadata": {},
   "source": [
    "머신러닝 알고리즘 모델에는 다양한 종류가 존재하나 이번에는 scikit-learn의 DecisionTree를 이용해 보도록 하겠습니다. 이번 주제의 목표가 생존자 혹은 사망자 예측 즉, 분류 문제이기 때문에 분류형 모델을 사용하도록 하겠습니다."
   ]
  },
  {
   "cell_type": "code",
   "execution_count": 65,
   "metadata": {},
   "outputs": [
    {
     "data": {
      "text/plain": [
       "DecisionTreeClassifier(class_weight=None, criterion='gini', max_depth=None,\n",
       "                       max_features=None, max_leaf_nodes=None,\n",
       "                       min_impurity_decrease=0.0, min_impurity_split=None,\n",
       "                       min_samples_leaf=1, min_samples_split=2,\n",
       "                       min_weight_fraction_leaf=0.0, presort=False,\n",
       "                       random_state=None, splitter='best')"
      ]
     },
     "execution_count": 65,
     "metadata": {},
     "output_type": "execute_result"
    }
   ],
   "source": [
    "from sklearn.tree import DecisionTreeClassifier  #scikit-learn에서 분류형 DecisionTree인 DecisionTreeClassifier 모델을 가져오도록 하겠습니다.\n",
    "model = DecisionTreeClassifier()  #불러온 모델을 model이라는 변수에 담아주도록 하겠습니다.\n",
    "model"
   ]
  },
  {
   "cell_type": "markdown",
   "metadata": {},
   "source": [
    "#### Hyperparmeter 설정"
   ]
  },
  {
   "cell_type": "markdown",
   "metadata": {},
   "source": [
    "머신러닝 모델의 옵션에 해당하는 hyperparameter의 최적값을 Coarse Search로 찾아 보도록 하겠습니다."
   ]
  },
  {
   "cell_type": "code",
   "execution_count": 66,
   "metadata": {},
   "outputs": [
    {
     "name": "stdout",
     "output_type": "stream",
     "text": [
      " 0 max_depth = 42, max_features = 0.6584831106259458, Score = 0.8149560825647783\n",
      " 1 max_depth =  9, max_features = 0.9737148570353374, Score = 0.8374549846288977\n",
      " 2 max_depth = 37, max_features = 0.7349574827433843, Score = 0.8172507685551164\n",
      " 3 max_depth = 47, max_features = 0.9474009255031389, Score = 0.8285638998682477\n",
      " 4 max_depth = 22, max_features = 0.5637595803277236, Score = 0.8139909969257795\n",
      " 5 max_depth = 20, max_features = 0.6956567616878557, Score = 0.8149560825647783\n",
      " 6 max_depth = 39, max_features = 0.317889425907097, Score = 0.8060628019323671\n",
      " 7 max_depth = 17, max_features = 0.4720760275592071, Score = 0.826191260430391\n",
      " 8 max_depth = 60, max_features = 0.665619448234434, Score = 0.8149560825647783\n",
      " 9 max_depth = 66, max_features = 0.8173260930490741, Score = 0.8172507685551164\n",
      "10 max_depth = 66, max_features = 0.7286538472443428, Score = 0.8172507685551164\n",
      "11 max_depth = 98, max_features = 0.9369989119276727, Score = 0.8285638998682477\n",
      "12 max_depth = 59, max_features = 0.4969368203851223, Score = 0.8239712340799299\n",
      "13 max_depth = 38, max_features = 0.8625512508009225, Score = 0.8307608695652174\n",
      "14 max_depth = 19, max_features = 0.6237181146630464, Score = 0.812854633289416\n",
      "15 max_depth = 91, max_features = 0.3715201239489556, Score = 0.8150779534475188\n",
      "16 max_depth = 53, max_features = 0.7871476622020975, Score = 0.8172507685551164\n",
      "17 max_depth = 80, max_features = 0.9768938526610056, Score = 0.8285638998682477\n",
      "18 max_depth = 33, max_features = 0.853397380249905, Score = 0.8307608695652174\n",
      "19 max_depth = 89, max_features = 0.6836527296229781, Score = 0.8149560825647783\n",
      "20 max_depth = 82, max_features = 0.2893756568201701, Score = 0.8060628019323671\n",
      "21 max_depth = 33, max_features = 0.1811706888531846, Score = 0.8093961352657004\n",
      "22 max_depth = 64, max_features = 0.5713534660626998, Score = 0.8139909969257795\n",
      "23 max_depth = 64, max_features = 0.6151858060184531, Score = 0.8139909969257795\n",
      "24 max_depth = 32, max_features = 0.9303928844444966, Score = 0.8285638998682477\n",
      "25 max_depth = 14, max_features = 0.12832864728969828, Score = 0.8072485726833551\n",
      "26 max_depth = 78, max_features = 0.6884794835241509, Score = 0.8149560825647783\n",
      "27 max_depth = 12, max_features = 0.6603868103191355, Score = 0.8217709705753184\n",
      "28 max_depth = 38, max_features = 0.10486345702835126, Score = 0.8093961352657004\n",
      "29 max_depth =  3, max_features = 0.5005447727048478, Score = 0.8181379007465963\n",
      "30 max_depth = 98, max_features = 0.6762053429406792, Score = 0.8149560825647783\n",
      "31 max_depth = 87, max_features = 0.27406822645526113, Score = 0.8060628019323671\n",
      "32 max_depth =  4, max_features = 0.8516113819573137, Score = 0.8149055775142733\n",
      "33 max_depth = 49, max_features = 0.7578937281586897, Score = 0.8172507685551164\n",
      "34 max_depth = 30, max_features = 0.21479283365567564, Score = 0.8071739130434782\n",
      "35 max_depth = 59, max_features = 0.9897295245267889, Score = 0.8285638998682477\n",
      "36 max_depth = 82, max_features = 0.4064968695229858, Score = 0.8150779534475188\n",
      "37 max_depth = 86, max_features = 0.1315030678872497, Score = 0.8093961352657004\n",
      "38 max_depth = 63, max_features = 0.25170681796276606, Score = 0.8071739130434782\n",
      "39 max_depth = 93, max_features = 0.29966625499230837, Score = 0.8060628019323671\n",
      "40 max_depth = 41, max_features = 0.6253361636437225, Score = 0.8139909969257795\n",
      "41 max_depth = 53, max_features = 0.15368477363450314, Score = 0.8093961352657004\n",
      "42 max_depth = 80, max_features = 0.14417193894781552, Score = 0.8093961352657004\n",
      "43 max_depth = 46, max_features = 0.7808915430808786, Score = 0.8172507685551164\n",
      "44 max_depth =  7, max_features = 0.2750858866441427, Score = 0.8015162494510321\n",
      "45 max_depth = 32, max_features = 0.37944718303279246, Score = 0.8150779534475188\n",
      "46 max_depth = 90, max_features = 0.9234837978669985, Score = 0.8285638998682477\n",
      "47 max_depth = 96, max_features = 0.7086299173749705, Score = 0.8149560825647783\n",
      "48 max_depth = 10, max_features = 0.9645332340185084, Score = 0.8340195432586738\n",
      "49 max_depth = 48, max_features = 0.9278597645146915, Score = 0.8285638998682477\n",
      "50 max_depth = 31, max_features = 0.8209031338714046, Score = 0.8307608695652174\n",
      "51 max_depth = 80, max_features = 0.7600975494595941, Score = 0.8172507685551164\n",
      "52 max_depth = 84, max_features = 0.9423824228868415, Score = 0.8285638998682477\n",
      "53 max_depth = 67, max_features = 0.19105543856710022, Score = 0.8071739130434782\n",
      "54 max_depth = 67, max_features = 0.14624685823233582, Score = 0.8093961352657004\n",
      "55 max_depth = 19, max_features = 0.8019559248560384, Score = 0.8161144049187529\n",
      "56 max_depth = 62, max_features = 0.48373086697975276, Score = 0.8239712340799299\n",
      "57 max_depth = 24, max_features = 0.7957606584243239, Score = 0.8172507685551164\n",
      "58 max_depth = 93, max_features = 0.39303097139679377, Score = 0.8150779534475188\n",
      "59 max_depth = 55, max_features = 0.7721911245929483, Score = 0.8172507685551164\n",
      "60 max_depth = 46, max_features = 0.4253449996608367, Score = 0.8150779534475188\n",
      "61 max_depth = 87, max_features = 0.834458064498725, Score = 0.8307608695652174\n",
      "62 max_depth = 24, max_features = 0.3772855191635508, Score = 0.8150779534475188\n",
      "63 max_depth = 79, max_features = 0.9219045032082643, Score = 0.8285638998682477\n",
      "64 max_depth = 19, max_features = 0.10319554420895126, Score = 0.8093961352657004\n",
      "65 max_depth = 12, max_features = 0.13443532277292747, Score = 0.82288317962231\n",
      "66 max_depth = 60, max_features = 0.6573017191365831, Score = 0.8149560825647783\n",
      "67 max_depth = 46, max_features = 0.5681794847543495, Score = 0.8139909969257795\n",
      "68 max_depth = 93, max_features = 0.10447245275266888, Score = 0.8093961352657004\n",
      "69 max_depth = 30, max_features = 0.5386662719612402, Score = 0.8239712340799299\n",
      "70 max_depth = 58, max_features = 0.73453267009879, Score = 0.8172507685551164\n",
      "71 max_depth = 94, max_features = 0.2952071712024612, Score = 0.8060628019323671\n",
      "72 max_depth = 36, max_features = 0.7165292589191686, Score = 0.8149560825647783\n",
      "73 max_depth = 67, max_features = 0.2580692042947556, Score = 0.8071739130434782\n",
      "74 max_depth = 24, max_features = 0.518250221187582, Score = 0.8239712340799299\n",
      "75 max_depth =  8, max_features = 0.4573858002932598, Score = 0.8248836187966623\n",
      "76 max_depth = 92, max_features = 0.7921838644148086, Score = 0.8172507685551164\n",
      "77 max_depth = 32, max_features = 0.5332886536952409, Score = 0.8239712340799299\n",
      "78 max_depth = 59, max_features = 0.10204948320431001, Score = 0.8093961352657004\n",
      "79 max_depth = 79, max_features = 0.7127520733169225, Score = 0.8149560825647783\n",
      "80 max_depth =  2, max_features = 0.6943004309541815, Score = 0.7869685990338164\n",
      "81 max_depth = 11, max_features = 0.11165545270293656, Score = 0.8116952129995608\n",
      "82 max_depth = 61, max_features = 0.409952003139902, Score = 0.8150779534475188\n",
      "83 max_depth = 55, max_features = 0.490553702873359, Score = 0.8239712340799299\n",
      "84 max_depth = 50, max_features = 0.2264562080701951, Score = 0.8071739130434782\n",
      "85 max_depth = 50, max_features = 0.15794353555954393, Score = 0.8093961352657004\n",
      "86 max_depth = 21, max_features = 0.18101566546891365, Score = 0.8093961352657004\n",
      "87 max_depth = 89, max_features = 0.14531329488209094, Score = 0.8093961352657004\n",
      "88 max_depth = 80, max_features = 0.5499396508384752, Score = 0.8139909969257795\n",
      "89 max_depth = 69, max_features = 0.5170415615111128, Score = 0.8239712340799299\n",
      "90 max_depth = 69, max_features = 0.5261968953819005, Score = 0.8239712340799299\n",
      "91 max_depth = 72, max_features = 0.8936337199005037, Score = 0.8307608695652174\n",
      "92 max_depth = 10, max_features = 0.33061366097836525, Score = 0.8059870443566097\n",
      "93 max_depth = 62, max_features = 0.955436089122715, Score = 0.8285638998682477\n",
      "94 max_depth = 37, max_features = 0.18317117369031094, Score = 0.8071739130434782\n",
      "95 max_depth = 75, max_features = 0.9785982718901767, Score = 0.8285638998682477\n",
      "96 max_depth = 88, max_features = 0.6320113087183783, Score = 0.8139909969257795\n",
      "97 max_depth = 13, max_features = 0.6648211367178004, Score = 0.8150296442687747\n",
      "98 max_depth = 39, max_features = 0.9876248801394026, Score = 0.8285638998682477\n",
      "99 max_depth = 16, max_features = 0.29595749424391926, Score = 0.8038394817742643\n",
      "(100, 4)\n"
     ]
    },
    {
     "data": {
      "text/html": [
       "<div>\n",
       "<style scoped>\n",
       "    .dataframe tbody tr th:only-of-type {\n",
       "        vertical-align: middle;\n",
       "    }\n",
       "\n",
       "    .dataframe tbody tr th {\n",
       "        vertical-align: top;\n",
       "    }\n",
       "\n",
       "    .dataframe thead th {\n",
       "        text-align: right;\n",
       "    }\n",
       "</style>\n",
       "<table border=\"1\" class=\"dataframe\">\n",
       "  <thead>\n",
       "    <tr style=\"text-align: right;\">\n",
       "      <th></th>\n",
       "      <th>epoch</th>\n",
       "      <th>score</th>\n",
       "      <th>max_depth</th>\n",
       "      <th>max_features</th>\n",
       "    </tr>\n",
       "  </thead>\n",
       "  <tbody>\n",
       "    <tr>\n",
       "      <td>1</td>\n",
       "      <td>1</td>\n",
       "      <td>0.837455</td>\n",
       "      <td>9</td>\n",
       "      <td>0.973715</td>\n",
       "    </tr>\n",
       "    <tr>\n",
       "      <td>48</td>\n",
       "      <td>48</td>\n",
       "      <td>0.834020</td>\n",
       "      <td>10</td>\n",
       "      <td>0.964533</td>\n",
       "    </tr>\n",
       "    <tr>\n",
       "      <td>50</td>\n",
       "      <td>50</td>\n",
       "      <td>0.830761</td>\n",
       "      <td>31</td>\n",
       "      <td>0.820903</td>\n",
       "    </tr>\n",
       "    <tr>\n",
       "      <td>18</td>\n",
       "      <td>18</td>\n",
       "      <td>0.830761</td>\n",
       "      <td>33</td>\n",
       "      <td>0.853397</td>\n",
       "    </tr>\n",
       "    <tr>\n",
       "      <td>61</td>\n",
       "      <td>61</td>\n",
       "      <td>0.830761</td>\n",
       "      <td>87</td>\n",
       "      <td>0.834458</td>\n",
       "    </tr>\n",
       "    <tr>\n",
       "      <td>91</td>\n",
       "      <td>91</td>\n",
       "      <td>0.830761</td>\n",
       "      <td>72</td>\n",
       "      <td>0.893634</td>\n",
       "    </tr>\n",
       "    <tr>\n",
       "      <td>13</td>\n",
       "      <td>13</td>\n",
       "      <td>0.830761</td>\n",
       "      <td>38</td>\n",
       "      <td>0.862551</td>\n",
       "    </tr>\n",
       "    <tr>\n",
       "      <td>24</td>\n",
       "      <td>24</td>\n",
       "      <td>0.828564</td>\n",
       "      <td>32</td>\n",
       "      <td>0.930393</td>\n",
       "    </tr>\n",
       "    <tr>\n",
       "      <td>35</td>\n",
       "      <td>35</td>\n",
       "      <td>0.828564</td>\n",
       "      <td>59</td>\n",
       "      <td>0.989730</td>\n",
       "    </tr>\n",
       "    <tr>\n",
       "      <td>17</td>\n",
       "      <td>17</td>\n",
       "      <td>0.828564</td>\n",
       "      <td>80</td>\n",
       "      <td>0.976894</td>\n",
       "    </tr>\n",
       "  </tbody>\n",
       "</table>\n",
       "</div>"
      ],
      "text/plain": [
       "    epoch     score  max_depth  max_features\n",
       "1       1  0.837455          9      0.973715\n",
       "48     48  0.834020         10      0.964533\n",
       "50     50  0.830761         31      0.820903\n",
       "18     18  0.830761         33      0.853397\n",
       "61     61  0.830761         87      0.834458\n",
       "91     91  0.830761         72      0.893634\n",
       "13     13  0.830761         38      0.862551\n",
       "24     24  0.828564         32      0.930393\n",
       "35     35  0.828564         59      0.989730\n",
       "17     17  0.828564         80      0.976894"
      ]
     },
     "execution_count": 66,
     "metadata": {},
     "output_type": "execute_result"
    }
   ],
   "source": [
    "import numpy as np #고성능 수칙계산에 용이하게 numpy를 np로 줄여 불러오도록 하겠습니다.\n",
    "from sklearn.model_selection import cross_val_score  #scikit-learn에서 교차검증 스코어 모델을 불러오도록 하겠습니다.\n",
    "num_epoch = 100  #무작위로 100번을 실행하도록 하겠습니다.\n",
    "coarse_hyperparameters_list = []  #hyperparameter 값의 결과를 리스트로 묶도록 하겠습니다.\n",
    "for epoch in range(num_epoch):  #100번을 반복할 반복문을 작성하도록 하겠습니다.\n",
    "    max_depth = np.random.randint(low = 2, high = 100)  #DecisionTree의 최대 뿌리를 2~100의 값을 무작위로 설정하도록 하겠습니다.\n",
    "    max_features = np.random.uniform(low = 0.1, high = 1.0)  #전체 feature 중 몇 퍼센트를 사용할지 10~100%의 값을 무작위로 설정하도록 하겠습니다.\n",
    "    \n",
    "    model = DecisionTreeClassifier(max_depth = max_depth, max_features = max_features, random_state = 7)  #결과가 아무렇게나 나오지 않도록 고정하기 위해 random_state를 사용하도록 하겠습니다.\n",
    "    \n",
    "    score = cross_val_score(model, x_train, y_train, cv = 20, scoring = 'accuracy').mean()  #스코어 예측은 정확도로 하고 교차검증 20번의 평균 값을 출력하도록 하겠습니다.\n",
    "    \n",
    "    hyperparameters = { 'epoch': epoch,  #설정될 값을 각각 딕셔너리로 묶어주도록 하겠습니다.\n",
    "        'score': score,\n",
    "        'max_depth': max_depth,\n",
    "        'max_features': max_features,\n",
    "                      }\n",
    "    \n",
    "    coarse_hyperparameters_list.append(hyperparameters)  #무작위로 출력한 hyperparameter의 값을 리스트에 추가하도록 하겠습니다.\n",
    "    \n",
    "    print(f\"{epoch:2} max_depth = {max_depth:2}, max_features = {max_features}, Score = {score}\")  #무작위로 추출된 hyperparameter의 값과 예측된 스코어를 출력하도록 하겠습니다.   \n",
    "\n",
    "coarse_hyperparameters_list = pd.DataFrame.from_dict(coarse_hyperparameters_list)  #리스트의 값들을 데이터 프레임화해 보기 좋게 만들도록 하겠습니다.\n",
    "          \n",
    "coarse_hyperparameters_list = coarse_hyperparameters_list.sort_values(by = 'score', ascending = False)  #예측된 스코어를 높은 순으로 정렬하도록 하겠습니다.\n",
    "\n",
    "print(coarse_hyperparameters_list.shape)\n",
    "\n",
    "coarse_hyperparameters_list.head(10)  #출력된 데이터의 상위 10개 값을 보도록 하겠습니다."
   ]
  },
  {
   "cell_type": "markdown",
   "metadata": {},
   "source": [
    "출력 결과 1번째 결과가 0.837455의 스코어로 가장 좋은 결과를 냈습니다. 따라서 해당 스코어의 parameter인 max_depth 9과 max_features 0.973715의 값을 DecisionTree에 적용하도록 하겠습니다."
   ]
  },
  {
   "cell_type": "code",
   "execution_count": 67,
   "metadata": {},
   "outputs": [
    {
     "data": {
      "text/plain": [
       "DecisionTreeClassifier(class_weight=None, criterion='gini', max_depth=9,\n",
       "                       max_features=0.973715, max_leaf_nodes=None,\n",
       "                       min_impurity_decrease=0.0, min_impurity_split=None,\n",
       "                       min_samples_leaf=1, min_samples_split=2,\n",
       "                       min_weight_fraction_leaf=0.0, presort=False,\n",
       "                       random_state=7, splitter='best')"
      ]
     },
     "execution_count": 67,
     "metadata": {},
     "output_type": "execute_result"
    }
   ],
   "source": [
    "model = DecisionTreeClassifier(max_depth = 9, max_features= 0.973715, random_state = 7)\n",
    "model"
   ]
  },
  {
   "cell_type": "markdown",
   "metadata": {},
   "source": [
    "#### 머신러닝 학습"
   ]
  },
  {
   "cell_type": "code",
   "execution_count": 68,
   "metadata": {},
   "outputs": [
    {
     "data": {
      "text/plain": [
       "DecisionTreeClassifier(class_weight=None, criterion='gini', max_depth=9,\n",
       "                       max_features=0.973715, max_leaf_nodes=None,\n",
       "                       min_impurity_decrease=0.0, min_impurity_split=None,\n",
       "                       min_samples_leaf=1, min_samples_split=2,\n",
       "                       min_weight_fraction_leaf=0.0, presort=False,\n",
       "                       random_state=7, splitter='best')"
      ]
     },
     "execution_count": 68,
     "metadata": {},
     "output_type": "execute_result"
    }
   ],
   "source": [
    "model.fit(x_train, y_train)  #정리한 훈련용 데이터를 DecisionTree에 적용하도록 하겠습니다."
   ]
  },
  {
   "cell_type": "markdown",
   "metadata": {},
   "source": [
    "#### 결과 예측"
   ]
  },
  {
   "cell_type": "code",
   "execution_count": 69,
   "metadata": {},
   "outputs": [
    {
     "name": "stdout",
     "output_type": "stream",
     "text": [
      "(418,)\n"
     ]
    },
    {
     "data": {
      "text/plain": [
       "array([0, 1, 0, 0, 1], dtype=int64)"
      ]
     },
     "execution_count": 69,
     "metadata": {},
     "output_type": "execute_result"
    }
   ],
   "source": [
    "predictions = model.predict(x_test)  #학습된 머신러닝으로 test 데이터의 생존자와 사망자를 예측하도록 하겠습니다.\n",
    "print(predictions.shape)\n",
    "predictions[:5]  #예측값의 상위 5개 값을 보도록 하겠습니다."
   ]
  },
  {
   "cell_type": "markdown",
   "metadata": {},
   "source": [
    "### 결과물 제출"
   ]
  },
  {
   "cell_type": "code",
   "execution_count": 70,
   "metadata": {},
   "outputs": [],
   "source": [
    "submit = pd.read_csv('gender_submission.csv')  #캐글 제출 파일 형식인 submission csv파일을 submit이라는 변수에 넣어주도록 하겠습니다.\n",
    "submit['Survived'] = predictions  #제출 파일의 타겟 변수에 예측값을 대입하도록 하겠습니다.\n",
    "submit.to_csv('최종 결과물.csv', index = False)  #to_csv 기능을 이용해 제출 파일을 따로 만들도록 하겠습니다. "
   ]
  }
 ],
 "metadata": {
  "kernelspec": {
   "display_name": "Python 3",
   "language": "python",
   "name": "python3"
  },
  "language_info": {
   "codemirror_mode": {
    "name": "ipython",
    "version": 3
   },
   "file_extension": ".py",
   "mimetype": "text/x-python",
   "name": "python",
   "nbconvert_exporter": "python",
   "pygments_lexer": "ipython3",
   "version": "3.7.4"
  }
 },
 "nbformat": 4,
 "nbformat_minor": 2
}
