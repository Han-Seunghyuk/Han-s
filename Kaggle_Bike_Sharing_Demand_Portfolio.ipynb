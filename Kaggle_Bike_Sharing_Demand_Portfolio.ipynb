{
 "cells": [
  {
   "cell_type": "markdown",
   "metadata": {},
   "source": [
    "# Kaggle Bike Sharing Demand 자전거 수요 예측"
   ]
  },
  {
   "cell_type": "markdown",
   "metadata": {},
   "source": [
    "## 주어진 데이터를 이용해 어떤 환경에서 자전거 수요가 높은지 확인하고 상위권 점수에 도전해 보겠습니다."
   ]
  },
  {
   "cell_type": "markdown",
   "metadata": {},
   "source": [
    "### 라이브러리 셋팅"
   ]
  },
  {
   "cell_type": "code",
   "execution_count": 1,
   "metadata": {},
   "outputs": [],
   "source": [
    "import pandas as pd  #pandas는 분석용 라이브러리입니다.\n",
    "import seaborn as sns  #seaborn은 시각화 라이브러리입니다.\n",
    "import numpy as np  #numpy는 고성능 수칙계산을 용이하게 하는 라이브러리입니다.\n",
    "import matplotlib.pyplot as plt  #matplotlib.pyplot은 시각화 보조 라이브러리입니다. 현재 파이썬 파일에서 시각화 자료를 보여주도록 matplotlib inline도 추가하겠습니다.\n",
    "%matplotlib inline  "
   ]
  },
  {
   "cell_type": "markdown",
   "metadata": {},
   "source": [
    "### 데이터 로드"
   ]
  },
  {
   "cell_type": "markdown",
   "metadata": {},
   "source": [
    "#### -훈련용 데이터 training data"
   ]
  },
  {
   "cell_type": "code",
   "execution_count": 3,
   "metadata": {},
   "outputs": [
    {
     "name": "stdout",
     "output_type": "stream",
     "text": [
      "(10886, 12)\n"
     ]
    },
    {
     "data": {
      "text/html": [
       "<div>\n",
       "<style scoped>\n",
       "    .dataframe tbody tr th:only-of-type {\n",
       "        vertical-align: middle;\n",
       "    }\n",
       "\n",
       "    .dataframe tbody tr th {\n",
       "        vertical-align: top;\n",
       "    }\n",
       "\n",
       "    .dataframe thead th {\n",
       "        text-align: right;\n",
       "    }\n",
       "</style>\n",
       "<table border=\"1\" class=\"dataframe\">\n",
       "  <thead>\n",
       "    <tr style=\"text-align: right;\">\n",
       "      <th></th>\n",
       "      <th>datetime</th>\n",
       "      <th>season</th>\n",
       "      <th>holiday</th>\n",
       "      <th>workingday</th>\n",
       "      <th>weather</th>\n",
       "      <th>temp</th>\n",
       "      <th>atemp</th>\n",
       "      <th>humidity</th>\n",
       "      <th>windspeed</th>\n",
       "      <th>casual</th>\n",
       "      <th>registered</th>\n",
       "      <th>count</th>\n",
       "    </tr>\n",
       "  </thead>\n",
       "  <tbody>\n",
       "    <tr>\n",
       "      <td>0</td>\n",
       "      <td>2011-01-01 0:00</td>\n",
       "      <td>1</td>\n",
       "      <td>0</td>\n",
       "      <td>0</td>\n",
       "      <td>1</td>\n",
       "      <td>9.84</td>\n",
       "      <td>14.395</td>\n",
       "      <td>81</td>\n",
       "      <td>0.0</td>\n",
       "      <td>3</td>\n",
       "      <td>13</td>\n",
       "      <td>16</td>\n",
       "    </tr>\n",
       "    <tr>\n",
       "      <td>1</td>\n",
       "      <td>2011-01-01 1:00</td>\n",
       "      <td>1</td>\n",
       "      <td>0</td>\n",
       "      <td>0</td>\n",
       "      <td>1</td>\n",
       "      <td>9.02</td>\n",
       "      <td>13.635</td>\n",
       "      <td>80</td>\n",
       "      <td>0.0</td>\n",
       "      <td>8</td>\n",
       "      <td>32</td>\n",
       "      <td>40</td>\n",
       "    </tr>\n",
       "    <tr>\n",
       "      <td>2</td>\n",
       "      <td>2011-01-01 2:00</td>\n",
       "      <td>1</td>\n",
       "      <td>0</td>\n",
       "      <td>0</td>\n",
       "      <td>1</td>\n",
       "      <td>9.02</td>\n",
       "      <td>13.635</td>\n",
       "      <td>80</td>\n",
       "      <td>0.0</td>\n",
       "      <td>5</td>\n",
       "      <td>27</td>\n",
       "      <td>32</td>\n",
       "    </tr>\n",
       "    <tr>\n",
       "      <td>3</td>\n",
       "      <td>2011-01-01 3:00</td>\n",
       "      <td>1</td>\n",
       "      <td>0</td>\n",
       "      <td>0</td>\n",
       "      <td>1</td>\n",
       "      <td>9.84</td>\n",
       "      <td>14.395</td>\n",
       "      <td>75</td>\n",
       "      <td>0.0</td>\n",
       "      <td>3</td>\n",
       "      <td>10</td>\n",
       "      <td>13</td>\n",
       "    </tr>\n",
       "    <tr>\n",
       "      <td>4</td>\n",
       "      <td>2011-01-01 4:00</td>\n",
       "      <td>1</td>\n",
       "      <td>0</td>\n",
       "      <td>0</td>\n",
       "      <td>1</td>\n",
       "      <td>9.84</td>\n",
       "      <td>14.395</td>\n",
       "      <td>75</td>\n",
       "      <td>0.0</td>\n",
       "      <td>0</td>\n",
       "      <td>1</td>\n",
       "      <td>1</td>\n",
       "    </tr>\n",
       "  </tbody>\n",
       "</table>\n",
       "</div>"
      ],
      "text/plain": [
       "          datetime  season  holiday  workingday  weather  temp   atemp  \\\n",
       "0  2011-01-01 0:00       1        0           0        1  9.84  14.395   \n",
       "1  2011-01-01 1:00       1        0           0        1  9.02  13.635   \n",
       "2  2011-01-01 2:00       1        0           0        1  9.02  13.635   \n",
       "3  2011-01-01 3:00       1        0           0        1  9.84  14.395   \n",
       "4  2011-01-01 4:00       1        0           0        1  9.84  14.395   \n",
       "\n",
       "   humidity  windspeed  casual  registered  count  \n",
       "0        81        0.0       3          13     16  \n",
       "1        80        0.0       8          32     40  \n",
       "2        80        0.0       5          27     32  \n",
       "3        75        0.0       3          10     13  \n",
       "4        75        0.0       0           1      1  "
      ]
     },
     "execution_count": 3,
     "metadata": {},
     "output_type": "execute_result"
    }
   ],
   "source": [
    "train = pd.read_csv('train.csv')  #train이라는 변수에 csv파일을 읽는 코드인 pd.read_csv를 이용해 train.csv 파일을 불러옵니다.\n",
    "print(train.shape)  #train.shape를 이용해 행과 열의 갯수를 파악합니다. train 데이터는 10886개의 행과 12개의 열로 이루어져 있습니다.\n",
    "train.head()  #head()의 기능을 이용해 train데이터에서 가장 위에 있는 5개의 데이터를 불러옵니다."
   ]
  },
  {
   "cell_type": "markdown",
   "metadata": {},
   "source": [
    "#### -테스트용 데이터 test data"
   ]
  },
  {
   "cell_type": "code",
   "execution_count": 2,
   "metadata": {},
   "outputs": [
    {
     "name": "stdout",
     "output_type": "stream",
     "text": [
      "(6493, 9)\n"
     ]
    },
    {
     "data": {
      "text/html": [
       "<div>\n",
       "<style scoped>\n",
       "    .dataframe tbody tr th:only-of-type {\n",
       "        vertical-align: middle;\n",
       "    }\n",
       "\n",
       "    .dataframe tbody tr th {\n",
       "        vertical-align: top;\n",
       "    }\n",
       "\n",
       "    .dataframe thead th {\n",
       "        text-align: right;\n",
       "    }\n",
       "</style>\n",
       "<table border=\"1\" class=\"dataframe\">\n",
       "  <thead>\n",
       "    <tr style=\"text-align: right;\">\n",
       "      <th></th>\n",
       "      <th>datetime</th>\n",
       "      <th>season</th>\n",
       "      <th>holiday</th>\n",
       "      <th>workingday</th>\n",
       "      <th>weather</th>\n",
       "      <th>temp</th>\n",
       "      <th>atemp</th>\n",
       "      <th>humidity</th>\n",
       "      <th>windspeed</th>\n",
       "    </tr>\n",
       "  </thead>\n",
       "  <tbody>\n",
       "    <tr>\n",
       "      <td>0</td>\n",
       "      <td>2011-01-20 0:00</td>\n",
       "      <td>1</td>\n",
       "      <td>0</td>\n",
       "      <td>1</td>\n",
       "      <td>1</td>\n",
       "      <td>10.66</td>\n",
       "      <td>11.365</td>\n",
       "      <td>56</td>\n",
       "      <td>26.0027</td>\n",
       "    </tr>\n",
       "    <tr>\n",
       "      <td>1</td>\n",
       "      <td>2011-01-20 1:00</td>\n",
       "      <td>1</td>\n",
       "      <td>0</td>\n",
       "      <td>1</td>\n",
       "      <td>1</td>\n",
       "      <td>10.66</td>\n",
       "      <td>13.635</td>\n",
       "      <td>56</td>\n",
       "      <td>0.0000</td>\n",
       "    </tr>\n",
       "    <tr>\n",
       "      <td>2</td>\n",
       "      <td>2011-01-20 2:00</td>\n",
       "      <td>1</td>\n",
       "      <td>0</td>\n",
       "      <td>1</td>\n",
       "      <td>1</td>\n",
       "      <td>10.66</td>\n",
       "      <td>13.635</td>\n",
       "      <td>56</td>\n",
       "      <td>0.0000</td>\n",
       "    </tr>\n",
       "    <tr>\n",
       "      <td>3</td>\n",
       "      <td>2011-01-20 3:00</td>\n",
       "      <td>1</td>\n",
       "      <td>0</td>\n",
       "      <td>1</td>\n",
       "      <td>1</td>\n",
       "      <td>10.66</td>\n",
       "      <td>12.880</td>\n",
       "      <td>56</td>\n",
       "      <td>11.0014</td>\n",
       "    </tr>\n",
       "    <tr>\n",
       "      <td>4</td>\n",
       "      <td>2011-01-20 4:00</td>\n",
       "      <td>1</td>\n",
       "      <td>0</td>\n",
       "      <td>1</td>\n",
       "      <td>1</td>\n",
       "      <td>10.66</td>\n",
       "      <td>12.880</td>\n",
       "      <td>56</td>\n",
       "      <td>11.0014</td>\n",
       "    </tr>\n",
       "  </tbody>\n",
       "</table>\n",
       "</div>"
      ],
      "text/plain": [
       "          datetime  season  holiday  workingday  weather   temp   atemp  \\\n",
       "0  2011-01-20 0:00       1        0           1        1  10.66  11.365   \n",
       "1  2011-01-20 1:00       1        0           1        1  10.66  13.635   \n",
       "2  2011-01-20 2:00       1        0           1        1  10.66  13.635   \n",
       "3  2011-01-20 3:00       1        0           1        1  10.66  12.880   \n",
       "4  2011-01-20 4:00       1        0           1        1  10.66  12.880   \n",
       "\n",
       "   humidity  windspeed  \n",
       "0        56    26.0027  \n",
       "1        56     0.0000  \n",
       "2        56     0.0000  \n",
       "3        56    11.0014  \n",
       "4        56    11.0014  "
      ]
     },
     "execution_count": 2,
     "metadata": {},
     "output_type": "execute_result"
    }
   ],
   "source": [
    "test = pd.read_csv('test.csv')  #test라는 변수에 csv파일을 읽는 코드인 pd.read_csv를 이용해 test.csv 파일을 불러옵니다.\n",
    "print(test.shape)  #test.shape를 이용해 행과 열의 갯수를 파악합니다. test 데이터는 6493개의 행과 9개의 열로 이루어져 있습니다.\n",
    "test.head()  #head()의 기능을 이용해 test데이터에서 가장 위에 있는 5개의 데이터를 불러옵니다."
   ]
  },
  {
   "cell_type": "markdown",
   "metadata": {},
   "source": [
    "### 컬럼(열) 설명"
   ]
  },
  {
   "cell_type": "markdown",
   "metadata": {},
   "source": [
    "datetime = 시간(연, 월, 일, 시, 분, 초) \\\n",
    "season = 날씨(1 = 봄, 2 = 여름, 3 = 가을, 4 = 겨울) \\\n",
    "holiday = 공휴일(0 = 공휴일 X, 1 = 공휴일 O) \\\n",
    "workingday = 근무일(0 = 근무일 X, 1 = 근무일 O) \\\n",
    "weather = 날씨(1 = 맑음, 2 = 흐림, 3 = 약한 눈, 비 4 = 강한 폭풍우) \\\n",
    "temp = 기온 섭씨 \\\n",
    "atemp = 체감온도 섭씨 \\\n",
    "humidity = 습도 \\\n",
    "windspeed = 풍속 \\\n",
    "casual = 비회원 대여량 \\\n",
    "resistered = 회원 대여량 \\\n",
    "count = 총 대여량"
   ]
  },
  {
   "cell_type": "markdown",
   "metadata": {},
   "source": [
    "### 데이터 전처리"
   ]
  },
  {
   "cell_type": "markdown",
   "metadata": {},
   "source": [
    "-먼저 각 컬럼의 데이터 타입을 확인하도록 하겠습니다. "
   ]
  },
  {
   "cell_type": "code",
   "execution_count": 4,
   "metadata": {},
   "outputs": [
    {
     "data": {
      "text/plain": [
       "datetime       object\n",
       "season          int64\n",
       "holiday         int64\n",
       "workingday      int64\n",
       "weather         int64\n",
       "temp          float64\n",
       "atemp         float64\n",
       "humidity        int64\n",
       "windspeed     float64\n",
       "casual          int64\n",
       "registered      int64\n",
       "count           int64\n",
       "dtype: object"
      ]
     },
     "execution_count": 4,
     "metadata": {},
     "output_type": "execute_result"
    }
   ],
   "source": [
    "train.dtypes"
   ]
  },
  {
   "cell_type": "markdown",
   "metadata": {},
   "source": [
    "확인한 결과 datetime을 제외한 모든 컬럼이 숫자형으로 이루어져 있기 때문에 datetime만 처리하면 머신러닝 알고리즘에 쉽게 적용할 수 있겠다는 판단에 데이터 전처리를 먼저 진행하도록 하겠습니다."
   ]
  },
  {
   "cell_type": "markdown",
   "metadata": {},
   "source": [
    "#### datatime 시계열 데이터 처리"
   ]
  },
  {
   "cell_type": "code",
   "execution_count": 5,
   "metadata": {},
   "outputs": [
    {
     "data": {
      "text/plain": [
       "0    2011-01-01 0:00\n",
       "1    2011-01-01 1:00\n",
       "2    2011-01-01 2:00\n",
       "3    2011-01-01 3:00\n",
       "4    2011-01-01 4:00\n",
       "Name: datetime, dtype: object"
      ]
     },
     "execution_count": 5,
     "metadata": {},
     "output_type": "execute_result"
    }
   ],
   "source": [
    "train['datetime'].head()  #datetime을 보면 숫자형 데이터라고 생각이 들지만, object형으로 되어있는 것을 알 수 있습니다.\n",
    "                          #따라서 이를 분석하기 쉽게 연, 월, 일, 시, 분, 초 단위로 나눠 숫자형 데이터로 만들도록 하겠습니다."
   ]
  },
  {
   "cell_type": "code",
   "execution_count": 6,
   "metadata": {},
   "outputs": [
    {
     "data": {
      "text/plain": [
       "0   2011-01-01 00:00:00\n",
       "1   2011-01-01 01:00:00\n",
       "2   2011-01-01 02:00:00\n",
       "3   2011-01-01 03:00:00\n",
       "4   2011-01-01 04:00:00\n",
       "Name: datetime, dtype: datetime64[ns]"
      ]
     },
     "execution_count": 6,
     "metadata": {},
     "output_type": "execute_result"
    }
   ],
   "source": [
    "train['datetime'] = pd.to_datetime(train['datetime'])  #pd.to_datetime을 이용해 데이터 타입을 우선 datetime으로 바꾸도록 하겠습니다.\n",
    "train['datetime'].head()"
   ]
  },
  {
   "cell_type": "code",
   "execution_count": 7,
   "metadata": {},
   "outputs": [
    {
     "data": {
      "text/plain": [
       "0   2011-01-20 00:00:00\n",
       "1   2011-01-20 01:00:00\n",
       "2   2011-01-20 02:00:00\n",
       "3   2011-01-20 03:00:00\n",
       "4   2011-01-20 04:00:00\n",
       "Name: datetime, dtype: datetime64[ns]"
      ]
     },
     "execution_count": 7,
     "metadata": {},
     "output_type": "execute_result"
    }
   ],
   "source": [
    "test['datetime'] = pd.to_datetime(test['datetime'])  #test 데이터에도 적용하도록 하겠습니다.\n",
    "test['datetime'].head()"
   ]
  },
  {
   "cell_type": "markdown",
   "metadata": {},
   "source": [
    "##### -시계열 데이터 분해"
   ]
  },
  {
   "cell_type": "code",
   "execution_count": 8,
   "metadata": {},
   "outputs": [
    {
     "data": {
      "text/html": [
       "<div>\n",
       "<style scoped>\n",
       "    .dataframe tbody tr th:only-of-type {\n",
       "        vertical-align: middle;\n",
       "    }\n",
       "\n",
       "    .dataframe tbody tr th {\n",
       "        vertical-align: top;\n",
       "    }\n",
       "\n",
       "    .dataframe thead th {\n",
       "        text-align: right;\n",
       "    }\n",
       "</style>\n",
       "<table border=\"1\" class=\"dataframe\">\n",
       "  <thead>\n",
       "    <tr style=\"text-align: right;\">\n",
       "      <th></th>\n",
       "      <th>datetime</th>\n",
       "      <th>Year</th>\n",
       "      <th>Month</th>\n",
       "      <th>Day</th>\n",
       "      <th>Hour</th>\n",
       "      <th>Minute</th>\n",
       "      <th>Second</th>\n",
       "      <th>Dayofweek</th>\n",
       "      <th>Dayname</th>\n",
       "    </tr>\n",
       "  </thead>\n",
       "  <tbody>\n",
       "    <tr>\n",
       "      <td>0</td>\n",
       "      <td>2011-01-01 00:00:00</td>\n",
       "      <td>2011</td>\n",
       "      <td>1</td>\n",
       "      <td>1</td>\n",
       "      <td>0</td>\n",
       "      <td>0</td>\n",
       "      <td>0</td>\n",
       "      <td>5</td>\n",
       "      <td>Saturday</td>\n",
       "    </tr>\n",
       "    <tr>\n",
       "      <td>1</td>\n",
       "      <td>2011-01-01 01:00:00</td>\n",
       "      <td>2011</td>\n",
       "      <td>1</td>\n",
       "      <td>1</td>\n",
       "      <td>1</td>\n",
       "      <td>0</td>\n",
       "      <td>0</td>\n",
       "      <td>5</td>\n",
       "      <td>Saturday</td>\n",
       "    </tr>\n",
       "    <tr>\n",
       "      <td>2</td>\n",
       "      <td>2011-01-01 02:00:00</td>\n",
       "      <td>2011</td>\n",
       "      <td>1</td>\n",
       "      <td>1</td>\n",
       "      <td>2</td>\n",
       "      <td>0</td>\n",
       "      <td>0</td>\n",
       "      <td>5</td>\n",
       "      <td>Saturday</td>\n",
       "    </tr>\n",
       "    <tr>\n",
       "      <td>3</td>\n",
       "      <td>2011-01-01 03:00:00</td>\n",
       "      <td>2011</td>\n",
       "      <td>1</td>\n",
       "      <td>1</td>\n",
       "      <td>3</td>\n",
       "      <td>0</td>\n",
       "      <td>0</td>\n",
       "      <td>5</td>\n",
       "      <td>Saturday</td>\n",
       "    </tr>\n",
       "    <tr>\n",
       "      <td>4</td>\n",
       "      <td>2011-01-01 04:00:00</td>\n",
       "      <td>2011</td>\n",
       "      <td>1</td>\n",
       "      <td>1</td>\n",
       "      <td>4</td>\n",
       "      <td>0</td>\n",
       "      <td>0</td>\n",
       "      <td>5</td>\n",
       "      <td>Saturday</td>\n",
       "    </tr>\n",
       "  </tbody>\n",
       "</table>\n",
       "</div>"
      ],
      "text/plain": [
       "             datetime  Year  Month  Day  Hour  Minute  Second  Dayofweek  \\\n",
       "0 2011-01-01 00:00:00  2011      1    1     0       0       0          5   \n",
       "1 2011-01-01 01:00:00  2011      1    1     1       0       0          5   \n",
       "2 2011-01-01 02:00:00  2011      1    1     2       0       0          5   \n",
       "3 2011-01-01 03:00:00  2011      1    1     3       0       0          5   \n",
       "4 2011-01-01 04:00:00  2011      1    1     4       0       0          5   \n",
       "\n",
       "    Dayname  \n",
       "0  Saturday  \n",
       "1  Saturday  \n",
       "2  Saturday  \n",
       "3  Saturday  \n",
       "4  Saturday  "
      ]
     },
     "execution_count": 8,
     "metadata": {},
     "output_type": "execute_result"
    }
   ],
   "source": [
    "train['Year'] = train['datetime'].dt.year  #datetime의 기능을 이용해 datetime 컬럼에서 연도만 따로 나눠 Year라는 변수에 담아주겠습니다.  \n",
    "train['Month'] = train['datetime'].dt.month  #datetime의 기능을 이용해 datetime 컬럼에서 월만 따로 나눠 Month라는 변수에 담아주겠습니다.\n",
    "train['Day'] = train['datetime'].dt.day  #datetime의 기능을 이용해 datetime 컬럼에서 일만 따로 나눠 Day라는 변수에 담아주겠습니다.\n",
    "train['Hour'] = train['datetime'].dt.hour  #datetime의 기능을 이용해 datetime 컬럼에서 시간만 따로 나눠 Hour라는 변수에 담아주겠습니다.\n",
    "train['Minute'] = train['datetime'].dt.minute  #datetime의 기능을 이용해 datetime 컬럼에서 분만 따로 나눠 Minute이라는 변수에 담아주겠습니다.\n",
    "train['Second'] = train['datetime'].dt.second  #datetime의 기능을 이용해 datetime 컬럼에서 초만 따로 나눠 Second라는 변수에 담아주겠습니다.\n",
    "train['Dayofweek'] = train['datetime'].dt.dayofweek  #datetime의 기능에서 해당 날짜를 요일(숫자)로 변환해 Dayofweek라는 변수에 담아주겠습니다.\n",
    "train['Dayname'] = train['datetime'].dt.day_name()  #datetime의 기능에서 해당 날짜를 요일로 변환해 Dayname이라는 변수에 담아주겠습니다.\n",
    "train[['datetime', 'Year', 'Month', 'Day', 'Hour', 'Minute', 'Second', 'Dayofweek', 'Dayname']].head() \n",
    "#시계열 데이터가 잘 나눠진 것을 알 수 있습니다."
   ]
  },
  {
   "cell_type": "code",
   "execution_count": 9,
   "metadata": {},
   "outputs": [
    {
     "data": {
      "text/html": [
       "<div>\n",
       "<style scoped>\n",
       "    .dataframe tbody tr th:only-of-type {\n",
       "        vertical-align: middle;\n",
       "    }\n",
       "\n",
       "    .dataframe tbody tr th {\n",
       "        vertical-align: top;\n",
       "    }\n",
       "\n",
       "    .dataframe thead th {\n",
       "        text-align: right;\n",
       "    }\n",
       "</style>\n",
       "<table border=\"1\" class=\"dataframe\">\n",
       "  <thead>\n",
       "    <tr style=\"text-align: right;\">\n",
       "      <th></th>\n",
       "      <th>datetime</th>\n",
       "      <th>Year</th>\n",
       "      <th>Month</th>\n",
       "      <th>Day</th>\n",
       "      <th>Hour</th>\n",
       "      <th>Minute</th>\n",
       "      <th>Second</th>\n",
       "      <th>Dayofweek</th>\n",
       "      <th>Dayname</th>\n",
       "    </tr>\n",
       "  </thead>\n",
       "  <tbody>\n",
       "    <tr>\n",
       "      <td>0</td>\n",
       "      <td>2011-01-20 00:00:00</td>\n",
       "      <td>2011</td>\n",
       "      <td>1</td>\n",
       "      <td>20</td>\n",
       "      <td>0</td>\n",
       "      <td>0</td>\n",
       "      <td>0</td>\n",
       "      <td>3</td>\n",
       "      <td>Thursday</td>\n",
       "    </tr>\n",
       "    <tr>\n",
       "      <td>1</td>\n",
       "      <td>2011-01-20 01:00:00</td>\n",
       "      <td>2011</td>\n",
       "      <td>1</td>\n",
       "      <td>20</td>\n",
       "      <td>1</td>\n",
       "      <td>0</td>\n",
       "      <td>0</td>\n",
       "      <td>3</td>\n",
       "      <td>Thursday</td>\n",
       "    </tr>\n",
       "    <tr>\n",
       "      <td>2</td>\n",
       "      <td>2011-01-20 02:00:00</td>\n",
       "      <td>2011</td>\n",
       "      <td>1</td>\n",
       "      <td>20</td>\n",
       "      <td>2</td>\n",
       "      <td>0</td>\n",
       "      <td>0</td>\n",
       "      <td>3</td>\n",
       "      <td>Thursday</td>\n",
       "    </tr>\n",
       "    <tr>\n",
       "      <td>3</td>\n",
       "      <td>2011-01-20 03:00:00</td>\n",
       "      <td>2011</td>\n",
       "      <td>1</td>\n",
       "      <td>20</td>\n",
       "      <td>3</td>\n",
       "      <td>0</td>\n",
       "      <td>0</td>\n",
       "      <td>3</td>\n",
       "      <td>Thursday</td>\n",
       "    </tr>\n",
       "    <tr>\n",
       "      <td>4</td>\n",
       "      <td>2011-01-20 04:00:00</td>\n",
       "      <td>2011</td>\n",
       "      <td>1</td>\n",
       "      <td>20</td>\n",
       "      <td>4</td>\n",
       "      <td>0</td>\n",
       "      <td>0</td>\n",
       "      <td>3</td>\n",
       "      <td>Thursday</td>\n",
       "    </tr>\n",
       "  </tbody>\n",
       "</table>\n",
       "</div>"
      ],
      "text/plain": [
       "             datetime  Year  Month  Day  Hour  Minute  Second  Dayofweek  \\\n",
       "0 2011-01-20 00:00:00  2011      1   20     0       0       0          3   \n",
       "1 2011-01-20 01:00:00  2011      1   20     1       0       0          3   \n",
       "2 2011-01-20 02:00:00  2011      1   20     2       0       0          3   \n",
       "3 2011-01-20 03:00:00  2011      1   20     3       0       0          3   \n",
       "4 2011-01-20 04:00:00  2011      1   20     4       0       0          3   \n",
       "\n",
       "    Dayname  \n",
       "0  Thursday  \n",
       "1  Thursday  \n",
       "2  Thursday  \n",
       "3  Thursday  \n",
       "4  Thursday  "
      ]
     },
     "execution_count": 9,
     "metadata": {},
     "output_type": "execute_result"
    }
   ],
   "source": [
    "test['Year'] = test['datetime'].dt.year  #test 데이터에도 적용하도록 하겠습니다.\n",
    "test['Month'] = test['datetime'].dt.month\n",
    "test['Day'] = test['datetime'].dt.day\n",
    "test['Hour'] = test['datetime'].dt.hour\n",
    "test['Minute'] = test['datetime'].dt.minute\n",
    "test['Second'] = test['datetime'].dt.second\n",
    "test['Dayofweek'] = test['datetime'].dt.dayofweek\n",
    "test['Dayname'] = test['datetime'].dt.day_name()\n",
    "test[['datetime', 'Year', 'Month', 'Day', 'Hour', 'Minute', 'Second', 'Dayofweek', 'Dayname']].head()"
   ]
  },
  {
   "cell_type": "markdown",
   "metadata": {},
   "source": [
    "### 탐험적 데이터 분석"
   ]
  },
  {
   "cell_type": "markdown",
   "metadata": {},
   "source": [
    "#### datetime 연, 월, 일, 시, 분, 초별 자전거 대여량 분석"
   ]
  },
  {
   "cell_type": "code",
   "execution_count": 10,
   "metadata": {},
   "outputs": [
    {
     "data": {
      "text/plain": [
       "<matplotlib.axes._subplots.AxesSubplot at 0x22bc06638c8>"
      ]
     },
     "execution_count": 10,
     "metadata": {},
     "output_type": "execute_result"
    },
    {
     "data": {
      "image/png": "[encoded data removed]",
      "text/plain": [
       "<Figure size 1296x576 with 6 Axes>"
      ]
     },
     "metadata": {
      "needs_background": "light"
     },
     "output_type": "display_data"
    }
   ],
   "source": [
    "fig, ((ax1, ax2, ax3), (ax4, ax5, ax6)) = plt.subplots(nrows = 2, ncols = 3)  #matplotlib의 subplots를 이용해 2행 3열의 총 6개의 그래프를 출력하도록 하겠습니다.\n",
    "fig.set_size_inches(18, 8)  #전체 그래프를 보기 쉽도록 크기를 조절하도록 하겠습니다.\n",
    "sns.barplot(data = train, x = 'Year', y = 'count', ax = ax1)  #seaborn의 barplot을 이용해 연도와 대여량의 관계를 보도록 하겠습니다.\n",
    "sns.barplot(data = train, x = 'Month', y = 'count', ax = ax2)  #seaborn의 barplot을 이용해 월과 대여량의 관계를 보도록 하겠습니다.\n",
    "sns.barplot(data = train, x = 'Day', y = 'count', ax = ax3)  #seaborn의 barplot을 이용해 일과 대여량의 관계를 보도록 하겠습니다.\n",
    "sns.barplot(data = train, x = 'Hour', y = 'count', ax = ax4)  #seaborn의 barplot을 이용해 시간과 대여량의 관계를 보도록 하겠습니다.\n",
    "sns.barplot(data = train, x = 'Minute', y = 'count', ax = ax5)  #seaborn의 barplot을 이용해 분과 대여량의 관계를 보도록 하겠습니다.\n",
    "sns.barplot(data = train, x = 'Second', y = 'count', ax = ax6)  #seaborn의 barplot을 이용해 일과 대여량의 관계를 보도록 하겠습니다."
   ]
  },
  {
   "cell_type": "markdown",
   "metadata": {},
   "source": [
    "먼저, 연도별 그래프를 보면 2011년 대비 2012년의 대여량이 많이 증가한 것을 알 수 있습니다. 2012년이 2011년 보다 성장한 것 같습니다. \\\n",
    "두 번째로 월별 그래프를 보면 겨울에 해당하는 1, 2, 12월이 다른 달에 비해 대여량이 적은 것을 알 수 있습니다. 따라서 날이 따뜻할수록 대여량이 많아질 것으로 예상할 수 있을 것입니다. \\\n",
    "세 번째로 일별 그래프를 보면 일별로 크게 대여량 차이가 없는 것을 알 수 있습니다. 따라서 해당 일별 데이터는 굳이 사용하지 않는 것이 좋을 것 같습니다. 또한, 19일까지만 존재하는 것으로 봤을 때 train과 test 데이터를 나누는 기준일 것으로 예상돼 머신러닝 적용시 과적합을 막기 위해 사용하지 않는 편이 나을 것 같습니다. \\\n",
    "네 번째로 시간별 그래프를 보면 아침 시간대와 저녁 시간대에 대여량이 많은 것을 알 수 있습니다. 이는 출근 시간과 퇴근 시간에 대여량이 많아질 것으로 예상할 수 있을 것입니다. \\\n",
    "다섯 번째로 분별 그래프를 보면 x축이 전부 0인 것을 볼 수 있습니다. 전처리 과정에서 분별 데이터 값을 보면 0만 존재하기 때문입니다. 이런 데이터는 크게 도움이 되지 않을 것이므로 사용하지 않도록 하겠습니다. \\\n",
    "여섯 번째로 초별 그래프를 보면 분별 그래프와 마찬가지 형태를 띄고 있으므로 초별 데이터도 사용하지 않도록 하겠습니다."
   ]
  },
  {
   "cell_type": "markdown",
   "metadata": {},
   "source": [
    "##### datetime year-month 대여량 분석"
   ]
  },
  {
   "cell_type": "markdown",
   "metadata": {},
   "source": [
    "2011년 대비 2012년에 대여량이 증가한 것을 통해 그만큼 성장했을 것이라는 판단으로 연도별 월 대여량을 비교해 보도록 하겠습니다."
   ]
  },
  {
   "cell_type": "code",
   "execution_count": 11,
   "metadata": {},
   "outputs": [
    {
     "data": {
      "text/plain": [
       "0    2011-1\n",
       "1    2011-1\n",
       "2    2011-1\n",
       "3    2011-1\n",
       "4    2011-1\n",
       "Name: Year_month, dtype: object"
      ]
     },
     "execution_count": 11,
     "metadata": {},
     "output_type": "execute_result"
    }
   ],
   "source": [
    "train['Year_month'] = train['Year'].astype(str) + '-' + train['Month'].astype(str)  #연도와 월 데이터를 str형태로 합쳐 새로운 컬럼을 만들도록 하겠습니다.\n",
    "train['Year_month'].head()  #연도와 월 데이터가 잘 합쳐진 것을 볼 수 있습니다."
   ]
  },
  {
   "cell_type": "markdown",
   "metadata": {},
   "source": [
    "시각화를 통해 자세히 파악해 보도록 하겠습니다."
   ]
  },
  {
   "cell_type": "code",
   "execution_count": 12,
   "metadata": {},
   "outputs": [
    {
     "data": {
      "text/plain": [
       "<matplotlib.axes._subplots.AxesSubplot at 0x22bc00e1088>"
      ]
     },
     "execution_count": 12,
     "metadata": {},
     "output_type": "execute_result"
    },
    {
     "data": {
      "image/png": "[encoded data removed]",
      "text/plain": [
       "<Figure size 1296x288 with 1 Axes>"
      ]
     },
     "metadata": {
      "needs_background": "light"
     },
     "output_type": "display_data"
    }
   ],
   "source": [
    "plt.figure(figsize = (18, 4))  #matplotlib을 이용해 그래프 사이즈를 보기 좋게 변경하도록 하겠습니다.\n",
    "sns.barplot(data = train, x = 'Year_month', y = 'count')  #연도별 월과 대여량의 관계를 보도록 하겠습니다."
   ]
  },
  {
   "cell_type": "markdown",
   "metadata": {},
   "source": [
    "그래프를 보면 2012년의 월별 대여량이 2011년의 월별 대여량에 비해 상당히 많다는 것을 알 수 있습니다. 이럴 경우 단순히 월별 데이터를 머신러닝에 적용하면 연도별 대여량의 성장분을 고려하지 못해 혼란을 야기할 가능성이 있을 수 있습니다. 따라서 월별 데이터는 머신러닝에 적용하지 않는 쪽으로 하겠습니다."
   ]
  },
  {
   "cell_type": "markdown",
   "metadata": {},
   "source": [
    "##### datetime_hour 대여량 분석"
   ]
  },
  {
   "cell_type": "markdown",
   "metadata": {},
   "source": [
    "이번에는 시간대별 데이터를 자세하게 파악해 보겠습니다. 위에서 시간대별 그래프를 봤을 때 출근 시간대와 퇴근 시간대에 대여량이 많아지는 것을 확인했습니다. 따라서 일과 관련된 컬럼인 workingday, dayofweek와 함께 분석하도록 하겠습니다."
   ]
  },
  {
   "cell_type": "code",
   "execution_count": 13,
   "metadata": {},
   "outputs": [
    {
     "data": {
      "text/plain": [
       "<matplotlib.axes._subplots.AxesSubplot at 0x22bc0aef4c8>"
      ]
     },
     "execution_count": 13,
     "metadata": {},
     "output_type": "execute_result"
    },
    {
     "data": {
      "image/png": "[encoded data removed]",
      "text/plain": [
       "<Figure size 1296x864 with 3 Axes>"
      ]
     },
     "metadata": {
      "needs_background": "light"
     },
     "output_type": "display_data"
    }
   ],
   "source": [
    "fig, (ax1, ax2, ax3) = plt.subplots(nrows = 3, ncols = 1)  #matplotlib의 subplots를 이용해 3행 1열의 총 3개의 그래프를 출력하도록 하겠습니다.\n",
    "fig.set_size_inches(18, 12)  #전체 그래프를 보기 쉽도록 크기를 조절하도록 하겠습니다.\n",
    "sns.pointplot(data = train, x = 'Hour', y = 'count', ax = ax1)  #seaborn의 pointplot을 이용해 시간대와 대여량의 관계를 보도록 하겠습니다.\n",
    "sns.pointplot(data = train, x = 'Hour', y = 'count', hue = 'workingday', ax = ax2)  #seaborn의 pointplot을 이용해 시간대와 대여량의 관계를 근무일 기준으로 보도록 하겠습니다.\n",
    "sns.pointplot(data = train, x = 'Hour', y = 'count', hue = 'Dayname', ax = ax3)  #seaborn의 pointplot을 이용해 시간대와 대여량의 관계를 요일 기준으로 보도록 하겠습니다."
   ]
  },
  {
   "cell_type": "markdown",
   "metadata": {},
   "source": [
    "먼저, 시간대별 그래프를 보면 출퇴근 시간대에 확실히 대여량이 많은 것을 알 수 있습니다. \\\n",
    "두 번째로 근무일 기준 시간대별 그래프를 보면 근무일이 아닐 때에는 오히려 오후 시간대에 대여량이 많은 것을 알 수 있습니다. \\\n",
    "세 번째로 요일 기준 시간대별 그래프를 보면 평일과 주말 그리고 각 요일별로 대여량 차이가 나는 것을 알 수 있습니다. \\\n",
    "결론적으로 시간대, 근무일, 요일별로 그 특성이 다르기 때문에 머신러닝에 함께 적용하는 것이 더 효과적일 것으로 예상합니다."
   ]
  },
  {
   "cell_type": "markdown",
   "metadata": {},
   "source": [
    "최종적으로 datetime 컬럼에서는 Year, Hour, Dayofweek만 머신러닝에 적용하도록 하겠습니다."
   ]
  },
  {
   "cell_type": "markdown",
   "metadata": {},
   "source": [
    "#### weather 날씨별 대여량 분석"
   ]
  },
  {
   "cell_type": "code",
   "execution_count": 14,
   "metadata": {},
   "outputs": [
    {
     "data": {
      "text/plain": [
       "<matplotlib.axes._subplots.AxesSubplot at 0x22bc27c8a48>"
      ]
     },
     "execution_count": 14,
     "metadata": {},
     "output_type": "execute_result"
    },
    {
     "data": {
      "image/png": "[encoded data removed]",
      "text/plain": [
       "<Figure size 432x288 with 1 Axes>"
      ]
     },
     "metadata": {
      "needs_background": "light"
     },
     "output_type": "display_data"
    }
   ],
   "source": [
    "sns.barplot(data = train, x = 'weather', y = 'count')  #seaborn의 barplot을 이용해 날씨와 대여량의 관계를 확인해 보도록 하겠습니다."
   ]
  },
  {
   "cell_type": "markdown",
   "metadata": {},
   "source": [
    "일반적인 사고처럼 날씨가 좋을수록 대여량이 많은 것을 확인할 수 있습니다. 하지만, 악천후인 4번의 날씨가 3번 보다 대여량이 높게 나온 것은 다소 의외인 것 같습니다. 날씨 데이터의 4번 값을 한 번 확인해 보도록 하겠습니다."
   ]
  },
  {
   "cell_type": "code",
   "execution_count": 15,
   "metadata": {},
   "outputs": [
    {
     "data": {
      "text/html": [
       "<div>\n",
       "<style scoped>\n",
       "    .dataframe tbody tr th:only-of-type {\n",
       "        vertical-align: middle;\n",
       "    }\n",
       "\n",
       "    .dataframe tbody tr th {\n",
       "        vertical-align: top;\n",
       "    }\n",
       "\n",
       "    .dataframe thead th {\n",
       "        text-align: right;\n",
       "    }\n",
       "</style>\n",
       "<table border=\"1\" class=\"dataframe\">\n",
       "  <thead>\n",
       "    <tr style=\"text-align: right;\">\n",
       "      <th></th>\n",
       "      <th>datetime</th>\n",
       "      <th>season</th>\n",
       "      <th>holiday</th>\n",
       "      <th>workingday</th>\n",
       "      <th>weather</th>\n",
       "      <th>temp</th>\n",
       "      <th>atemp</th>\n",
       "      <th>humidity</th>\n",
       "      <th>windspeed</th>\n",
       "      <th>casual</th>\n",
       "      <th>...</th>\n",
       "      <th>count</th>\n",
       "      <th>Year</th>\n",
       "      <th>Month</th>\n",
       "      <th>Day</th>\n",
       "      <th>Hour</th>\n",
       "      <th>Minute</th>\n",
       "      <th>Second</th>\n",
       "      <th>Dayofweek</th>\n",
       "      <th>Dayname</th>\n",
       "      <th>Year_month</th>\n",
       "    </tr>\n",
       "  </thead>\n",
       "  <tbody>\n",
       "    <tr>\n",
       "      <td>5631</td>\n",
       "      <td>2012-01-09 18:00:00</td>\n",
       "      <td>1</td>\n",
       "      <td>0</td>\n",
       "      <td>1</td>\n",
       "      <td>4</td>\n",
       "      <td>8.2</td>\n",
       "      <td>11.365</td>\n",
       "      <td>86</td>\n",
       "      <td>6.0032</td>\n",
       "      <td>6</td>\n",
       "      <td>...</td>\n",
       "      <td>164</td>\n",
       "      <td>2012</td>\n",
       "      <td>1</td>\n",
       "      <td>9</td>\n",
       "      <td>18</td>\n",
       "      <td>0</td>\n",
       "      <td>0</td>\n",
       "      <td>0</td>\n",
       "      <td>Monday</td>\n",
       "      <td>2012-1</td>\n",
       "    </tr>\n",
       "  </tbody>\n",
       "</table>\n",
       "<p>1 rows × 21 columns</p>\n",
       "</div>"
      ],
      "text/plain": [
       "                datetime  season  holiday  workingday  weather  temp   atemp  \\\n",
       "5631 2012-01-09 18:00:00       1        0           1        4   8.2  11.365   \n",
       "\n",
       "      humidity  windspeed  casual  ...  count  Year  Month  Day  Hour  Minute  \\\n",
       "5631        86     6.0032       6  ...    164  2012      1    9    18       0   \n",
       "\n",
       "      Second  Dayofweek  Dayname Year_month  \n",
       "5631       0          0   Monday     2012-1  \n",
       "\n",
       "[1 rows x 21 columns]"
      ]
     },
     "execution_count": 15,
     "metadata": {},
     "output_type": "execute_result"
    }
   ],
   "source": [
    "train[train['weather'] == 4]  #weather의 값이 4인 데이터를 색인해 보도록 하겠습니다."
   ]
  },
  {
   "cell_type": "markdown",
   "metadata": {},
   "source": [
    "weather가 4인 값을 찾아보니 만 개가 넘는 데이터 중 단 한 개만 존재하는 것을 알 수 있습니다. 만약 현재 상태로 weather를 머신러닝에 적용하면 혼란을 야기할 수 있기 때문에 가장 비슷한 날씨인 3으로 변경하도록 하겠습니다."
   ]
  },
  {
   "cell_type": "code",
   "execution_count": 16,
   "metadata": {},
   "outputs": [],
   "source": [
    "train.loc[train['weather'] == 4, 'weather'] = 3  #weather 4의 값을 3으로 변경합니다."
   ]
  },
  {
   "cell_type": "markdown",
   "metadata": {},
   "source": [
    "또한, weather 컬럼의 값이 숫자형이기는 하나 사실상 범주형이기 때문에 One-hot 인코딩을 하도록 하겠습니다."
   ]
  },
  {
   "cell_type": "code",
   "execution_count": 17,
   "metadata": {},
   "outputs": [
    {
     "data": {
      "text/html": [
       "<div>\n",
       "<style scoped>\n",
       "    .dataframe tbody tr th:only-of-type {\n",
       "        vertical-align: middle;\n",
       "    }\n",
       "\n",
       "    .dataframe tbody tr th {\n",
       "        vertical-align: top;\n",
       "    }\n",
       "\n",
       "    .dataframe thead th {\n",
       "        text-align: right;\n",
       "    }\n",
       "</style>\n",
       "<table border=\"1\" class=\"dataframe\">\n",
       "  <thead>\n",
       "    <tr style=\"text-align: right;\">\n",
       "      <th></th>\n",
       "      <th>weather</th>\n",
       "      <th>weather_1</th>\n",
       "      <th>weather_2</th>\n",
       "      <th>weather_3</th>\n",
       "    </tr>\n",
       "  </thead>\n",
       "  <tbody>\n",
       "    <tr>\n",
       "      <td>0</td>\n",
       "      <td>1</td>\n",
       "      <td>True</td>\n",
       "      <td>False</td>\n",
       "      <td>False</td>\n",
       "    </tr>\n",
       "    <tr>\n",
       "      <td>1</td>\n",
       "      <td>1</td>\n",
       "      <td>True</td>\n",
       "      <td>False</td>\n",
       "      <td>False</td>\n",
       "    </tr>\n",
       "    <tr>\n",
       "      <td>2</td>\n",
       "      <td>1</td>\n",
       "      <td>True</td>\n",
       "      <td>False</td>\n",
       "      <td>False</td>\n",
       "    </tr>\n",
       "    <tr>\n",
       "      <td>3</td>\n",
       "      <td>1</td>\n",
       "      <td>True</td>\n",
       "      <td>False</td>\n",
       "      <td>False</td>\n",
       "    </tr>\n",
       "    <tr>\n",
       "      <td>4</td>\n",
       "      <td>1</td>\n",
       "      <td>True</td>\n",
       "      <td>False</td>\n",
       "      <td>False</td>\n",
       "    </tr>\n",
       "  </tbody>\n",
       "</table>\n",
       "</div>"
      ],
      "text/plain": [
       "   weather  weather_1  weather_2  weather_3\n",
       "0        1       True      False      False\n",
       "1        1       True      False      False\n",
       "2        1       True      False      False\n",
       "3        1       True      False      False\n",
       "4        1       True      False      False"
      ]
     },
     "execution_count": 17,
     "metadata": {},
     "output_type": "execute_result"
    }
   ],
   "source": [
    "train['weather_1'] = (train['weather'] == 1)  #weather 값이 1이면 참 아니면 거짓을 출력하도록 합니다.\n",
    "train['weather_2'] = (train['weather'] == 2)  #weather 값이 2이면 참 아니면 거짓을 출력하도록 합니다.\n",
    "train['weather_3'] = (train['weather'] == 3)  #weather 값이 3이면 참 아니면 거짓을 출력하도록 합니다.\n",
    "train[['weather', 'weather_1', 'weather_2', 'weather_3']].head()"
   ]
  },
  {
   "cell_type": "code",
   "execution_count": 18,
   "metadata": {},
   "outputs": [
    {
     "data": {
      "text/plain": [
       "1    4221\n",
       "2    1710\n",
       "3     560\n",
       "4       2\n",
       "Name: weather, dtype: int64"
      ]
     },
     "execution_count": 18,
     "metadata": {},
     "output_type": "execute_result"
    }
   ],
   "source": [
    "test['weather'].value_counts()  #test 데이터에서도 4의 데이터가 상당히 부족하기 때문에 3으로 변경하도록 하겠습니다."
   ]
  },
  {
   "cell_type": "code",
   "execution_count": 19,
   "metadata": {},
   "outputs": [
    {
     "data": {
      "text/html": [
       "<div>\n",
       "<style scoped>\n",
       "    .dataframe tbody tr th:only-of-type {\n",
       "        vertical-align: middle;\n",
       "    }\n",
       "\n",
       "    .dataframe tbody tr th {\n",
       "        vertical-align: top;\n",
       "    }\n",
       "\n",
       "    .dataframe thead th {\n",
       "        text-align: right;\n",
       "    }\n",
       "</style>\n",
       "<table border=\"1\" class=\"dataframe\">\n",
       "  <thead>\n",
       "    <tr style=\"text-align: right;\">\n",
       "      <th></th>\n",
       "      <th>datetime</th>\n",
       "      <th>season</th>\n",
       "      <th>holiday</th>\n",
       "      <th>workingday</th>\n",
       "      <th>weather</th>\n",
       "      <th>temp</th>\n",
       "      <th>atemp</th>\n",
       "      <th>humidity</th>\n",
       "      <th>windspeed</th>\n",
       "      <th>Year</th>\n",
       "      <th>Month</th>\n",
       "      <th>Day</th>\n",
       "      <th>Hour</th>\n",
       "      <th>Minute</th>\n",
       "      <th>Second</th>\n",
       "      <th>Dayofweek</th>\n",
       "      <th>Dayname</th>\n",
       "    </tr>\n",
       "  </thead>\n",
       "  <tbody>\n",
       "    <tr>\n",
       "      <td>154</td>\n",
       "      <td>2011-01-26 16:00:00</td>\n",
       "      <td>1</td>\n",
       "      <td>0</td>\n",
       "      <td>1</td>\n",
       "      <td>4</td>\n",
       "      <td>9.02</td>\n",
       "      <td>9.85</td>\n",
       "      <td>93</td>\n",
       "      <td>22.0028</td>\n",
       "      <td>2011</td>\n",
       "      <td>1</td>\n",
       "      <td>26</td>\n",
       "      <td>16</td>\n",
       "      <td>0</td>\n",
       "      <td>0</td>\n",
       "      <td>2</td>\n",
       "      <td>Wednesday</td>\n",
       "    </tr>\n",
       "    <tr>\n",
       "      <td>3248</td>\n",
       "      <td>2012-01-21 01:00:00</td>\n",
       "      <td>1</td>\n",
       "      <td>0</td>\n",
       "      <td>0</td>\n",
       "      <td>4</td>\n",
       "      <td>5.74</td>\n",
       "      <td>6.82</td>\n",
       "      <td>86</td>\n",
       "      <td>12.9980</td>\n",
       "      <td>2012</td>\n",
       "      <td>1</td>\n",
       "      <td>21</td>\n",
       "      <td>1</td>\n",
       "      <td>0</td>\n",
       "      <td>0</td>\n",
       "      <td>5</td>\n",
       "      <td>Saturday</td>\n",
       "    </tr>\n",
       "  </tbody>\n",
       "</table>\n",
       "</div>"
      ],
      "text/plain": [
       "                datetime  season  holiday  workingday  weather  temp  atemp  \\\n",
       "154  2011-01-26 16:00:00       1        0           1        4  9.02   9.85   \n",
       "3248 2012-01-21 01:00:00       1        0           0        4  5.74   6.82   \n",
       "\n",
       "      humidity  windspeed  Year  Month  Day  Hour  Minute  Second  Dayofweek  \\\n",
       "154         93    22.0028  2011      1   26    16       0       0          2   \n",
       "3248        86    12.9980  2012      1   21     1       0       0          5   \n",
       "\n",
       "        Dayname  \n",
       "154   Wednesday  \n",
       "3248   Saturday  "
      ]
     },
     "execution_count": 19,
     "metadata": {},
     "output_type": "execute_result"
    }
   ],
   "source": [
    "test[test['weather'] == 4]  "
   ]
  },
  {
   "cell_type": "code",
   "execution_count": 20,
   "metadata": {},
   "outputs": [],
   "source": [
    "test.loc[test['weather'] == 4, 'weather'] = 3  #weather 4의 값을 3으로 변경합니다."
   ]
  },
  {
   "cell_type": "code",
   "execution_count": 21,
   "metadata": {},
   "outputs": [],
   "source": [
    "test['weather_1'] = (test['weather'] == 1)  #test 데이터에도 적용하도록 하겠습니다.\n",
    "test['weather_2'] = (test['weather'] == 2)\n",
    "test['weather_3'] = (test['weather'] == 3)"
   ]
  },
  {
   "cell_type": "markdown",
   "metadata": {},
   "source": [
    "weather 데이터 분석 결과 날씨가 좋아질수록 대여량이 많다는 점을 알 수 있었고 예측에 혼란이 될 부분을 제거함에 따라 예측의 성능이 높아질 것으로 예상됩니다."
   ]
  },
  {
   "cell_type": "markdown",
   "metadata": {},
   "source": [
    "#### season 계절별 대여량 분석"
   ]
  },
  {
   "cell_type": "code",
   "execution_count": 22,
   "metadata": {},
   "outputs": [
    {
     "data": {
      "text/plain": [
       "<matplotlib.axes._subplots.AxesSubplot at 0x22bc2323188>"
      ]
     },
     "execution_count": 22,
     "metadata": {},
     "output_type": "execute_result"
    },
    {
     "data": {
      "image/png": "[encoded data removed]",
      "text/plain": [
       "<Figure size 432x288 with 1 Axes>"
      ]
     },
     "metadata": {
      "needs_background": "light"
     },
     "output_type": "display_data"
    }
   ],
   "source": [
    "sns.barplot(data = train, x = 'season', y = 'count')  #seaborn의 barplot을 이용해 계절과 대여량의 관계를 확인해 보도록 하겠습니다."
   ]
  },
  {
   "cell_type": "markdown",
   "metadata": {},
   "source": [
    "계절별 그래프를 보면 여름과 가을에 대여량이 많은 것을 알 수 있습니다. 하지만, 비교적 따뜻한 봄 대여량이 겨울 대여량에 비해 더 적다는 것은 다소 의외의 결과인 것 같습니다. 계절 데이터를 살펴보도록 하겠습니다."
   ]
  },
  {
   "cell_type": "code",
   "execution_count": 23,
   "metadata": {},
   "outputs": [
    {
     "data": {
      "text/html": [
       "<div>\n",
       "<style scoped>\n",
       "    .dataframe tbody tr th:only-of-type {\n",
       "        vertical-align: middle;\n",
       "    }\n",
       "\n",
       "    .dataframe tbody tr th {\n",
       "        vertical-align: top;\n",
       "    }\n",
       "\n",
       "    .dataframe thead th {\n",
       "        text-align: right;\n",
       "    }\n",
       "</style>\n",
       "<table border=\"1\" class=\"dataframe\">\n",
       "  <thead>\n",
       "    <tr style=\"text-align: right;\">\n",
       "      <th></th>\n",
       "      <th>Month</th>\n",
       "      <th>season</th>\n",
       "    </tr>\n",
       "  </thead>\n",
       "  <tbody>\n",
       "    <tr>\n",
       "      <td>0</td>\n",
       "      <td>1</td>\n",
       "      <td>1</td>\n",
       "    </tr>\n",
       "    <tr>\n",
       "      <td>1</td>\n",
       "      <td>1</td>\n",
       "      <td>1</td>\n",
       "    </tr>\n",
       "    <tr>\n",
       "      <td>2</td>\n",
       "      <td>1</td>\n",
       "      <td>1</td>\n",
       "    </tr>\n",
       "    <tr>\n",
       "      <td>3</td>\n",
       "      <td>1</td>\n",
       "      <td>1</td>\n",
       "    </tr>\n",
       "    <tr>\n",
       "      <td>4</td>\n",
       "      <td>1</td>\n",
       "      <td>1</td>\n",
       "    </tr>\n",
       "    <tr>\n",
       "      <td>...</td>\n",
       "      <td>...</td>\n",
       "      <td>...</td>\n",
       "    </tr>\n",
       "    <tr>\n",
       "      <td>6780</td>\n",
       "      <td>3</td>\n",
       "      <td>1</td>\n",
       "    </tr>\n",
       "    <tr>\n",
       "      <td>6781</td>\n",
       "      <td>3</td>\n",
       "      <td>1</td>\n",
       "    </tr>\n",
       "    <tr>\n",
       "      <td>6782</td>\n",
       "      <td>3</td>\n",
       "      <td>1</td>\n",
       "    </tr>\n",
       "    <tr>\n",
       "      <td>6783</td>\n",
       "      <td>3</td>\n",
       "      <td>1</td>\n",
       "    </tr>\n",
       "    <tr>\n",
       "      <td>6784</td>\n",
       "      <td>3</td>\n",
       "      <td>1</td>\n",
       "    </tr>\n",
       "  </tbody>\n",
       "</table>\n",
       "<p>2686 rows × 2 columns</p>\n",
       "</div>"
      ],
      "text/plain": [
       "      Month  season\n",
       "0         1       1\n",
       "1         1       1\n",
       "2         1       1\n",
       "3         1       1\n",
       "4         1       1\n",
       "...     ...     ...\n",
       "6780      3       1\n",
       "6781      3       1\n",
       "6782      3       1\n",
       "6783      3       1\n",
       "6784      3       1\n",
       "\n",
       "[2686 rows x 2 columns]"
      ]
     },
     "execution_count": 23,
     "metadata": {},
     "output_type": "execute_result"
    }
   ],
   "source": [
    "train.loc[train['season'] == 1, ['Month', 'season']]  #season이 1인 값의 달과 계절을 확인해 보도록 하겠습니다."
   ]
  },
  {
   "cell_type": "markdown",
   "metadata": {},
   "source": [
    "확인 결과 1, 2, 3월이 봄으로 지정된 것을 알 수 있습니다. 일반적으로 1, 2월은 겨울에 속하므로 계절 설정이 잘못되어 있는 것을 알 수 있습니다. 따라서 계절 설정을 3, 4, 5월은 봄 6, 7, 8월은 여름 9, 10, 11월은 가을 12, 1, 2월은 겨울로 바꿔주도록 하겠습니다."
   ]
  },
  {
   "cell_type": "code",
   "execution_count": 24,
   "metadata": {},
   "outputs": [],
   "source": [
    "def season(month):  #def함수를 이용해 월별 계절을 재설정 하도록 하겠습니다.\n",
    "    if month in [3, 4, 5]:  #3, 4, 5월이면 1을 출력하도록 합니다.\n",
    "        return 1\n",
    "    elif month in [6, 7, 8]:  #6, 7, 8월이면 2를 출력하도록 합니다.\n",
    "        return 2\n",
    "    elif month in [9, 10, 11]:  #9, 10, 11월이면 3을 출력하도록 합니다.\n",
    "        return 3\n",
    "    else:                     #그 외 12, 1, 2월이면 4를 출력하도록 합니다.\n",
    "        return 4"
   ]
  },
  {
   "cell_type": "code",
   "execution_count": 25,
   "metadata": {},
   "outputs": [
    {
     "data": {
      "text/html": [
       "<div>\n",
       "<style scoped>\n",
       "    .dataframe tbody tr th:only-of-type {\n",
       "        vertical-align: middle;\n",
       "    }\n",
       "\n",
       "    .dataframe tbody tr th {\n",
       "        vertical-align: top;\n",
       "    }\n",
       "\n",
       "    .dataframe thead th {\n",
       "        text-align: right;\n",
       "    }\n",
       "</style>\n",
       "<table border=\"1\" class=\"dataframe\">\n",
       "  <thead>\n",
       "    <tr style=\"text-align: right;\">\n",
       "      <th></th>\n",
       "      <th>Month</th>\n",
       "      <th>season</th>\n",
       "    </tr>\n",
       "  </thead>\n",
       "  <tbody>\n",
       "    <tr>\n",
       "      <td>0</td>\n",
       "      <td>1</td>\n",
       "      <td>4</td>\n",
       "    </tr>\n",
       "    <tr>\n",
       "      <td>1</td>\n",
       "      <td>1</td>\n",
       "      <td>4</td>\n",
       "    </tr>\n",
       "    <tr>\n",
       "      <td>2</td>\n",
       "      <td>1</td>\n",
       "      <td>4</td>\n",
       "    </tr>\n",
       "    <tr>\n",
       "      <td>3</td>\n",
       "      <td>1</td>\n",
       "      <td>4</td>\n",
       "    </tr>\n",
       "    <tr>\n",
       "      <td>4</td>\n",
       "      <td>1</td>\n",
       "      <td>4</td>\n",
       "    </tr>\n",
       "    <tr>\n",
       "      <td>...</td>\n",
       "      <td>...</td>\n",
       "      <td>...</td>\n",
       "    </tr>\n",
       "    <tr>\n",
       "      <td>10881</td>\n",
       "      <td>12</td>\n",
       "      <td>4</td>\n",
       "    </tr>\n",
       "    <tr>\n",
       "      <td>10882</td>\n",
       "      <td>12</td>\n",
       "      <td>4</td>\n",
       "    </tr>\n",
       "    <tr>\n",
       "      <td>10883</td>\n",
       "      <td>12</td>\n",
       "      <td>4</td>\n",
       "    </tr>\n",
       "    <tr>\n",
       "      <td>10884</td>\n",
       "      <td>12</td>\n",
       "      <td>4</td>\n",
       "    </tr>\n",
       "    <tr>\n",
       "      <td>10885</td>\n",
       "      <td>12</td>\n",
       "      <td>4</td>\n",
       "    </tr>\n",
       "  </tbody>\n",
       "</table>\n",
       "<p>10886 rows × 2 columns</p>\n",
       "</div>"
      ],
      "text/plain": [
       "       Month  season\n",
       "0          1       4\n",
       "1          1       4\n",
       "2          1       4\n",
       "3          1       4\n",
       "4          1       4\n",
       "...      ...     ...\n",
       "10881     12       4\n",
       "10882     12       4\n",
       "10883     12       4\n",
       "10884     12       4\n",
       "10885     12       4\n",
       "\n",
       "[10886 rows x 2 columns]"
      ]
     },
     "execution_count": 25,
     "metadata": {},
     "output_type": "execute_result"
    }
   ],
   "source": [
    "train['season'] = train['Month'].apply(season)  #위에서 정의한 season함수를 월 데이터에 적용해 season 데이터를 재정의하도록 하겠습니다.\n",
    "train[['Month', 'season']]  #적용 결과 재정의 전과 다르게 1월이 겨울로 설정된 것을 확인할 수 있습니다."
   ]
  },
  {
   "cell_type": "code",
   "execution_count": 26,
   "metadata": {},
   "outputs": [
    {
     "data": {
      "text/html": [
       "<div>\n",
       "<style scoped>\n",
       "    .dataframe tbody tr th:only-of-type {\n",
       "        vertical-align: middle;\n",
       "    }\n",
       "\n",
       "    .dataframe tbody tr th {\n",
       "        vertical-align: top;\n",
       "    }\n",
       "\n",
       "    .dataframe thead th {\n",
       "        text-align: right;\n",
       "    }\n",
       "</style>\n",
       "<table border=\"1\" class=\"dataframe\">\n",
       "  <thead>\n",
       "    <tr style=\"text-align: right;\">\n",
       "      <th></th>\n",
       "      <th>Month</th>\n",
       "      <th>season</th>\n",
       "    </tr>\n",
       "  </thead>\n",
       "  <tbody>\n",
       "    <tr>\n",
       "      <td>0</td>\n",
       "      <td>1</td>\n",
       "      <td>4</td>\n",
       "    </tr>\n",
       "    <tr>\n",
       "      <td>1</td>\n",
       "      <td>1</td>\n",
       "      <td>4</td>\n",
       "    </tr>\n",
       "    <tr>\n",
       "      <td>2</td>\n",
       "      <td>1</td>\n",
       "      <td>4</td>\n",
       "    </tr>\n",
       "    <tr>\n",
       "      <td>3</td>\n",
       "      <td>1</td>\n",
       "      <td>4</td>\n",
       "    </tr>\n",
       "    <tr>\n",
       "      <td>4</td>\n",
       "      <td>1</td>\n",
       "      <td>4</td>\n",
       "    </tr>\n",
       "    <tr>\n",
       "      <td>...</td>\n",
       "      <td>...</td>\n",
       "      <td>...</td>\n",
       "    </tr>\n",
       "    <tr>\n",
       "      <td>6488</td>\n",
       "      <td>12</td>\n",
       "      <td>4</td>\n",
       "    </tr>\n",
       "    <tr>\n",
       "      <td>6489</td>\n",
       "      <td>12</td>\n",
       "      <td>4</td>\n",
       "    </tr>\n",
       "    <tr>\n",
       "      <td>6490</td>\n",
       "      <td>12</td>\n",
       "      <td>4</td>\n",
       "    </tr>\n",
       "    <tr>\n",
       "      <td>6491</td>\n",
       "      <td>12</td>\n",
       "      <td>4</td>\n",
       "    </tr>\n",
       "    <tr>\n",
       "      <td>6492</td>\n",
       "      <td>12</td>\n",
       "      <td>4</td>\n",
       "    </tr>\n",
       "  </tbody>\n",
       "</table>\n",
       "<p>6493 rows × 2 columns</p>\n",
       "</div>"
      ],
      "text/plain": [
       "      Month  season\n",
       "0         1       4\n",
       "1         1       4\n",
       "2         1       4\n",
       "3         1       4\n",
       "4         1       4\n",
       "...     ...     ...\n",
       "6488     12       4\n",
       "6489     12       4\n",
       "6490     12       4\n",
       "6491     12       4\n",
       "6492     12       4\n",
       "\n",
       "[6493 rows x 2 columns]"
      ]
     },
     "execution_count": 26,
     "metadata": {},
     "output_type": "execute_result"
    }
   ],
   "source": [
    "test['season'] = test['Month'].apply(season)  #test 데이터에도 적용하도록 하겠습니다.\n",
    "test[['Month', 'season']]"
   ]
  },
  {
   "cell_type": "code",
   "execution_count": 27,
   "metadata": {},
   "outputs": [
    {
     "data": {
      "text/plain": [
       "<matplotlib.axes._subplots.AxesSubplot at 0x22bc2394348>"
      ]
     },
     "execution_count": 27,
     "metadata": {},
     "output_type": "execute_result"
    },
    {
     "data": {
      "image/png": "[encoded data removed]",
      "text/plain": [
       "<Figure size 432x288 with 1 Axes>"
      ]
     },
     "metadata": {
      "needs_background": "light"
     },
     "output_type": "display_data"
    }
   ],
   "source": [
    "sns.barplot(data = train, x = 'season', y = 'count')  #seaborn의 barplot을 이용해 재정의한 계절과 대여량의 관계를 확인해 보도록 하겠습니다."
   ]
  },
  {
   "cell_type": "markdown",
   "metadata": {},
   "source": [
    "재정의한 후 계절별 그래프를 본 결과 우리가 예상하듯이 따뜻한 계절일 수록 대여량이 많은 것을 알 수 있습니다. season 데이터도 weather와 마찬가지로 범주형 데이터에 속하기 때문에 One-hot 인코딩을 진행하도록 하겠습니다."
   ]
  },
  {
   "cell_type": "code",
   "execution_count": 28,
   "metadata": {},
   "outputs": [],
   "source": [
    "train['season_1'] = train['season'].apply(lambda x : True if x == 1 else False)  #lambda를 이용해 season이 1이면 참 아니면 거짓을 출력하도록 하겠습니다.\n",
    "train['season_2'] = train['season'].apply(lambda x : True if x == 2 else False)  #lambda를 이용해 season이 2이면 참 아니면 거짓을 출력하도록 하겠습니다.\n",
    "train['season_3'] = train['season'].apply(lambda x : True if x == 3 else False)  #lambda를 이용해 season이 3이면 참 아니면 거짓을 출력하도록 하겠습니다.\n",
    "train['season_4'] = train['season'].apply(lambda x : True if x == 4 else False)  #lambda를 이용해 season이 4이면 참 아니면 거짓을 출력하도록 하겠습니다."
   ]
  },
  {
   "cell_type": "code",
   "execution_count": 29,
   "metadata": {},
   "outputs": [
    {
     "data": {
      "text/html": [
       "<div>\n",
       "<style scoped>\n",
       "    .dataframe tbody tr th:only-of-type {\n",
       "        vertical-align: middle;\n",
       "    }\n",
       "\n",
       "    .dataframe tbody tr th {\n",
       "        vertical-align: top;\n",
       "    }\n",
       "\n",
       "    .dataframe thead th {\n",
       "        text-align: right;\n",
       "    }\n",
       "</style>\n",
       "<table border=\"1\" class=\"dataframe\">\n",
       "  <thead>\n",
       "    <tr style=\"text-align: right;\">\n",
       "      <th></th>\n",
       "      <th>season</th>\n",
       "      <th>season_1</th>\n",
       "      <th>season_2</th>\n",
       "      <th>season_3</th>\n",
       "      <th>season_4</th>\n",
       "    </tr>\n",
       "  </thead>\n",
       "  <tbody>\n",
       "    <tr>\n",
       "      <td>0</td>\n",
       "      <td>4</td>\n",
       "      <td>False</td>\n",
       "      <td>False</td>\n",
       "      <td>False</td>\n",
       "      <td>True</td>\n",
       "    </tr>\n",
       "    <tr>\n",
       "      <td>1</td>\n",
       "      <td>4</td>\n",
       "      <td>False</td>\n",
       "      <td>False</td>\n",
       "      <td>False</td>\n",
       "      <td>True</td>\n",
       "    </tr>\n",
       "    <tr>\n",
       "      <td>2</td>\n",
       "      <td>4</td>\n",
       "      <td>False</td>\n",
       "      <td>False</td>\n",
       "      <td>False</td>\n",
       "      <td>True</td>\n",
       "    </tr>\n",
       "    <tr>\n",
       "      <td>3</td>\n",
       "      <td>4</td>\n",
       "      <td>False</td>\n",
       "      <td>False</td>\n",
       "      <td>False</td>\n",
       "      <td>True</td>\n",
       "    </tr>\n",
       "    <tr>\n",
       "      <td>4</td>\n",
       "      <td>4</td>\n",
       "      <td>False</td>\n",
       "      <td>False</td>\n",
       "      <td>False</td>\n",
       "      <td>True</td>\n",
       "    </tr>\n",
       "  </tbody>\n",
       "</table>\n",
       "</div>"
      ],
      "text/plain": [
       "   season  season_1  season_2  season_3  season_4\n",
       "0       4     False     False     False      True\n",
       "1       4     False     False     False      True\n",
       "2       4     False     False     False      True\n",
       "3       4     False     False     False      True\n",
       "4       4     False     False     False      True"
      ]
     },
     "execution_count": 29,
     "metadata": {},
     "output_type": "execute_result"
    }
   ],
   "source": [
    "train[['season', 'season_1', 'season_2', 'season_3', 'season_4']].head()  #적용이 잘된 것을 확인할 수 있습니다."
   ]
  },
  {
   "cell_type": "code",
   "execution_count": 30,
   "metadata": {},
   "outputs": [],
   "source": [
    "test['season_1'] = test['season'].apply(lambda x : True if x == 1 else False)  #test 데이터에도 적용하도록 하겠습니다.\n",
    "test['season_2'] = test['season'].apply(lambda x : True if x == 2 else False)  \n",
    "test['season_3'] = test['season'].apply(lambda x : True if x == 3 else False)  \n",
    "test['season_4'] = test['season'].apply(lambda x : True if x == 4 else False)  "
   ]
  },
  {
   "cell_type": "code",
   "execution_count": 31,
   "metadata": {},
   "outputs": [
    {
     "data": {
      "text/html": [
       "<div>\n",
       "<style scoped>\n",
       "    .dataframe tbody tr th:only-of-type {\n",
       "        vertical-align: middle;\n",
       "    }\n",
       "\n",
       "    .dataframe tbody tr th {\n",
       "        vertical-align: top;\n",
       "    }\n",
       "\n",
       "    .dataframe thead th {\n",
       "        text-align: right;\n",
       "    }\n",
       "</style>\n",
       "<table border=\"1\" class=\"dataframe\">\n",
       "  <thead>\n",
       "    <tr style=\"text-align: right;\">\n",
       "      <th></th>\n",
       "      <th>season</th>\n",
       "      <th>season_1</th>\n",
       "      <th>season_2</th>\n",
       "      <th>season_3</th>\n",
       "      <th>season_4</th>\n",
       "    </tr>\n",
       "  </thead>\n",
       "  <tbody>\n",
       "    <tr>\n",
       "      <td>0</td>\n",
       "      <td>4</td>\n",
       "      <td>False</td>\n",
       "      <td>False</td>\n",
       "      <td>False</td>\n",
       "      <td>True</td>\n",
       "    </tr>\n",
       "    <tr>\n",
       "      <td>1</td>\n",
       "      <td>4</td>\n",
       "      <td>False</td>\n",
       "      <td>False</td>\n",
       "      <td>False</td>\n",
       "      <td>True</td>\n",
       "    </tr>\n",
       "    <tr>\n",
       "      <td>2</td>\n",
       "      <td>4</td>\n",
       "      <td>False</td>\n",
       "      <td>False</td>\n",
       "      <td>False</td>\n",
       "      <td>True</td>\n",
       "    </tr>\n",
       "    <tr>\n",
       "      <td>3</td>\n",
       "      <td>4</td>\n",
       "      <td>False</td>\n",
       "      <td>False</td>\n",
       "      <td>False</td>\n",
       "      <td>True</td>\n",
       "    </tr>\n",
       "    <tr>\n",
       "      <td>4</td>\n",
       "      <td>4</td>\n",
       "      <td>False</td>\n",
       "      <td>False</td>\n",
       "      <td>False</td>\n",
       "      <td>True</td>\n",
       "    </tr>\n",
       "  </tbody>\n",
       "</table>\n",
       "</div>"
      ],
      "text/plain": [
       "   season  season_1  season_2  season_3  season_4\n",
       "0       4     False     False     False      True\n",
       "1       4     False     False     False      True\n",
       "2       4     False     False     False      True\n",
       "3       4     False     False     False      True\n",
       "4       4     False     False     False      True"
      ]
     },
     "execution_count": 31,
     "metadata": {},
     "output_type": "execute_result"
    }
   ],
   "source": [
    "test[['season', 'season_1', 'season_2', 'season_3', 'season_4']].head()"
   ]
  },
  {
   "cell_type": "markdown",
   "metadata": {},
   "source": [
    "season 데이터 분석 결과 따뜻한 계절일수록 대여량이 많아 지는 것을 확인할 수 있었습니다. 또한, 계절을 재정의하고 범주형 데이터를 One-hot 인코딩 했기 때문에 예측 성능이 높아질 것으로 예상됩니다."
   ]
  },
  {
   "cell_type": "markdown",
   "metadata": {},
   "source": [
    "#### 연속형 데이터 분석"
   ]
  },
  {
   "cell_type": "markdown",
   "metadata": {},
   "source": [
    "-범주형 데이터가 아닌 범위가 넓은 연속형 데이터의 경우 곧 바로 목표인 대여량과의 관계를 파악하는 일은 쉽지 않습니다. 따라서 연속형 데이터끼리의 관계를 파악하거나 각 컬럼의 특성을 파악해 전처리한 후 필요한 컬럼을 선별하는 작업을 하도록 하겠습니다."
   ]
  },
  {
   "cell_type": "markdown",
   "metadata": {},
   "source": [
    "##### 먼저, temp와 atemp의 관계를 확인해 보도록 하겠습니다."
   ]
  },
  {
   "cell_type": "code",
   "execution_count": 32,
   "metadata": {},
   "outputs": [
    {
     "data": {
      "text/plain": [
       "<seaborn.axisgrid.FacetGrid at 0x22bc24059c8>"
      ]
     },
     "execution_count": 32,
     "metadata": {},
     "output_type": "execute_result"
    },
    {
     "data": {
      "image/png": "[encoded data removed]",
      "text/plain": [
       "<Figure size 360x360 with 1 Axes>"
      ]
     },
     "metadata": {
      "needs_background": "light"
     },
     "output_type": "display_data"
    }
   ],
   "source": [
    "sns.lmplot(data = train, x = 'temp', y = 'atemp', fit_reg = False)  #seaborn의 lmplot을 이용해 온도와 체감온도의 관계를 확인하도록 하겠습니다."
   ]
  },
  {
   "cell_type": "markdown",
   "metadata": {},
   "source": [
    "온도와 체감온도의 관계가 사실상 선형관계를 보이고 있기 때문에 두 데이터의 성향이 일치한다고 볼 수 있을 것 같습니다. 따라서 머신러닝에 적용할 때는 온도와 체감온도 둘 다 적용하는 것보다는 하나만 적용하는 것이 더 효과적일 것으로 예상됩니다."
   ]
  },
  {
   "cell_type": "markdown",
   "metadata": {},
   "source": [
    "##### temp와 humidity의 관계를 확인해 보도록 하겠습니다."
   ]
  },
  {
   "cell_type": "code",
   "execution_count": 33,
   "metadata": {},
   "outputs": [
    {
     "data": {
      "text/plain": [
       "<seaborn.axisgrid.FacetGrid at 0x22bc2469b48>"
      ]
     },
     "execution_count": 33,
     "metadata": {},
     "output_type": "execute_result"
    },
    {
     "data": {
      "image/png": "[encoded data removed]",
      "text/plain": [
       "<Figure size 360x360 with 1 Axes>"
      ]
     },
     "metadata": {
      "needs_background": "light"
     },
     "output_type": "display_data"
    }
   ],
   "source": [
    "sns.lmplot(data = train, x = 'temp', y = 'humidity', fit_reg = False)  #seaborn의 lmplot을 이용해 온도와 습도의 관계를 확인하도록 하겠습니다."
   ]
  },
  {
   "cell_type": "markdown",
   "metadata": {},
   "source": [
    "그래프를 확인해보면 온도와 습도 사이에는 뚜렷한 관계가 보이지 않는 것 같습니다. 하지만, 온도와 습도 컬럼을 이용해 새로운 컬럼을 만들 수 있을 것 같습니다. 불쾌지수라는 새로운 컬럼을 만들 것인데 불쾌지수는 온도와 습도를 이용해 계산을 할 수 있기 때문입니다."
   ]
  },
  {
   "cell_type": "markdown",
   "metadata": {},
   "source": [
    "불쾌지수를 구하는 공식은 다음과 같습니다. 불쾌지수(Temperature Humidity Index, THI) = 9/5 * [온도] - (0.55 * (1-1/100*[습도]) * ((9/5 * [온도]) - 26)) + 32"
   ]
  },
  {
   "cell_type": "markdown",
   "metadata": {},
   "source": [
    "불쾌지수를 THI라는 컬럼명으로 지정해 train 데이터와 test 데이터에 각각 만들어 보도록 하겠습니다."
   ]
  },
  {
   "cell_type": "code",
   "execution_count": 34,
   "metadata": {},
   "outputs": [],
   "source": [
    "train['THI'] = 9/5 * train['temp'] - (0.55 * (1-1/100*train['humidity']) * ((9/5 * train['temp']) - 26)) + 32"
   ]
  },
  {
   "cell_type": "code",
   "execution_count": 35,
   "metadata": {},
   "outputs": [],
   "source": [
    "test['THI'] = 9/5 * test['temp'] - (0.55 * (1-1/100*test['humidity']) * ((9/5 * test['temp']) - 26)) + 32"
   ]
  },
  {
   "cell_type": "markdown",
   "metadata": {},
   "source": [
    "불쾌지수에 따라 사람들이 불쾌감을 느끼는 정도가 다른 사실이 있습니다. 68 미만은 모든 사람이 쾌적함을 느끼고 68 ~ 74는 불쾌감을 서서히 느끼기 시작합니다. 75 ~ 79는 50% 정도의 사람이 불쾌감을 느끼고 80 이상이 되면 모든 사람이 불쾌감을 느낍니다. 따라서 불쾌감 정도에 따라 대여량에 영향을 미칠 것이라는 가정하에 범주화 One-hot 인코딩을 하도록 하겠습니다."
   ]
  },
  {
   "cell_type": "code",
   "execution_count": 36,
   "metadata": {},
   "outputs": [
    {
     "data": {
      "text/html": [
       "<div>\n",
       "<style scoped>\n",
       "    .dataframe tbody tr th:only-of-type {\n",
       "        vertical-align: middle;\n",
       "    }\n",
       "\n",
       "    .dataframe tbody tr th {\n",
       "        vertical-align: top;\n",
       "    }\n",
       "\n",
       "    .dataframe thead th {\n",
       "        text-align: right;\n",
       "    }\n",
       "</style>\n",
       "<table border=\"1\" class=\"dataframe\">\n",
       "  <thead>\n",
       "    <tr style=\"text-align: right;\">\n",
       "      <th></th>\n",
       "      <th>THI</th>\n",
       "      <th>THI_good</th>\n",
       "      <th>THI_bad</th>\n",
       "      <th>THI_worse</th>\n",
       "      <th>THI_worst</th>\n",
       "    </tr>\n",
       "  </thead>\n",
       "  <tbody>\n",
       "    <tr>\n",
       "      <td>0</td>\n",
       "      <td>50.578096</td>\n",
       "      <td>True</td>\n",
       "      <td>False</td>\n",
       "      <td>False</td>\n",
       "      <td>False</td>\n",
       "    </tr>\n",
       "    <tr>\n",
       "      <td>1</td>\n",
       "      <td>49.310040</td>\n",
       "      <td>True</td>\n",
       "      <td>False</td>\n",
       "      <td>False</td>\n",
       "      <td>False</td>\n",
       "    </tr>\n",
       "    <tr>\n",
       "      <td>2</td>\n",
       "      <td>49.310040</td>\n",
       "      <td>True</td>\n",
       "      <td>False</td>\n",
       "      <td>False</td>\n",
       "      <td>False</td>\n",
       "    </tr>\n",
       "    <tr>\n",
       "      <td>3</td>\n",
       "      <td>50.851600</td>\n",
       "      <td>True</td>\n",
       "      <td>False</td>\n",
       "      <td>False</td>\n",
       "      <td>False</td>\n",
       "    </tr>\n",
       "    <tr>\n",
       "      <td>4</td>\n",
       "      <td>50.851600</td>\n",
       "      <td>True</td>\n",
       "      <td>False</td>\n",
       "      <td>False</td>\n",
       "      <td>False</td>\n",
       "    </tr>\n",
       "  </tbody>\n",
       "</table>\n",
       "</div>"
      ],
      "text/plain": [
       "         THI  THI_good  THI_bad  THI_worse  THI_worst\n",
       "0  50.578096      True    False      False      False\n",
       "1  49.310040      True    False      False      False\n",
       "2  49.310040      True    False      False      False\n",
       "3  50.851600      True    False      False      False\n",
       "4  50.851600      True    False      False      False"
      ]
     },
     "execution_count": 36,
     "metadata": {},
     "output_type": "execute_result"
    }
   ],
   "source": [
    "train['THI_good'] = (train['THI'] < 68)  #THI가 68 미만이면 참 아니면 거짓을 출력하도록 하겠습니다.\n",
    "train['THI_bad'] = ((train['THI'] >= 68) & (train['THI'] < 74))  #THI가 68 이상 74 미만이면 참 아니면 거짓을 출력하도록 합니다.\n",
    "train['THI_worse'] = ((train['THI'] >= 74) & (train['THI'] < 80))  #THI가 74 이상 80 미만이면 참 아니면 거짓을 출력하도록 합니다.\n",
    "train['THI_worst'] = (train['THI'] >= 80)  #THI가 80 이상이면 참 아니면 거짓을 출력하도록 하겠습니다.\n",
    "train[['THI', 'THI_good', 'THI_bad', 'THI_worse', 'THI_worst']].head()"
   ]
  },
  {
   "cell_type": "code",
   "execution_count": 37,
   "metadata": {},
   "outputs": [
    {
     "data": {
      "text/html": [
       "<div>\n",
       "<style scoped>\n",
       "    .dataframe tbody tr th:only-of-type {\n",
       "        vertical-align: middle;\n",
       "    }\n",
       "\n",
       "    .dataframe tbody tr th {\n",
       "        vertical-align: top;\n",
       "    }\n",
       "\n",
       "    .dataframe thead th {\n",
       "        text-align: right;\n",
       "    }\n",
       "</style>\n",
       "<table border=\"1\" class=\"dataframe\">\n",
       "  <thead>\n",
       "    <tr style=\"text-align: right;\">\n",
       "      <th></th>\n",
       "      <th>THI</th>\n",
       "      <th>THI_good</th>\n",
       "      <th>THI_bad</th>\n",
       "      <th>THI_worse</th>\n",
       "      <th>THI_worst</th>\n",
       "    </tr>\n",
       "  </thead>\n",
       "  <tbody>\n",
       "    <tr>\n",
       "      <td>0</td>\n",
       "      <td>52.836504</td>\n",
       "      <td>True</td>\n",
       "      <td>False</td>\n",
       "      <td>False</td>\n",
       "      <td>False</td>\n",
       "    </tr>\n",
       "    <tr>\n",
       "      <td>1</td>\n",
       "      <td>52.836504</td>\n",
       "      <td>True</td>\n",
       "      <td>False</td>\n",
       "      <td>False</td>\n",
       "      <td>False</td>\n",
       "    </tr>\n",
       "    <tr>\n",
       "      <td>2</td>\n",
       "      <td>52.836504</td>\n",
       "      <td>True</td>\n",
       "      <td>False</td>\n",
       "      <td>False</td>\n",
       "      <td>False</td>\n",
       "    </tr>\n",
       "    <tr>\n",
       "      <td>3</td>\n",
       "      <td>52.836504</td>\n",
       "      <td>True</td>\n",
       "      <td>False</td>\n",
       "      <td>False</td>\n",
       "      <td>False</td>\n",
       "    </tr>\n",
       "    <tr>\n",
       "      <td>4</td>\n",
       "      <td>52.836504</td>\n",
       "      <td>True</td>\n",
       "      <td>False</td>\n",
       "      <td>False</td>\n",
       "      <td>False</td>\n",
       "    </tr>\n",
       "  </tbody>\n",
       "</table>\n",
       "</div>"
      ],
      "text/plain": [
       "         THI  THI_good  THI_bad  THI_worse  THI_worst\n",
       "0  52.836504      True    False      False      False\n",
       "1  52.836504      True    False      False      False\n",
       "2  52.836504      True    False      False      False\n",
       "3  52.836504      True    False      False      False\n",
       "4  52.836504      True    False      False      False"
      ]
     },
     "execution_count": 37,
     "metadata": {},
     "output_type": "execute_result"
    }
   ],
   "source": [
    "test['THI_good'] = (test['THI'] < 68)  #test 데이터에도 적용하도록 하겠습니다.\n",
    "test['THI_bad'] = ((test['THI'] >= 68) & (test['THI'] < 74))  \n",
    "test['THI_worse'] = ((test['THI'] >= 74) & (test['THI'] < 80))  \n",
    "test['THI_worst'] = (test['THI'] >= 80)  \n",
    "test[['THI', 'THI_good', 'THI_bad', 'THI_worse', 'THI_worst']].head()"
   ]
  },
  {
   "cell_type": "markdown",
   "metadata": {},
   "source": [
    "##### windspeed 풍속 데이터 분석"
   ]
  },
  {
   "cell_type": "code",
   "execution_count": 38,
   "metadata": {},
   "outputs": [
    {
     "data": {
      "text/plain": [
       "<matplotlib.axes._subplots.AxesSubplot at 0x22bc24efd88>"
      ]
     },
     "execution_count": 38,
     "metadata": {},
     "output_type": "execute_result"
    },
    {
     "data": {
      "image/png": "[encoded data removed]",
      "text/plain": [
       "<Figure size 432x288 with 1 Axes>"
      ]
     },
     "metadata": {
      "needs_background": "light"
     },
     "output_type": "display_data"
    }
   ],
   "source": [
    "sns.distplot(train['windspeed'])  #seaborn의 distplot을 이용해 windspeed 값의 분포 정도를 확인하도록 하겠습니다."
   ]
  },
  {
   "cell_type": "markdown",
   "metadata": {},
   "source": [
    "그래프를 확인한 결과 풍속이 0인 값이 가장 많이 나온 것을 확인할 수 있습니다. 하지만, 일반적으로 1년 중 풍속이 0인 날은 그렇게 많지 않을 것으로 생각됩니다. 따라서 이는 풍속 측정이 안되었을 가능성이 있다고 판단해 풍속이 0이 아닌 값을 바탕으로 머신러닝을 이용해 다시 채워 넣도록 하겠습니다."
   ]
  },
  {
   "cell_type": "code",
   "execution_count": 39,
   "metadata": {},
   "outputs": [
    {
     "name": "stderr",
     "output_type": "stream",
     "text": [
      "C:\\Users\\user\\Anaconda3\\lib\\site-packages\\sklearn\\ensemble\\forest.py:245: FutureWarning: The default value of n_estimators will change from 10 in version 0.20 to 100 in 0.22.\n",
      "  \"10 in version 0.20 to 100 in 0.22.\", FutureWarning)\n",
      "C:\\Users\\user\\Anaconda3\\lib\\site-packages\\ipykernel_launcher.py:10: SettingWithCopyWarning: \n",
      "A value is trying to be set on a copy of a slice from a DataFrame.\n",
      "Try using .loc[row_indexer,col_indexer] = value instead\n",
      "\n",
      "See the caveats in the documentation: http://pandas.pydata.org/pandas-docs/stable/user_guide/indexing.html#returning-a-view-versus-a-copy\n",
      "  # Remove the CWD from sys.path while we load stuff.\n"
     ]
    }
   ],
   "source": [
    "from sklearn.ensemble import RandomForestRegressor\n",
    "ws0 = train[train['windspeed'] == 0]  #windspeed가 0인 데이터들을 따로 추출해 ws0이라는 데이터 프레임으로 만들도록 하겠습니다.\n",
    "wsnot0 = train[train['windspeed'] != 0]  #windspeed가 0이 아닌 데이터들을 따로 추출해 wsnot0이라는 데이터 프레임으로 만들도록 하겠습니다.\n",
    "\n",
    "ws0_df = ws0.drop(['datetime', 'windspeed', 'casual', 'registered', 'count', 'Dayname', 'Year_month', 'THI'], axis =1)  #예측에 도움이 되지 않는 컬럼과 문자형 컬럼을 제거한 후 따로 데이터 프레임을 만들도록 하겠습니다.\n",
    "wsnot0_df = wsnot0.drop(['datetime', 'windspeed', 'casual', 'registered', 'count', 'Dayname', 'Year_month', 'THI'], axis =1)\n",
    "wsnot0_series = wsnot0['windspeed']  #예측에 이용할 풍력값을 따로 지정하도록 하겠습니다.\n",
    "model = RandomForestRegressor()  #랜덤포레스트 알고리즘을 모델로 지정해 사용하도록 하겠습니다.\n",
    "model.fit(wsnot0_df, wsnot0_series)  #학습용 데이터를 랜덤포레스트에 적용하도록 하겠습니다.\n",
    "ws0['windspeed'] = model.predict(ws0_df)  #예측값을 구하도록 하겠습니다."
   ]
  },
  {
   "cell_type": "code",
   "execution_count": 40,
   "metadata": {},
   "outputs": [],
   "source": [
    "windspeed = pd.concat([ws0, wsnot0], axis = 0)['windspeed']  #위에서 나눴던 풍력값을 다시 합쳐 windspeed라고 따로 변수를 설정하도록 하겠습니다."
   ]
  },
  {
   "cell_type": "code",
   "execution_count": 41,
   "metadata": {},
   "outputs": [],
   "source": [
    "train['windspeed'] = windspeed  #기존의 풍력값에 예측한 풍력값을 적용해 windspeed를 재정의 하도록 하겠습니다."
   ]
  },
  {
   "cell_type": "code",
   "execution_count": 42,
   "metadata": {},
   "outputs": [
    {
     "data": {
      "text/plain": [
       "8.9981     1120\n",
       "11.0014    1059\n",
       "7.0015     1042\n",
       "12.9980    1042\n",
       "15.0013     961\n",
       "Name: windspeed, dtype: int64"
      ]
     },
     "execution_count": 42,
     "metadata": {},
     "output_type": "execute_result"
    }
   ],
   "source": [
    "train['windspeed'].value_counts().head()  #재정의한 결과를 보니 0인 값이 가장 많았던 처음과는 달라진 것을 확인할 수 있습니다. "
   ]
  },
  {
   "cell_type": "markdown",
   "metadata": {},
   "source": [
    "위에서 한 작업을 똑같이 test 데이터에도 적용하도록 하겠습니다."
   ]
  },
  {
   "cell_type": "code",
   "execution_count": 43,
   "metadata": {
    "scrolled": true
   },
   "outputs": [
    {
     "name": "stderr",
     "output_type": "stream",
     "text": [
      "C:\\Users\\user\\Anaconda3\\lib\\site-packages\\sklearn\\ensemble\\forest.py:245: FutureWarning: The default value of n_estimators will change from 10 in version 0.20 to 100 in 0.22.\n",
      "  \"10 in version 0.20 to 100 in 0.22.\", FutureWarning)\n",
      "C:\\Users\\user\\Anaconda3\\lib\\site-packages\\ipykernel_launcher.py:9: SettingWithCopyWarning: \n",
      "A value is trying to be set on a copy of a slice from a DataFrame.\n",
      "Try using .loc[row_indexer,col_indexer] = value instead\n",
      "\n",
      "See the caveats in the documentation: http://pandas.pydata.org/pandas-docs/stable/user_guide/indexing.html#returning-a-view-versus-a-copy\n",
      "  if __name__ == '__main__':\n"
     ]
    }
   ],
   "source": [
    "ws0 = test[test['windspeed'] == 0]  #windspeed가 0인 데이터들을 따로 추출해 ws0이라는 데이터 프레임으로 만들도록 하겠습니다.\n",
    "wsnot0 = test[test['windspeed'] != 0]  #windspeed가 0이 아닌 데이터들을 따로 추출해 wsnot0이라는 데이터 프레임으로 만들도록 하겠습니다.\n",
    "\n",
    "ws0_df = ws0.drop(['datetime', 'windspeed', 'Dayname', 'THI'], axis =1)  #예측에 도움이 되지 않는 컬럼과 문자형 컬럼을 제거한 후 따로 데이터 프레임을 만들도록 하겠습니다.\n",
    "wsnot0_df = wsnot0.drop(['datetime', 'windspeed', 'Dayname', 'THI'], axis =1)\n",
    "wsnot0_series = wsnot0['windspeed']  #예측에 이용할 풍력값을 따로 지정하도록 하겠습니다.\n",
    "model = RandomForestRegressor()  #랜덤포레스트 알고리즘을 모델로 지정해 사용하도록 하겠습니다.\n",
    "model.fit(wsnot0_df, wsnot0_series)  #학습용 데이터를 랜덤포레스트에 적용하도록 하겠습니다.\n",
    "ws0['windspeed'] = model.predict(ws0_df)  #예측값을 구하도록 하겠습니다."
   ]
  },
  {
   "cell_type": "code",
   "execution_count": 44,
   "metadata": {},
   "outputs": [],
   "source": [
    "windspeed = pd.concat([ws0, wsnot0], axis = 0)['windspeed']  #위에서 나눴던 풍력값을 다시 합쳐 windspeed라고 따로 변수를 설정하도록 하겠습니다."
   ]
  },
  {
   "cell_type": "code",
   "execution_count": 45,
   "metadata": {},
   "outputs": [],
   "source": [
    "test['windspeed'] = windspeed  #기존의 풍력값에 예측한 풍력값을 적용해 windspeed를 재정의 하도록 하겠습니다."
   ]
  },
  {
   "cell_type": "markdown",
   "metadata": {},
   "source": [
    "이제 재정의한 풍속값으로 예측 성능이 더 좋을 것으로 예상됩니다."
   ]
  },
  {
   "cell_type": "markdown",
   "metadata": {},
   "source": [
    "#### count 대여량 분석"
   ]
  },
  {
   "cell_type": "markdown",
   "metadata": {},
   "source": [
    "이번 주제의 목표인 대여량 데이터를 분석해 보도록 하겟습니다."
   ]
  },
  {
   "cell_type": "code",
   "execution_count": 46,
   "metadata": {},
   "outputs": [
    {
     "data": {
      "text/plain": [
       "<matplotlib.axes._subplots.AxesSubplot at 0x22bc4814788>"
      ]
     },
     "execution_count": 46,
     "metadata": {},
     "output_type": "execute_result"
    },
    {
     "data": {
      "image/png": "[encoded data removed]",
      "text/plain": [
       "<Figure size 432x288 with 1 Axes>"
      ]
     },
     "metadata": {
      "needs_background": "light"
     },
     "output_type": "display_data"
    }
   ],
   "source": [
    "sns.distplot(train['count'])  #seaborn의 distplot을 이용해 count 분포도를 확인하도록 하겠습니다."
   ]
  },
  {
   "cell_type": "markdown",
   "metadata": {},
   "source": [
    "그래프를 확인한 결과 오른쪽으로 꼬리가 길게 늘어져 있고 왼쪽에 데이터가 집중되어 있는 모습을 볼 수 있습니다. 이런 그래프는 데이터가 왜곡되어 있는 경우 나타나는 현상으로 해당 컬럼에 로그값을 적용하면 보다 정확하게 데이터를 확인할 수 있습니다. 따라서 count 컬럼에 로그값을 적용해 다시 확인해 보도록 하겠습니다."
   ]
  },
  {
   "cell_type": "code",
   "execution_count": 47,
   "metadata": {},
   "outputs": [
    {
     "data": {
      "text/plain": [
       "<matplotlib.axes._subplots.AxesSubplot at 0x22bc48462c8>"
      ]
     },
     "execution_count": 47,
     "metadata": {},
     "output_type": "execute_result"
    },
    {
     "data": {
      "image/png": "[encoded data removed]",
      "text/plain": [
       "<Figure size 432x288 with 1 Axes>"
      ]
     },
     "metadata": {
      "needs_background": "light"
     },
     "output_type": "display_data"
    }
   ],
   "source": [
    "train['count(log)'] = np.log(train['count'] + 1)  #로그값을 적용한 count 컬럼을 count(log)라는 새로운 컬럼에 넣어 주도록 하겠습니다.\n",
    "sns.distplot(train['count(log)'])  #seaborn의 distplot을 이용해 count(log)의 분포도를 확인하도록 하겠습니다."
   ]
  },
  {
   "cell_type": "markdown",
   "metadata": {},
   "source": [
    "그래프를 확인한 결과 이전보다 데이터 분포가 잘 이루어진 것 같습니다. 머신러닝에 적용할 때는 로그값을 적용한 count를 이용하고 예측을 마친 후 로그값을 제거하도록 하겠습니다."
   ]
  },
  {
   "cell_type": "markdown",
   "metadata": {},
   "source": [
    "#### 그 외 데이터"
   ]
  },
  {
   "cell_type": "markdown",
   "metadata": {},
   "source": [
    "-분석에 임하지 않은 holiday, casual, registered는 다음의 이유로 제외하도록 하겠습니다. \\\n",
    " holiday는 workingday와 같은 의미를 지니고 있기 때문에 굳이 사용할 필요가 없을 것 같습니다. \\\n",
    " casual과 registered는 train 데이터에만 존재하고 test 데이터에는 존재하지 않기 때문에 사용하지 않아도 될 것 같습니다."
   ]
  },
  {
   "cell_type": "markdown",
   "metadata": {},
   "source": [
    "### 훈련용 데이터 및 테스트용 데이터 설정"
   ]
  },
  {
   "cell_type": "markdown",
   "metadata": {},
   "source": [
    "분석을 통해 확인한 필요 컬럼을 리스트화 해 정리하도록 하겠습니다."
   ]
  },
  {
   "cell_type": "code",
   "execution_count": 73,
   "metadata": {},
   "outputs": [
    {
     "data": {
      "text/plain": [
       "['Year',\n",
       " 'Hour',\n",
       " 'Dayofweek',\n",
       " 'workingday',\n",
       " 'temp',\n",
       " 'humidity',\n",
       " 'windspeed',\n",
       " 'weather_1',\n",
       " 'weather_2',\n",
       " 'weather_3',\n",
       " 'season_1',\n",
       " 'season_2',\n",
       " 'season_3',\n",
       " 'season_4',\n",
       " 'THI_good',\n",
       " 'THI_bad',\n",
       " 'THI_worse',\n",
       " 'THI_worst']"
      ]
     },
     "execution_count": 73,
     "metadata": {},
     "output_type": "execute_result"
    }
   ],
   "source": [
    "features = ['Year', 'Hour', 'Dayofweek','workingday', 'temp', 'humidity', 'windspeed', 'weather_1', 'weather_2', 'weather_3', 'season_1',\n",
    "           'season_2', 'season_3', 'season_4', 'THI_good', 'THI_bad', 'THI_worse', 'THI_worst']\n",
    "features"
   ]
  },
  {
   "cell_type": "code",
   "execution_count": 74,
   "metadata": {},
   "outputs": [
    {
     "name": "stdout",
     "output_type": "stream",
     "text": [
      "(10886, 18)\n"
     ]
    },
    {
     "data": {
      "text/html": [
       "<div>\n",
       "<style scoped>\n",
       "    .dataframe tbody tr th:only-of-type {\n",
       "        vertical-align: middle;\n",
       "    }\n",
       "\n",
       "    .dataframe tbody tr th {\n",
       "        vertical-align: top;\n",
       "    }\n",
       "\n",
       "    .dataframe thead th {\n",
       "        text-align: right;\n",
       "    }\n",
       "</style>\n",
       "<table border=\"1\" class=\"dataframe\">\n",
       "  <thead>\n",
       "    <tr style=\"text-align: right;\">\n",
       "      <th></th>\n",
       "      <th>Year</th>\n",
       "      <th>Hour</th>\n",
       "      <th>Dayofweek</th>\n",
       "      <th>workingday</th>\n",
       "      <th>temp</th>\n",
       "      <th>humidity</th>\n",
       "      <th>windspeed</th>\n",
       "      <th>weather_1</th>\n",
       "      <th>weather_2</th>\n",
       "      <th>weather_3</th>\n",
       "      <th>season_1</th>\n",
       "      <th>season_2</th>\n",
       "      <th>season_3</th>\n",
       "      <th>season_4</th>\n",
       "      <th>THI_good</th>\n",
       "      <th>THI_bad</th>\n",
       "      <th>THI_worse</th>\n",
       "      <th>THI_worst</th>\n",
       "    </tr>\n",
       "  </thead>\n",
       "  <tbody>\n",
       "    <tr>\n",
       "      <td>0</td>\n",
       "      <td>2011</td>\n",
       "      <td>0</td>\n",
       "      <td>5</td>\n",
       "      <td>0</td>\n",
       "      <td>9.84</td>\n",
       "      <td>81</td>\n",
       "      <td>6.60218</td>\n",
       "      <td>True</td>\n",
       "      <td>False</td>\n",
       "      <td>False</td>\n",
       "      <td>False</td>\n",
       "      <td>False</td>\n",
       "      <td>False</td>\n",
       "      <td>True</td>\n",
       "      <td>True</td>\n",
       "      <td>False</td>\n",
       "      <td>False</td>\n",
       "      <td>False</td>\n",
       "    </tr>\n",
       "    <tr>\n",
       "      <td>1</td>\n",
       "      <td>2011</td>\n",
       "      <td>1</td>\n",
       "      <td>5</td>\n",
       "      <td>0</td>\n",
       "      <td>9.02</td>\n",
       "      <td>80</td>\n",
       "      <td>6.60218</td>\n",
       "      <td>True</td>\n",
       "      <td>False</td>\n",
       "      <td>False</td>\n",
       "      <td>False</td>\n",
       "      <td>False</td>\n",
       "      <td>False</td>\n",
       "      <td>True</td>\n",
       "      <td>True</td>\n",
       "      <td>False</td>\n",
       "      <td>False</td>\n",
       "      <td>False</td>\n",
       "    </tr>\n",
       "    <tr>\n",
       "      <td>2</td>\n",
       "      <td>2011</td>\n",
       "      <td>2</td>\n",
       "      <td>5</td>\n",
       "      <td>0</td>\n",
       "      <td>9.02</td>\n",
       "      <td>80</td>\n",
       "      <td>6.50235</td>\n",
       "      <td>True</td>\n",
       "      <td>False</td>\n",
       "      <td>False</td>\n",
       "      <td>False</td>\n",
       "      <td>False</td>\n",
       "      <td>False</td>\n",
       "      <td>True</td>\n",
       "      <td>True</td>\n",
       "      <td>False</td>\n",
       "      <td>False</td>\n",
       "      <td>False</td>\n",
       "    </tr>\n",
       "    <tr>\n",
       "      <td>3</td>\n",
       "      <td>2011</td>\n",
       "      <td>3</td>\n",
       "      <td>5</td>\n",
       "      <td>0</td>\n",
       "      <td>9.84</td>\n",
       "      <td>75</td>\n",
       "      <td>6.80251</td>\n",
       "      <td>True</td>\n",
       "      <td>False</td>\n",
       "      <td>False</td>\n",
       "      <td>False</td>\n",
       "      <td>False</td>\n",
       "      <td>False</td>\n",
       "      <td>True</td>\n",
       "      <td>True</td>\n",
       "      <td>False</td>\n",
       "      <td>False</td>\n",
       "      <td>False</td>\n",
       "    </tr>\n",
       "    <tr>\n",
       "      <td>4</td>\n",
       "      <td>2011</td>\n",
       "      <td>4</td>\n",
       "      <td>5</td>\n",
       "      <td>0</td>\n",
       "      <td>9.84</td>\n",
       "      <td>75</td>\n",
       "      <td>6.90234</td>\n",
       "      <td>True</td>\n",
       "      <td>False</td>\n",
       "      <td>False</td>\n",
       "      <td>False</td>\n",
       "      <td>False</td>\n",
       "      <td>False</td>\n",
       "      <td>True</td>\n",
       "      <td>True</td>\n",
       "      <td>False</td>\n",
       "      <td>False</td>\n",
       "      <td>False</td>\n",
       "    </tr>\n",
       "  </tbody>\n",
       "</table>\n",
       "</div>"
      ],
      "text/plain": [
       "   Year  Hour  Dayofweek  workingday  temp  humidity  windspeed  weather_1  \\\n",
       "0  2011     0          5           0  9.84        81    6.60218       True   \n",
       "1  2011     1          5           0  9.02        80    6.60218       True   \n",
       "2  2011     2          5           0  9.02        80    6.50235       True   \n",
       "3  2011     3          5           0  9.84        75    6.80251       True   \n",
       "4  2011     4          5           0  9.84        75    6.90234       True   \n",
       "\n",
       "   weather_2  weather_3  season_1  season_2  season_3  season_4  THI_good  \\\n",
       "0      False      False     False     False     False      True      True   \n",
       "1      False      False     False     False     False      True      True   \n",
       "2      False      False     False     False     False      True      True   \n",
       "3      False      False     False     False     False      True      True   \n",
       "4      False      False     False     False     False      True      True   \n",
       "\n",
       "   THI_bad  THI_worse  THI_worst  \n",
       "0    False      False      False  \n",
       "1    False      False      False  \n",
       "2    False      False      False  \n",
       "3    False      False      False  \n",
       "4    False      False      False  "
      ]
     },
     "execution_count": 74,
     "metadata": {},
     "output_type": "execute_result"
    }
   ],
   "source": [
    "x_train = train[features]  #features를 이용해 머신러닝에 적용할 데이터 프레임을 따로 x_train으로 지정하도록 하겠습니다.\n",
    "print(x_train.shape)  #x_train이 10886개의 행과 18개의 열로 이루어져 있는 것을 알 수 있습니다.\n",
    "x_train.head()  #head 기능을 이용해 잘 적용이 되었는지 상위 5개의 값을 출력해 보겠습니다."
   ]
  },
  {
   "cell_type": "code",
   "execution_count": 75,
   "metadata": {},
   "outputs": [
    {
     "name": "stdout",
     "output_type": "stream",
     "text": [
      "(6493, 18)\n"
     ]
    },
    {
     "data": {
      "text/html": [
       "<div>\n",
       "<style scoped>\n",
       "    .dataframe tbody tr th:only-of-type {\n",
       "        vertical-align: middle;\n",
       "    }\n",
       "\n",
       "    .dataframe tbody tr th {\n",
       "        vertical-align: top;\n",
       "    }\n",
       "\n",
       "    .dataframe thead th {\n",
       "        text-align: right;\n",
       "    }\n",
       "</style>\n",
       "<table border=\"1\" class=\"dataframe\">\n",
       "  <thead>\n",
       "    <tr style=\"text-align: right;\">\n",
       "      <th></th>\n",
       "      <th>Year</th>\n",
       "      <th>Hour</th>\n",
       "      <th>Dayofweek</th>\n",
       "      <th>workingday</th>\n",
       "      <th>temp</th>\n",
       "      <th>humidity</th>\n",
       "      <th>windspeed</th>\n",
       "      <th>weather_1</th>\n",
       "      <th>weather_2</th>\n",
       "      <th>weather_3</th>\n",
       "      <th>season_1</th>\n",
       "      <th>season_2</th>\n",
       "      <th>season_3</th>\n",
       "      <th>season_4</th>\n",
       "      <th>THI_good</th>\n",
       "      <th>THI_bad</th>\n",
       "      <th>THI_worse</th>\n",
       "      <th>THI_worst</th>\n",
       "    </tr>\n",
       "  </thead>\n",
       "  <tbody>\n",
       "    <tr>\n",
       "      <td>0</td>\n",
       "      <td>2011</td>\n",
       "      <td>0</td>\n",
       "      <td>3</td>\n",
       "      <td>1</td>\n",
       "      <td>10.66</td>\n",
       "      <td>56</td>\n",
       "      <td>26.00270</td>\n",
       "      <td>True</td>\n",
       "      <td>False</td>\n",
       "      <td>False</td>\n",
       "      <td>False</td>\n",
       "      <td>False</td>\n",
       "      <td>False</td>\n",
       "      <td>True</td>\n",
       "      <td>True</td>\n",
       "      <td>False</td>\n",
       "      <td>False</td>\n",
       "      <td>False</td>\n",
       "    </tr>\n",
       "    <tr>\n",
       "      <td>1</td>\n",
       "      <td>2011</td>\n",
       "      <td>1</td>\n",
       "      <td>3</td>\n",
       "      <td>1</td>\n",
       "      <td>10.66</td>\n",
       "      <td>56</td>\n",
       "      <td>11.29955</td>\n",
       "      <td>True</td>\n",
       "      <td>False</td>\n",
       "      <td>False</td>\n",
       "      <td>False</td>\n",
       "      <td>False</td>\n",
       "      <td>False</td>\n",
       "      <td>True</td>\n",
       "      <td>True</td>\n",
       "      <td>False</td>\n",
       "      <td>False</td>\n",
       "      <td>False</td>\n",
       "    </tr>\n",
       "    <tr>\n",
       "      <td>2</td>\n",
       "      <td>2011</td>\n",
       "      <td>2</td>\n",
       "      <td>3</td>\n",
       "      <td>1</td>\n",
       "      <td>10.66</td>\n",
       "      <td>56</td>\n",
       "      <td>11.29955</td>\n",
       "      <td>True</td>\n",
       "      <td>False</td>\n",
       "      <td>False</td>\n",
       "      <td>False</td>\n",
       "      <td>False</td>\n",
       "      <td>False</td>\n",
       "      <td>True</td>\n",
       "      <td>True</td>\n",
       "      <td>False</td>\n",
       "      <td>False</td>\n",
       "      <td>False</td>\n",
       "    </tr>\n",
       "    <tr>\n",
       "      <td>3</td>\n",
       "      <td>2011</td>\n",
       "      <td>3</td>\n",
       "      <td>3</td>\n",
       "      <td>1</td>\n",
       "      <td>10.66</td>\n",
       "      <td>56</td>\n",
       "      <td>11.00140</td>\n",
       "      <td>True</td>\n",
       "      <td>False</td>\n",
       "      <td>False</td>\n",
       "      <td>False</td>\n",
       "      <td>False</td>\n",
       "      <td>False</td>\n",
       "      <td>True</td>\n",
       "      <td>True</td>\n",
       "      <td>False</td>\n",
       "      <td>False</td>\n",
       "      <td>False</td>\n",
       "    </tr>\n",
       "    <tr>\n",
       "      <td>4</td>\n",
       "      <td>2011</td>\n",
       "      <td>4</td>\n",
       "      <td>3</td>\n",
       "      <td>1</td>\n",
       "      <td>10.66</td>\n",
       "      <td>56</td>\n",
       "      <td>11.00140</td>\n",
       "      <td>True</td>\n",
       "      <td>False</td>\n",
       "      <td>False</td>\n",
       "      <td>False</td>\n",
       "      <td>False</td>\n",
       "      <td>False</td>\n",
       "      <td>True</td>\n",
       "      <td>True</td>\n",
       "      <td>False</td>\n",
       "      <td>False</td>\n",
       "      <td>False</td>\n",
       "    </tr>\n",
       "  </tbody>\n",
       "</table>\n",
       "</div>"
      ],
      "text/plain": [
       "   Year  Hour  Dayofweek  workingday   temp  humidity  windspeed  weather_1  \\\n",
       "0  2011     0          3           1  10.66        56   26.00270       True   \n",
       "1  2011     1          3           1  10.66        56   11.29955       True   \n",
       "2  2011     2          3           1  10.66        56   11.29955       True   \n",
       "3  2011     3          3           1  10.66        56   11.00140       True   \n",
       "4  2011     4          3           1  10.66        56   11.00140       True   \n",
       "\n",
       "   weather_2  weather_3  season_1  season_2  season_3  season_4  THI_good  \\\n",
       "0      False      False     False     False     False      True      True   \n",
       "1      False      False     False     False     False      True      True   \n",
       "2      False      False     False     False     False      True      True   \n",
       "3      False      False     False     False     False      True      True   \n",
       "4      False      False     False     False     False      True      True   \n",
       "\n",
       "   THI_bad  THI_worse  THI_worst  \n",
       "0    False      False      False  \n",
       "1    False      False      False  \n",
       "2    False      False      False  \n",
       "3    False      False      False  \n",
       "4    False      False      False  "
      ]
     },
     "execution_count": 75,
     "metadata": {},
     "output_type": "execute_result"
    }
   ],
   "source": [
    "x_test = test[features]  #test 데이터에도 적용해 주도록 하겠습니다.\n",
    "print(x_test.shape)\n",
    "x_test.head()"
   ]
  },
  {
   "cell_type": "markdown",
   "metadata": {},
   "source": [
    "### 타겟 변수 설정"
   ]
  },
  {
   "cell_type": "code",
   "execution_count": 51,
   "metadata": {},
   "outputs": [
    {
     "name": "stdout",
     "output_type": "stream",
     "text": [
      "(10886,)\n"
     ]
    },
    {
     "data": {
      "text/plain": [
       "0    2.833213\n",
       "1    3.713572\n",
       "2    3.496508\n",
       "3    2.639057\n",
       "4    0.693147\n",
       "Name: count(log), dtype: float64"
      ]
     },
     "execution_count": 51,
     "metadata": {},
     "output_type": "execute_result"
    }
   ],
   "source": [
    "y_train = train['count(log)']  #타겟 변수인 count에 로그값을 적용한 데이터를 train 데이터에서 가져와 y_train으로 지정하도록 하겠습니다.\n",
    "print(y_train.shape)\n",
    "y_train.head()"
   ]
  },
  {
   "cell_type": "markdown",
   "metadata": {},
   "source": [
    "### 머신러닝 알고리즘 모델 적용"
   ]
  },
  {
   "cell_type": "markdown",
   "metadata": {},
   "source": [
    "머신러닝 알고리즘 모델에는 다양한 종류가 존재하나 이번에는 scikit-learn의 RandomForest를 이용해 보도록 하겠습니다. 이번 주제의 목표가 연속형 데이터 예측이기 때문에 회귀형 모델을 사용하도록 하겠습니다."
   ]
  },
  {
   "cell_type": "code",
   "execution_count": 52,
   "metadata": {},
   "outputs": [
    {
     "data": {
      "text/plain": [
       "RandomForestRegressor(bootstrap=True, criterion='mse', max_depth=None,\n",
       "                      max_features='auto', max_leaf_nodes=None,\n",
       "                      min_impurity_decrease=0.0, min_impurity_split=None,\n",
       "                      min_samples_leaf=1, min_samples_split=2,\n",
       "                      min_weight_fraction_leaf=0.0, n_estimators='warn',\n",
       "                      n_jobs=None, oob_score=False, random_state=None,\n",
       "                      verbose=0, warm_start=False)"
      ]
     },
     "execution_count": 52,
     "metadata": {},
     "output_type": "execute_result"
    }
   ],
   "source": [
    "from sklearn.ensemble import RandomForestRegressor  #scikit-learn에서 회귀형 RandomForest인 RandomForestRegressor 모델을 가져오도록 하겠습니다.\n",
    "model = RandomForestRegressor()  #불러온 모델을 model이라는 변수에 담아주도록 하겠습니다.\n",
    "model"
   ]
  },
  {
   "cell_type": "markdown",
   "metadata": {},
   "source": [
    "#### Hyperparmeter 설정"
   ]
  },
  {
   "cell_type": "markdown",
   "metadata": {},
   "source": [
    "머신러닝 모델의 옵션에 해당하는 hyperparameter의 최적값을 Grid Search로 찾아 보도록 하겠습니다. Grid Search를 하기 위해서는 모델을 평가할 스코어가 필요하므로 scikitlearn에서 make_scorer를 이용해 스코어 모델을 만든 후 hyperparameter 값을 찾도록 하겠습니다. 이번 캐글 자전거 수요 예측에서 평가 방법을 보면 RMSLE(Root Mean Squared Logamithric Error)인 것을 알 수 있습니다. 이는 평가에 로그값을 적용해 정답과 예측값의 차이가 클수록 페널티를 덜 주는 방식입니다. 하지만, 위에서 이미 목표 변수인 count에 로그값을 적용했으므로 RMSE(Root Mean Squared Error)를 이용하면 평가 양식에 맞는 스코어가 나올 것 같습니다."
   ]
  },
  {
   "cell_type": "code",
   "execution_count": 56,
   "metadata": {},
   "outputs": [
    {
     "data": {
      "text/plain": [
       "make_scorer(rmse)"
      ]
     },
     "execution_count": 56,
     "metadata": {},
     "output_type": "execute_result"
    }
   ],
   "source": [
    "from sklearn.metrics import make_scorer  #scikitlearn에서 make_scorer를 불러오도록 하겠습니다.\n",
    "\n",
    "def rmse(p, a):  #def를 이용해 예측값과 정답에 대한 rmse 함수를 정의하도록 하겠습니다.\n",
    "    p = np.array(p)  #예측값에 해당하는 부분을 p라는 변수로 만들도록 하겠습니다.\n",
    "    a = np.array(a)  #정답에 해당하는 부분을 a라는 변수로 만들도록 하겠습니다.\n",
    "                     #각 값에 array를 적용해 계산을 보다 빠르게 하도록 하겠습니다.\n",
    "    difference = p - a  #예측값과 정답의 차이를 difference라는 변수로 만들도록 하겠습니다.\n",
    "    \n",
    "    squared_difference = difference ** 2  #예측값과 정답의 차이에 제곱한 값을 squared_difference라는 변수로 만들도록 하겠습니다.\n",
    "    \n",
    "    mean_squared_difference = squared_difference.mean()  #예측값과 정답의 차이에 제곱한 값의 평균을 mean_squared_difference라는 변수로 만들도록 하겠습니다.\n",
    "    \n",
    "    score = np.sqrt(mean_squared_difference)  #마지막으로 numpy의 sqrt 루트값을 적용해 score라는 변수로 만들도록 하겠습니다.\n",
    "    \n",
    "    return score  #모든 연산을 한 후 스코어를 출력하도록 하겠습니다.\n",
    "\n",
    "rmse_score = make_scorer(rmse)  #새롭게 정의한 remse함수를 scikitlearn의 make_scorer를 이용해 사용할 수 있도록 만들고 이를 rmse_score라는 변수로 만들도록 하겠습니다.\n",
    "rmse_score"
   ]
  },
  {
   "cell_type": "code",
   "execution_count": 67,
   "metadata": {},
   "outputs": [
    {
     "name": "stdout",
     "output_type": "stream",
     "text": [
      "max_depth = 10, max_features = 0.1, Score = 0.799892552664518\n",
      "max_depth = 10, max_features = 0.3, Score = 0.5450654972755575\n",
      "max_depth = 10, max_features = 0.5, Score = 0.45286529608887777\n",
      "max_depth = 10, max_features = 0.7, Score = 0.4272842277885771\n",
      "max_depth = 10, max_features = 0.9, Score = 0.41776697561988707\n",
      "max_depth = 30, max_features = 0.1, Score = 0.6631041630675797\n",
      "max_depth = 30, max_features = 0.3, Score = 0.476708869714764\n",
      "max_depth = 30, max_features = 0.5, Score = 0.4078082505601036\n",
      "max_depth = 30, max_features = 0.7, Score = 0.39735505882237226\n",
      "max_depth = 30, max_features = 0.9, Score = 0.39623822876826637\n",
      "max_depth = 50, max_features = 0.1, Score = 0.6628600600109402\n",
      "max_depth = 50, max_features = 0.3, Score = 0.47692355020349286\n",
      "max_depth = 50, max_features = 0.5, Score = 0.4081469666889622\n",
      "max_depth = 50, max_features = 0.7, Score = 0.39793526470727436\n",
      "max_depth = 50, max_features = 0.9, Score = 0.39630910086012044\n",
      "max_depth = 70, max_features = 0.1, Score = 0.6628600600109402\n",
      "max_depth = 70, max_features = 0.3, Score = 0.47692355020349286\n",
      "max_depth = 70, max_features = 0.5, Score = 0.4081469666889622\n",
      "max_depth = 70, max_features = 0.7, Score = 0.39793526470727436\n",
      "max_depth = 70, max_features = 0.9, Score = 0.39630910086012044\n",
      "max_depth = 90, max_features = 0.1, Score = 0.6628600600109402\n",
      "max_depth = 90, max_features = 0.3, Score = 0.47692355020349286\n",
      "max_depth = 90, max_features = 0.5, Score = 0.4081469666889622\n",
      "max_depth = 90, max_features = 0.7, Score = 0.39793526470727436\n",
      "max_depth = 90, max_features = 0.9, Score = 0.39630910086012044\n",
      "(25, 3)\n"
     ]
    },
    {
     "data": {
      "text/html": [
       "<div>\n",
       "<style scoped>\n",
       "    .dataframe tbody tr th:only-of-type {\n",
       "        vertical-align: middle;\n",
       "    }\n",
       "\n",
       "    .dataframe tbody tr th {\n",
       "        vertical-align: top;\n",
       "    }\n",
       "\n",
       "    .dataframe thead th {\n",
       "        text-align: right;\n",
       "    }\n",
       "</style>\n",
       "<table border=\"1\" class=\"dataframe\">\n",
       "  <thead>\n",
       "    <tr style=\"text-align: right;\">\n",
       "      <th></th>\n",
       "      <th>max_depth</th>\n",
       "      <th>max_features</th>\n",
       "      <th>score</th>\n",
       "    </tr>\n",
       "  </thead>\n",
       "  <tbody>\n",
       "    <tr>\n",
       "      <td>9</td>\n",
       "      <td>30</td>\n",
       "      <td>0.9</td>\n",
       "      <td>0.396238</td>\n",
       "    </tr>\n",
       "    <tr>\n",
       "      <td>24</td>\n",
       "      <td>90</td>\n",
       "      <td>0.9</td>\n",
       "      <td>0.396309</td>\n",
       "    </tr>\n",
       "    <tr>\n",
       "      <td>19</td>\n",
       "      <td>70</td>\n",
       "      <td>0.9</td>\n",
       "      <td>0.396309</td>\n",
       "    </tr>\n",
       "    <tr>\n",
       "      <td>14</td>\n",
       "      <td>50</td>\n",
       "      <td>0.9</td>\n",
       "      <td>0.396309</td>\n",
       "    </tr>\n",
       "    <tr>\n",
       "      <td>8</td>\n",
       "      <td>30</td>\n",
       "      <td>0.7</td>\n",
       "      <td>0.397355</td>\n",
       "    </tr>\n",
       "    <tr>\n",
       "      <td>18</td>\n",
       "      <td>70</td>\n",
       "      <td>0.7</td>\n",
       "      <td>0.397935</td>\n",
       "    </tr>\n",
       "    <tr>\n",
       "      <td>13</td>\n",
       "      <td>50</td>\n",
       "      <td>0.7</td>\n",
       "      <td>0.397935</td>\n",
       "    </tr>\n",
       "    <tr>\n",
       "      <td>23</td>\n",
       "      <td>90</td>\n",
       "      <td>0.7</td>\n",
       "      <td>0.397935</td>\n",
       "    </tr>\n",
       "    <tr>\n",
       "      <td>7</td>\n",
       "      <td>30</td>\n",
       "      <td>0.5</td>\n",
       "      <td>0.407808</td>\n",
       "    </tr>\n",
       "    <tr>\n",
       "      <td>22</td>\n",
       "      <td>90</td>\n",
       "      <td>0.5</td>\n",
       "      <td>0.408147</td>\n",
       "    </tr>\n",
       "  </tbody>\n",
       "</table>\n",
       "</div>"
      ],
      "text/plain": [
       "    max_depth  max_features     score\n",
       "9          30           0.9  0.396238\n",
       "24         90           0.9  0.396309\n",
       "19         70           0.9  0.396309\n",
       "14         50           0.9  0.396309\n",
       "8          30           0.7  0.397355\n",
       "18         70           0.7  0.397935\n",
       "13         50           0.7  0.397935\n",
       "23         90           0.7  0.397935\n",
       "7          30           0.5  0.407808\n",
       "22         90           0.5  0.408147"
      ]
     },
     "execution_count": 67,
     "metadata": {},
     "output_type": "execute_result"
    }
   ],
   "source": [
    "from sklearn.model_selection import cross_val_score  #scikit-learn에서 교차검증 스코어 모델을 불러오도록 하겠습니다.\n",
    "\n",
    "n_estimators = 100  #랜덤포레스트에서 만들 트리의 갯수인 n_estimators는 갯수가 많을수록 좋으나 코드 구동에 있어서 갯수가 많을수록 오래걸려 우선은 간단한 값으로 설정한 후 머신러닝에 적용할 때 높이도록 하겠습니다.\n",
    "\n",
    "max_depth_list = [10, 30, 50, 70, 90]  #RandomForest에서 뿌리에 해당하는 max_depth의 후보를 20단위로 10~90의 값으로 설정하도록 하겠습니다.\n",
    "\n",
    "max_features_list = [0.1, 0.3, 0.5, 0.7, 0.9]  #전체 features 중 몇 퍼센트를 사용할지에 해당하는 max_features의 후보를 0.2단위로 0.1~0.9의 값으로 설정하도록 하겠습니다.\n",
    "\n",
    "hyperparameters_list = []  #hyperparameter 값의 결과를 리스트로 묶도록 하겠습니다.\n",
    "\n",
    "for max_depth in max_depth_list:  #max_depth_list의 값을 하나씩 반복해서 넣도록 하겠습니다.\n",
    "    for max_features in max_features_list:  #동시에 max_features_list의 값을 하나씩 반복해서 넣도록 하겠습니다.\n",
    "    \n",
    "        model = RandomForestRegressor(n_estimators = n_estimators, max_depth = max_depth, max_features = max_features, random_state = 7)  #결과가 아무렇게나 나오지 않도록 고정하기 위해 random_state를 사용하도록 하겠습니다.\n",
    "    \n",
    "        score = cross_val_score(model, x_train, y_train, cv = 20, scoring = rmse_score).mean()  #스코어 예측은 위에서 정의한 rmse로 하고 교차검증 20번의 평균 값을 출력하도록 하겠습니다.\n",
    "    \n",
    "        hyperparameters = {  #설정될 값을 각각 딕셔너리로 묶어주도록 하겠습니다.\n",
    "            'max_depth': max_depth,\n",
    "            'max_features': max_features,\n",
    "            'score': score,\n",
    "                      }\n",
    "    \n",
    "        hyperparameters_list.append(hyperparameters)  #무작위로 조합한 hyperparameter의 값을 리스트에 추가하도록 하겠습니다.\n",
    "    \n",
    "        print(f\"max_depth = {max_depth:2}, max_features = {max_features}, Score = {score}\")  #무작위로 조합된 hyperparameter의 값과 예측된 스코어를 출력하도록 하겠습니다.   \n",
    "\n",
    "hyperparameters_list = pd.DataFrame.from_dict(hyperparameters_list)  #리스트의 값들을 데이터 프레임화해 보기 좋게 만들도록 하겠습니다.\n",
    "          \n",
    "hyperparameters_list = hyperparameters_list.sort_values(by = 'score')  #예측된 스코어를 낮은 순으로 정렬하도록 하겠습니다.\n",
    "\n",
    "print(hyperparameters_list.shape)\n",
    "\n",
    "hyperparameters_list.head(10)  #출력된 데이터의 상위 10개 값을 보도록 하겠습니다."
   ]
  },
  {
   "cell_type": "markdown",
   "metadata": {},
   "source": [
    "출력 결과 9번째 결과가 0.396238의 스코어로 가장 좋은 결과를 냈습니다. 따라서 해당 스코어의 parameter인 max_depth 30과 max_features 0.9의 값을 RandomForest에 적용하도록 하겠습니다."
   ]
  },
  {
   "cell_type": "code",
   "execution_count": 68,
   "metadata": {},
   "outputs": [
    {
     "data": {
      "text/plain": [
       "RandomForestRegressor(bootstrap=True, criterion='mse', max_depth=30,\n",
       "                      max_features=0.9, max_leaf_nodes=None,\n",
       "                      min_impurity_decrease=0.0, min_impurity_split=None,\n",
       "                      min_samples_leaf=1, min_samples_split=2,\n",
       "                      min_weight_fraction_leaf=0.0, n_estimators=100, n_jobs=-1,\n",
       "                      oob_score=False, random_state=7, verbose=0,\n",
       "                      warm_start=False)"
      ]
     },
     "execution_count": 68,
     "metadata": {},
     "output_type": "execute_result"
    }
   ],
   "source": [
    "model = RandomForestRegressor(n_estimators = 100, max_depth = 30, max_features = 0.9, n_jobs = -1, random_state = 7)\n",
    "model"
   ]
  },
  {
   "cell_type": "markdown",
   "metadata": {},
   "source": [
    "#### 머신러닝 학습"
   ]
  },
  {
   "cell_type": "code",
   "execution_count": 77,
   "metadata": {},
   "outputs": [
    {
     "data": {
      "text/plain": [
       "RandomForestRegressor(bootstrap=True, criterion='mse', max_depth=30,\n",
       "                      max_features=0.9, max_leaf_nodes=None,\n",
       "                      min_impurity_decrease=0.0, min_impurity_split=None,\n",
       "                      min_samples_leaf=1, min_samples_split=2,\n",
       "                      min_weight_fraction_leaf=0.0, n_estimators=100, n_jobs=-1,\n",
       "                      oob_score=False, random_state=7, verbose=0,\n",
       "                      warm_start=False)"
      ]
     },
     "execution_count": 77,
     "metadata": {},
     "output_type": "execute_result"
    }
   ],
   "source": [
    "model.fit(x_train, y_train)  #정리한 훈련용 데이터를 RandomForest에 적용하도록 하겠습니다."
   ]
  },
  {
   "cell_type": "markdown",
   "metadata": {},
   "source": [
    "#### 결과 예측"
   ]
  },
  {
   "cell_type": "code",
   "execution_count": 79,
   "metadata": {},
   "outputs": [
    {
     "name": "stdout",
     "output_type": "stream",
     "text": [
      "(6493,)\n"
     ]
    },
    {
     "data": {
      "text/plain": [
       "array([3.01866561, 2.11095989, 1.93030208, 1.64288022, 1.38859849])"
      ]
     },
     "execution_count": 79,
     "metadata": {},
     "output_type": "execute_result"
    }
   ],
   "source": [
    "log_predictions = model.predict(x_test)  #학습된 머신러닝으로 test 데이터의 대여량을 예측하도록 하겠습니다.\n",
    "print(log_predictions.shape)\n",
    "log_predictions[:5]  #예측값의 상위 5개 값을 보도록 하겠습니다."
   ]
  },
  {
   "cell_type": "markdown",
   "metadata": {},
   "source": [
    "#### 예측 결과 로그값 제거"
   ]
  },
  {
   "cell_type": "markdown",
   "metadata": {},
   "source": [
    "목표 변수인 count에 로그값을 적용한 상태에서 예측을 했기 때문에 예측이 다 끝난 상황에서는 원래 값으로 돌려놓도록 하겠습니다."
   ]
  },
  {
   "cell_type": "code",
   "execution_count": 71,
   "metadata": {},
   "outputs": [
    {
     "name": "stdout",
     "output_type": "stream",
     "text": [
      "(6493,)\n"
     ]
    },
    {
     "data": {
      "text/plain": [
       "array([18.68093238,  8.20646002,  5.6573423 ,  3.9438954 ,  2.90675497])"
      ]
     },
     "execution_count": 71,
     "metadata": {},
     "output_type": "execute_result"
    }
   ],
   "source": [
    "predictions = np.exp(log_predictions) - 1  #numpy의 exp 지수값을 이용해 로그값에서 원래 목표값으로 돌려놓도록 하겠습니다.\n",
    "print(predictions.shape)\n",
    "predictions[:5]"
   ]
  },
  {
   "cell_type": "markdown",
   "metadata": {},
   "source": [
    "### 결과물 제출"
   ]
  },
  {
   "cell_type": "code",
   "execution_count": 72,
   "metadata": {},
   "outputs": [],
   "source": [
    "submit = pd.read_csv('sampleSubmission.csv')  #캐글 제출 파일 형식인 submission csv파일을 submit이라는 변수에 넣어주도록 하겠습니다.\n",
    "submit['count'] = predictions  #제출 파일의 타겟 변수에 예측값을 대입하도록 하겠습니다.\n",
    "submit.to_csv('최종 결과물.csv', index = False)  #to_csv 기능을 이용해 제출 파일을 따로 만들도록 하겠습니다. "
   ]
  }
 ],
 "metadata": {
  "kernelspec": {
   "display_name": "Python 3",
   "language": "python",
   "name": "python3"
  },
  "language_info": {
   "codemirror_mode": {
    "name": "ipython",
    "version": 3
   },
   "file_extension": ".py",
   "mimetype": "text/x-python",
   "name": "python",
   "nbconvert_exporter": "python",
   "pygments_lexer": "ipython3",
   "version": "3.7.4"
  }
 },
 "nbformat": 4,
 "nbformat_minor": 2
}
